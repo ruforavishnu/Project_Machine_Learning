{
 "cells": [
  {
   "cell_type": "code",
   "execution_count": 3,
   "metadata": {},
   "outputs": [
    {
     "name": "stdout",
     "output_type": "stream",
     "text": [
      "Requirement already satisfied: pandas in c:\\users\\vishnu ajit\\appdata\\local\\programs\\python\\python39\\lib\\site-packages (1.4.2)Note: you may need to restart the kernel to use updated packages.\n",
      "\n",
      "Requirement already satisfied: numpy in c:\\users\\vishnu ajit\\appdata\\local\\programs\\python\\python39\\lib\\site-packages (1.24.4)\n",
      "Requirement already satisfied: scikit-learn in c:\\users\\vishnu ajit\\appdata\\local\\programs\\python\\python39\\lib\\site-packages (1.0.2)\n",
      "Requirement already satisfied: nltk in c:\\users\\vishnu ajit\\appdata\\local\\programs\\python\\python39\\lib\\site-packages (3.8.1)\n",
      "Requirement already satisfied: python-dateutil>=2.8.1 in c:\\users\\vishnu ajit\\appdata\\local\\programs\\python\\python39\\lib\\site-packages (from pandas) (2.8.2)\n",
      "Requirement already satisfied: pytz>=2020.1 in c:\\users\\vishnu ajit\\appdata\\local\\programs\\python\\python39\\lib\\site-packages (from pandas) (2022.1)\n",
      "Requirement already satisfied: scipy>=1.1.0 in c:\\users\\vishnu ajit\\appdata\\local\\programs\\python\\python39\\lib\\site-packages (from scikit-learn) (1.13.1)\n",
      "Requirement already satisfied: joblib>=0.11 in c:\\users\\vishnu ajit\\appdata\\local\\programs\\python\\python39\\lib\\site-packages (from scikit-learn) (1.4.2)\n",
      "Requirement already satisfied: threadpoolctl>=2.0.0 in c:\\users\\vishnu ajit\\appdata\\local\\programs\\python\\python39\\lib\\site-packages (from scikit-learn) (3.1.0)\n",
      "Requirement already satisfied: click in c:\\users\\vishnu ajit\\appdata\\local\\programs\\python\\python39\\lib\\site-packages (from nltk) (8.1.7)\n",
      "Requirement already satisfied: regex>=2021.8.3 in c:\\users\\vishnu ajit\\appdata\\local\\programs\\python\\python39\\lib\\site-packages (from nltk) (2022.3.2)\n",
      "Requirement already satisfied: tqdm in c:\\users\\vishnu ajit\\appdata\\local\\programs\\python\\python39\\lib\\site-packages (from nltk) (4.66.1)\n",
      "Requirement already satisfied: six>=1.5 in c:\\users\\vishnu ajit\\appdata\\local\\programs\\python\\python39\\lib\\site-packages (from python-dateutil>=2.8.1->pandas) (1.16.0)\n",
      "Requirement already satisfied: colorama in c:\\users\\vishnu ajit\\appdata\\local\\programs\\python\\python39\\lib\\site-packages (from click->nltk) (0.4.5)\n"
     ]
    },
    {
     "name": "stderr",
     "output_type": "stream",
     "text": [
      "WARNING: Ignoring invalid distribution -umpy (c:\\users\\vishnu ajit\\appdata\\local\\programs\\python\\python39\\lib\\site-packages)\n",
      "WARNING: Ignoring invalid distribution -umpy (c:\\users\\vishnu ajit\\appdata\\local\\programs\\python\\python39\\lib\\site-packages)\n",
      "WARNING: Ignoring invalid distribution -umpy (c:\\users\\vishnu ajit\\appdata\\local\\programs\\python\\python39\\lib\\site-packages)\n"
     ]
    }
   ],
   "source": [
    "pip install pandas numpy scikit-learn nltk"
   ]
  },
  {
   "cell_type": "code",
   "execution_count": 4,
   "metadata": {},
   "outputs": [],
   "source": [
    "import pandas as pd\n",
    "import numpy as np\n",
    "\n",
    "from nltk.corpus import stopwords\n",
    "from sklearn.model_selection import train_test_split\n",
    "from sklearn.feature_extraction.text import TfidfVectorizer\n",
    "from sklearn.svm import SVC\n",
    "from sklearn.preprocessing import LabelEncoder\n",
    "from sklearn.metrics import accuracy_score, classification_report\n"
   ]
  },
  {
   "cell_type": "code",
   "execution_count": 5,
   "metadata": {},
   "outputs": [],
   "source": [
    "import nltk as nltk"
   ]
  },
  {
   "cell_type": "markdown",
   "metadata": {},
   "source": [
    "Load the Whisky Dataset"
   ]
  },
  {
   "cell_type": "code",
   "execution_count": 6,
   "metadata": {},
   "outputs": [
    {
     "name": "stdout",
     "output_type": "stream",
     "text": [
      "d:\\sandbox\\python\\experiments\\machine-learning-experiments\\Project-Machine-Learning\\datasets\n",
      "d:\\sandbox\\python\\experiments\\machine-learning-experiments\\Project-Machine-Learning\\datasets\\indian_whisky_dataset_100.csv\n"
     ]
    }
   ],
   "source": [
    "import os\n",
    "\n",
    "reqd_folder_path = os.path.join(os.getcwd(),'datasets')\n",
    "print(reqd_folder_path)\n",
    "\n",
    "dataset_file_path = os.path.join(reqd_folder_path,'indian_whisky_dataset_100.csv')\n",
    "print(dataset_file_path)"
   ]
  },
  {
   "cell_type": "code",
   "execution_count": 7,
   "metadata": {},
   "outputs": [
    {
     "name": "stdout",
     "output_type": "stream",
     "text": [
      "0             Royal Stag\n",
      "1         Blenders Pride\n",
      "2          Imperial Blue\n",
      "3        McDowell's No.1\n",
      "4         Antiquity Blue\n",
      "5              Signature\n",
      "6       Rockford Reserve\n",
      "7             Peter Scot\n",
      "8        Royal Challenge\n",
      "9       Officer's Choice\n",
      "10                  8 PM\n",
      "11              Bagpiper\n",
      "12    Director’s Special\n",
      "13            Red Knight\n",
      "14            After Dark\n",
      "15          White & Blue\n",
      "16        Golden Chariot\n",
      "17              Haywards\n",
      "18         Mansion House\n",
      "19             Black Dog\n",
      "Name: Brand Name, dtype: object\n"
     ]
    }
   ],
   "source": [
    "temp_df = pd.read_csv(dataset_file_path)\n",
    "print(temp_df['Brand Name'][0:20])"
   ]
  },
  {
   "cell_type": "code",
   "execution_count": 8,
   "metadata": {},
   "outputs": [
    {
     "name": "stdout",
     "output_type": "stream",
     "text": [
      "        Brand Name                       Tasting Notes  Alcohol Content (%)  \\\n",
      "0       Royal Stag     cinnamon, woody, oak, chocolate                 42.2   \n",
      "1   Blenders Pride           citrus, oak, spicy, peaty                 40.2   \n",
      "2    Imperial Blue         spicy, oak, honey, cinnamon                 42.5   \n",
      "3  McDowell's No.1  floral, peaty, chocolate, cinnamon                 45.7   \n",
      "4   Antiquity Blue    chocolate, nutty, spicy, caramel                 45.6   \n",
      "\n",
      "   Price (INR)  \n",
      "0         1964  \n",
      "1         2681  \n",
      "2         2981  \n",
      "3         2503  \n",
      "4         4536  \n"
     ]
    }
   ],
   "source": [
    "df = pd.read_csv(dataset_file_path)\n",
    "print(df.head())"
   ]
  },
  {
   "cell_type": "code",
   "execution_count": 9,
   "metadata": {},
   "outputs": [
    {
     "data": {
      "text/html": [
       "<div>\n",
       "<style scoped>\n",
       "    .dataframe tbody tr th:only-of-type {\n",
       "        vertical-align: middle;\n",
       "    }\n",
       "\n",
       "    .dataframe tbody tr th {\n",
       "        vertical-align: top;\n",
       "    }\n",
       "\n",
       "    .dataframe thead th {\n",
       "        text-align: right;\n",
       "    }\n",
       "</style>\n",
       "<table border=\"1\" class=\"dataframe\">\n",
       "  <thead>\n",
       "    <tr style=\"text-align: right;\">\n",
       "      <th></th>\n",
       "      <th>Brand Name</th>\n",
       "      <th>Tasting Notes</th>\n",
       "      <th>Alcohol Content (%)</th>\n",
       "      <th>Price (INR)</th>\n",
       "    </tr>\n",
       "  </thead>\n",
       "  <tbody>\n",
       "    <tr>\n",
       "      <th>0</th>\n",
       "      <td>Royal Stag</td>\n",
       "      <td>cinnamon, woody, oak, chocolate</td>\n",
       "      <td>42.2</td>\n",
       "      <td>1964</td>\n",
       "    </tr>\n",
       "    <tr>\n",
       "      <th>1</th>\n",
       "      <td>Blenders Pride</td>\n",
       "      <td>citrus, oak, spicy, peaty</td>\n",
       "      <td>40.2</td>\n",
       "      <td>2681</td>\n",
       "    </tr>\n",
       "    <tr>\n",
       "      <th>2</th>\n",
       "      <td>Imperial Blue</td>\n",
       "      <td>spicy, oak, honey, cinnamon</td>\n",
       "      <td>42.5</td>\n",
       "      <td>2981</td>\n",
       "    </tr>\n",
       "    <tr>\n",
       "      <th>3</th>\n",
       "      <td>McDowell's No.1</td>\n",
       "      <td>floral, peaty, chocolate, cinnamon</td>\n",
       "      <td>45.7</td>\n",
       "      <td>2503</td>\n",
       "    </tr>\n",
       "    <tr>\n",
       "      <th>4</th>\n",
       "      <td>Antiquity Blue</td>\n",
       "      <td>chocolate, nutty, spicy, caramel</td>\n",
       "      <td>45.6</td>\n",
       "      <td>4536</td>\n",
       "    </tr>\n",
       "    <tr>\n",
       "      <th>...</th>\n",
       "      <td>...</td>\n",
       "      <td>...</td>\n",
       "      <td>...</td>\n",
       "      <td>...</td>\n",
       "    </tr>\n",
       "    <tr>\n",
       "      <th>95</th>\n",
       "      <td>Sovereign Malt</td>\n",
       "      <td>floral, cinnamon, peaty, buttery</td>\n",
       "      <td>43.1</td>\n",
       "      <td>3522</td>\n",
       "    </tr>\n",
       "    <tr>\n",
       "      <th>96</th>\n",
       "      <td>Glen Royale</td>\n",
       "      <td>woody, fruity, oak, citrus</td>\n",
       "      <td>41.2</td>\n",
       "      <td>2252</td>\n",
       "    </tr>\n",
       "    <tr>\n",
       "      <th>97</th>\n",
       "      <td>Cask Master</td>\n",
       "      <td>smoky, peaty, cinnamon, fruity</td>\n",
       "      <td>43.4</td>\n",
       "      <td>3182</td>\n",
       "    </tr>\n",
       "    <tr>\n",
       "      <th>98</th>\n",
       "      <td>Crestwood Select</td>\n",
       "      <td>chocolate, fruity, caramel, honey</td>\n",
       "      <td>45.3</td>\n",
       "      <td>4556</td>\n",
       "    </tr>\n",
       "    <tr>\n",
       "      <th>99</th>\n",
       "      <td>Monarch Blue</td>\n",
       "      <td>smoky, woody, spicy, chocolate</td>\n",
       "      <td>45.2</td>\n",
       "      <td>2422</td>\n",
       "    </tr>\n",
       "  </tbody>\n",
       "</table>\n",
       "<p>100 rows × 4 columns</p>\n",
       "</div>"
      ],
      "text/plain": [
       "          Brand Name                       Tasting Notes  Alcohol Content (%)  \\\n",
       "0         Royal Stag     cinnamon, woody, oak, chocolate                 42.2   \n",
       "1     Blenders Pride           citrus, oak, spicy, peaty                 40.2   \n",
       "2      Imperial Blue         spicy, oak, honey, cinnamon                 42.5   \n",
       "3    McDowell's No.1  floral, peaty, chocolate, cinnamon                 45.7   \n",
       "4     Antiquity Blue    chocolate, nutty, spicy, caramel                 45.6   \n",
       "..               ...                                 ...                  ...   \n",
       "95    Sovereign Malt    floral, cinnamon, peaty, buttery                 43.1   \n",
       "96       Glen Royale          woody, fruity, oak, citrus                 41.2   \n",
       "97       Cask Master      smoky, peaty, cinnamon, fruity                 43.4   \n",
       "98  Crestwood Select   chocolate, fruity, caramel, honey                 45.3   \n",
       "99      Monarch Blue      smoky, woody, spicy, chocolate                 45.2   \n",
       "\n",
       "    Price (INR)  \n",
       "0          1964  \n",
       "1          2681  \n",
       "2          2981  \n",
       "3          2503  \n",
       "4          4536  \n",
       "..          ...  \n",
       "95         3522  \n",
       "96         2252  \n",
       "97         3182  \n",
       "98         4556  \n",
       "99         2422  \n",
       "\n",
       "[100 rows x 4 columns]"
      ]
     },
     "execution_count": 9,
     "metadata": {},
     "output_type": "execute_result"
    }
   ],
   "source": [
    "df"
   ]
  },
  {
   "cell_type": "code",
   "execution_count": 10,
   "metadata": {},
   "outputs": [
    {
     "name": "stdout",
     "output_type": "stream",
     "text": [
      "<class 'pandas.core.frame.DataFrame'>\n",
      "RangeIndex: 100 entries, 0 to 99\n",
      "Data columns (total 4 columns):\n",
      " #   Column               Non-Null Count  Dtype  \n",
      "---  ------               --------------  -----  \n",
      " 0   Brand Name           100 non-null    object \n",
      " 1   Tasting Notes        100 non-null    object \n",
      " 2   Alcohol Content (%)  100 non-null    float64\n",
      " 3   Price (INR)          100 non-null    int64  \n",
      "dtypes: float64(1), int64(1), object(2)\n",
      "memory usage: 3.2+ KB\n"
     ]
    }
   ],
   "source": [
    "df.info()"
   ]
  },
  {
   "cell_type": "markdown",
   "metadata": {},
   "source": [
    "Preprocess the Data"
   ]
  },
  {
   "cell_type": "code",
   "execution_count": 11,
   "metadata": {},
   "outputs": [
    {
     "name": "stdout",
     "output_type": "stream",
     "text": [
      "Brand Name             0\n",
      "Tasting Notes          0\n",
      "Alcohol Content (%)    0\n",
      "Price (INR)            0\n",
      "dtype: int64\n"
     ]
    }
   ],
   "source": [
    "print(df.isnull().sum())"
   ]
  },
  {
   "cell_type": "code",
   "execution_count": null,
   "metadata": {},
   "outputs": [],
   "source": [
    "df.fillna(df.mode().iloc[0], inplace=True)"
   ]
  },
  {
   "cell_type": "code",
   "execution_count": 13,
   "metadata": {},
   "outputs": [
    {
     "data": {
      "text/html": [
       "<div>\n",
       "<style scoped>\n",
       "    .dataframe tbody tr th:only-of-type {\n",
       "        vertical-align: middle;\n",
       "    }\n",
       "\n",
       "    .dataframe tbody tr th {\n",
       "        vertical-align: top;\n",
       "    }\n",
       "\n",
       "    .dataframe thead th {\n",
       "        text-align: right;\n",
       "    }\n",
       "</style>\n",
       "<table border=\"1\" class=\"dataframe\">\n",
       "  <thead>\n",
       "    <tr style=\"text-align: right;\">\n",
       "      <th></th>\n",
       "      <th>Brand Name</th>\n",
       "      <th>Tasting Notes</th>\n",
       "      <th>Alcohol Content (%)</th>\n",
       "      <th>Price (INR)</th>\n",
       "    </tr>\n",
       "  </thead>\n",
       "  <tbody>\n",
       "    <tr>\n",
       "      <th>0</th>\n",
       "      <td>Royal Stag</td>\n",
       "      <td>cinnamon, woody, oak, chocolate</td>\n",
       "      <td>42.2</td>\n",
       "      <td>1964</td>\n",
       "    </tr>\n",
       "    <tr>\n",
       "      <th>1</th>\n",
       "      <td>Blenders Pride</td>\n",
       "      <td>citrus, oak, spicy, peaty</td>\n",
       "      <td>40.2</td>\n",
       "      <td>2681</td>\n",
       "    </tr>\n",
       "    <tr>\n",
       "      <th>2</th>\n",
       "      <td>Imperial Blue</td>\n",
       "      <td>spicy, oak, honey, cinnamon</td>\n",
       "      <td>42.5</td>\n",
       "      <td>2981</td>\n",
       "    </tr>\n",
       "    <tr>\n",
       "      <th>3</th>\n",
       "      <td>McDowell's No.1</td>\n",
       "      <td>floral, peaty, chocolate, cinnamon</td>\n",
       "      <td>45.7</td>\n",
       "      <td>2503</td>\n",
       "    </tr>\n",
       "    <tr>\n",
       "      <th>4</th>\n",
       "      <td>Antiquity Blue</td>\n",
       "      <td>chocolate, nutty, spicy, caramel</td>\n",
       "      <td>45.6</td>\n",
       "      <td>4536</td>\n",
       "    </tr>\n",
       "    <tr>\n",
       "      <th>...</th>\n",
       "      <td>...</td>\n",
       "      <td>...</td>\n",
       "      <td>...</td>\n",
       "      <td>...</td>\n",
       "    </tr>\n",
       "    <tr>\n",
       "      <th>95</th>\n",
       "      <td>Sovereign Malt</td>\n",
       "      <td>floral, cinnamon, peaty, buttery</td>\n",
       "      <td>43.1</td>\n",
       "      <td>3522</td>\n",
       "    </tr>\n",
       "    <tr>\n",
       "      <th>96</th>\n",
       "      <td>Glen Royale</td>\n",
       "      <td>woody, fruity, oak, citrus</td>\n",
       "      <td>41.2</td>\n",
       "      <td>2252</td>\n",
       "    </tr>\n",
       "    <tr>\n",
       "      <th>97</th>\n",
       "      <td>Cask Master</td>\n",
       "      <td>smoky, peaty, cinnamon, fruity</td>\n",
       "      <td>43.4</td>\n",
       "      <td>3182</td>\n",
       "    </tr>\n",
       "    <tr>\n",
       "      <th>98</th>\n",
       "      <td>Crestwood Select</td>\n",
       "      <td>chocolate, fruity, caramel, honey</td>\n",
       "      <td>45.3</td>\n",
       "      <td>4556</td>\n",
       "    </tr>\n",
       "    <tr>\n",
       "      <th>99</th>\n",
       "      <td>Monarch Blue</td>\n",
       "      <td>smoky, woody, spicy, chocolate</td>\n",
       "      <td>45.2</td>\n",
       "      <td>2422</td>\n",
       "    </tr>\n",
       "  </tbody>\n",
       "</table>\n",
       "<p>100 rows × 4 columns</p>\n",
       "</div>"
      ],
      "text/plain": [
       "          Brand Name                       Tasting Notes  Alcohol Content (%)  \\\n",
       "0         Royal Stag     cinnamon, woody, oak, chocolate                 42.2   \n",
       "1     Blenders Pride           citrus, oak, spicy, peaty                 40.2   \n",
       "2      Imperial Blue         spicy, oak, honey, cinnamon                 42.5   \n",
       "3    McDowell's No.1  floral, peaty, chocolate, cinnamon                 45.7   \n",
       "4     Antiquity Blue    chocolate, nutty, spicy, caramel                 45.6   \n",
       "..               ...                                 ...                  ...   \n",
       "95    Sovereign Malt    floral, cinnamon, peaty, buttery                 43.1   \n",
       "96       Glen Royale          woody, fruity, oak, citrus                 41.2   \n",
       "97       Cask Master      smoky, peaty, cinnamon, fruity                 43.4   \n",
       "98  Crestwood Select   chocolate, fruity, caramel, honey                 45.3   \n",
       "99      Monarch Blue      smoky, woody, spicy, chocolate                 45.2   \n",
       "\n",
       "    Price (INR)  \n",
       "0          1964  \n",
       "1          2681  \n",
       "2          2981  \n",
       "3          2503  \n",
       "4          4536  \n",
       "..          ...  \n",
       "95         3522  \n",
       "96         2252  \n",
       "97         3182  \n",
       "98         4556  \n",
       "99         2422  \n",
       "\n",
       "[100 rows x 4 columns]"
      ]
     },
     "execution_count": 13,
     "metadata": {},
     "output_type": "execute_result"
    }
   ],
   "source": [
    "df"
   ]
  },
  {
   "cell_type": "markdown",
   "metadata": {},
   "source": [
    "Encode categorical variables"
   ]
  },
  {
   "cell_type": "code",
   "execution_count": 14,
   "metadata": {},
   "outputs": [
    {
     "name": "stdout",
     "output_type": "stream",
     "text": [
      "   Brand Name  Tasting Notes  Alcohol Content (%)  Price (INR)\n",
      "0          43             25                 42.2         1964\n",
      "1           8             29                 40.2         2681\n",
      "2          25             86                 42.5         2981\n",
      "3          30             36                 45.7         2503\n",
      "4           4             19                 45.6         4536\n"
     ]
    }
   ],
   "source": [
    "from sklearn.preprocessing import LabelEncoder\n",
    "\n",
    "\n",
    "label_encoders = {}\n",
    "\n",
    "for col in df.select_dtypes(include=['object']).columns:\n",
    "    le = LabelEncoder()\n",
    "    df[col] = le.fit_transform(df[col])\n",
    "    label_encoders[col] = le\n",
    "\n",
    "print(df.head())    \n",
    "\n",
    "\n"
   ]
  },
  {
   "cell_type": "markdown",
   "metadata": {},
   "source": [
    "Feature Selection & Normalization"
   ]
  },
  {
   "cell_type": "code",
   "execution_count": 15,
   "metadata": {},
   "outputs": [],
   "source": [
    "from sklearn.preprocessing import StandardScaler\n",
    "\n",
    "feature_columns = [col for col in df.columns if col!='Brand Name']\n",
    "X = df[feature_columns]\n",
    "\n",
    "\n",
    "\n"
   ]
  },
  {
   "cell_type": "code",
   "execution_count": 16,
   "metadata": {},
   "outputs": [],
   "source": [
    "scaler = StandardScaler()\n",
    "X_scaled = scaler.fit_transform(X)"
   ]
  },
  {
   "cell_type": "code",
   "execution_count": 17,
   "metadata": {},
   "outputs": [],
   "source": [
    "X_scaled_df = pd.DataFrame(X_scaled, columns=feature_columns)\n"
   ]
  },
  {
   "cell_type": "code",
   "execution_count": 19,
   "metadata": {},
   "outputs": [],
   "source": [
    "y = df['Brand Name']"
   ]
  },
  {
   "cell_type": "markdown",
   "metadata": {},
   "source": [
    "Train the SVM Model"
   ]
  },
  {
   "cell_type": "code",
   "execution_count": 20,
   "metadata": {},
   "outputs": [
    {
     "data": {
      "text/plain": [
       "SVC(kernel='linear', probability=True)"
      ]
     },
     "execution_count": 20,
     "metadata": {},
     "output_type": "execute_result"
    }
   ],
   "source": [
    "from sklearn.svm import SVC\n",
    "\n",
    "svm_model = SVC(kernel='linear', probability=True)\n",
    "svm_model.fit(X_scaled_df,y)\n"
   ]
  },
  {
   "cell_type": "markdown",
   "metadata": {},
   "source": [
    " Recommend a Similar Whiskey Brand"
   ]
  },
  {
   "cell_type": "code",
   "execution_count": 21,
   "metadata": {},
   "outputs": [],
   "source": [
    "import numpy as np\n",
    "\n",
    "def recommend_whisky(chosen_whisky):\n",
    "\n",
    "    encoded_chosen = label_encoders['Brand Name'].transform([chosen_whisky])[0]\n",
    "    # print(f'encoded chosen: {encoded_chosen}')\n",
    "\n",
    "    whisky_index = df[df['Brand Name'] == encoded_chosen].index[0]\n",
    "    \n",
    "    # print(f'whisky_index: {whisky_index}')\n",
    "\n",
    "    whisky_features = X_scaled_df.iloc[whisky_index].values.reshape(1, -1)\n",
    "    # print(f'whisky_features: {whisky_features}')\n",
    "\n",
    "    from sklearn.metrics.pairwise import cosine_similarity\n",
    "    similiarities = cosine_similarity(whisky_features, X_scaled_df)\n",
    "    # print(f'similiarities: {similiarities}')\n",
    "    similiar_index = np.argsort(similiarities[0])[-2]\n",
    "    # print(f'similiar_index: {similiar_index}')\n",
    "\n",
    "\n",
    "    recommended_encoded = df.iloc[similiar_index]['Brand Name']\n",
    "    recommended_encoded = int(recommended_encoded)\n",
    "    # print(f'recommended_encoded: {recommended_encoded}')\n",
    "\n",
    "    recommended_brand = label_encoders['Brand Name'].inverse_transform([recommended_encoded])\n",
    "    # print(f'recommended_brand: {recommended_brand}')\n",
    "    \n",
    "\n",
    "\n",
    "    return recommended_brand\n",
    "\n"
   ]
  },
  {
   "cell_type": "markdown",
   "metadata": {},
   "source": [
    "Now predict similiar brand"
   ]
  },
  {
   "cell_type": "code",
   "execution_count": 22,
   "metadata": {},
   "outputs": [
    {
     "name": "stdout",
     "output_type": "stream",
     "text": [
      "If you like Signature, you might also enjoy ['Noble Spirit']\n"
     ]
    }
   ],
   "source": [
    "chosen_whisky = 'Signature'\n",
    "recommended = recommend_whisky(chosen_whisky)\n",
    "\n",
    "print(f'If you like {chosen_whisky}, you might also enjoy {recommended}')"
   ]
  },
  {
   "cell_type": "markdown",
   "metadata": {},
   "source": [
    "Brilliant!\n"
   ]
  },
  {
   "cell_type": "markdown",
   "metadata": {},
   "source": [
    "Now, lets see if we can add a dropdown list for the whisky brands. So things get easier."
   ]
  },
  {
   "cell_type": "code",
   "execution_count": 23,
   "metadata": {},
   "outputs": [
    {
     "name": "stdout",
     "output_type": "stream",
     "text": [
      "If you like 8 PM, you might also enjoy ['Antiquity Blue']\n"
     ]
    }
   ],
   "source": [
    "chosen_whisky2 = '8 PM'\n",
    "recommended = recommend_whisky(chosen_whisky2)\n",
    "\n",
    "print(f'If you like {chosen_whisky2}, you might also enjoy {recommended}')"
   ]
  },
  {
   "cell_type": "markdown",
   "metadata": {},
   "source": [
    "Trying ipywidgets"
   ]
  },
  {
   "cell_type": "code",
   "execution_count": 24,
   "metadata": {},
   "outputs": [
    {
     "data": {
      "application/vnd.jupyter.widget-view+json": {
       "model_id": "dac4851fb20f42c2b1201a41a7c6c7f2",
       "version_major": 2,
       "version_minor": 0
      },
      "text/plain": [
       "Dropdown(description='Select your brand of whisky', layout=Layout(width='500px'), options=('Signature', '8 PM'…"
      ]
     },
     "metadata": {},
     "output_type": "display_data"
    },
    {
     "name": "stdout",
     "output_type": "stream",
     "text": [
      "Selected value: Signature\n"
     ]
    }
   ],
   "source": [
    "import ipywidgets as widgets\n",
    "from IPython.display import display\n",
    "\n",
    "\n",
    "mydropdown = widgets.Dropdown(\n",
    "    options = ['Signature', '8 PM', 'Blenders Pride', 'Royal Challenge','After Dark','Black Dog' ],\n",
    "    value='Signature',\n",
    "    description='Select your brand of whisky',\n",
    "    disabled=False,\n",
    "    layout=widgets.Layout(width='500px'),\n",
    "    style={'description_width':'300px'}\n",
    "    )\n",
    "\n",
    "\n",
    "display(mydropdown)\n",
    "\n",
    "def get_selected_value():\n",
    "    return mydropdown.value\n",
    "\n",
    "print(f'Selected value: {get_selected_value()}')\n",
    "\n",
    "\n"
   ]
  },
  {
   "cell_type": "code",
   "execution_count": 26,
   "metadata": {},
   "outputs": [
    {
     "name": "stdout",
     "output_type": "stream",
     "text": [
      "If you like Royal Challenge, you might also enjoy ['Director’s Special']\n"
     ]
    }
   ],
   "source": [
    "chosen_whisky3 = get_selected_value()\n",
    "recommended = recommend_whisky(chosen_whisky3)\n",
    "\n",
    "print(f'If you like {chosen_whisky3}, you might also enjoy {recommended}')"
   ]
  },
  {
   "cell_type": "markdown",
   "metadata": {},
   "source": [
    "-----------------------"
   ]
  },
  {
   "cell_type": "markdown",
   "metadata": {},
   "source": [
    "We have successfully created an Artificial Intelligence model using Support Vector Machine that reccommends a brand of Whiskey from your whisky preferences."
   ]
  },
  {
   "cell_type": "markdown",
   "metadata": {},
   "source": [
    "Project successfully completed"
   ]
  }
 ],
 "metadata": {
  "kernelspec": {
   "display_name": "Python 3",
   "language": "python",
   "name": "python3"
  },
  "language_info": {
   "codemirror_mode": {
    "name": "ipython",
    "version": 3
   },
   "file_extension": ".py",
   "mimetype": "text/x-python",
   "name": "python",
   "nbconvert_exporter": "python",
   "pygments_lexer": "ipython3",
   "version": "3.9.7"
  }
 },
 "nbformat": 4,
 "nbformat_minor": 2
}
