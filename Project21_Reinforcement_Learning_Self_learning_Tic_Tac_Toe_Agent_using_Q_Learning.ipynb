{
  "nbformat": 4,
  "nbformat_minor": 0,
  "metadata": {
    "colab": {
      "provenance": [],
      "authorship_tag": "ABX9TyPz543pGdngQKhICKYi2Hki",
      "include_colab_link": true
    },
    "kernelspec": {
      "name": "python3",
      "display_name": "Python 3"
    },
    "language_info": {
      "name": "python"
    }
  },
  "cells": [
    {
      "cell_type": "markdown",
      "metadata": {
        "id": "view-in-github",
        "colab_type": "text"
      },
      "source": [
        "<a href=\"https://colab.research.google.com/github/ruforavishnu/Project_Machine_Learning/blob/master/Project21_Reinforcement_Learning_Self_learning_Tic_Tac_Toe_Agent_using_Q_Learning.ipynb\" target=\"_parent\"><img src=\"https://colab.research.google.com/assets/colab-badge.svg\" alt=\"Open In Colab\"/></a>"
      ]
    },
    {
      "cell_type": "code",
      "execution_count": 1,
      "metadata": {
        "colab": {
          "base_uri": "https://localhost:8080/"
        },
        "id": "ETa-MA4XvMjE",
        "outputId": "714d83cb-9b06-4d51-cd36-6abc5f2e0c42"
      },
      "outputs": [
        {
          "output_type": "stream",
          "name": "stdout",
          "text": [
            "Requirement already satisfied: numpy in /usr/local/lib/python3.11/dist-packages (2.0.2)\n",
            "Requirement already satisfied: matplotlib in /usr/local/lib/python3.11/dist-packages (3.10.0)\n",
            "Requirement already satisfied: contourpy>=1.0.1 in /usr/local/lib/python3.11/dist-packages (from matplotlib) (1.3.2)\n",
            "Requirement already satisfied: cycler>=0.10 in /usr/local/lib/python3.11/dist-packages (from matplotlib) (0.12.1)\n",
            "Requirement already satisfied: fonttools>=4.22.0 in /usr/local/lib/python3.11/dist-packages (from matplotlib) (4.58.5)\n",
            "Requirement already satisfied: kiwisolver>=1.3.1 in /usr/local/lib/python3.11/dist-packages (from matplotlib) (1.4.8)\n",
            "Requirement already satisfied: packaging>=20.0 in /usr/local/lib/python3.11/dist-packages (from matplotlib) (24.2)\n",
            "Requirement already satisfied: pillow>=8 in /usr/local/lib/python3.11/dist-packages (from matplotlib) (11.2.1)\n",
            "Requirement already satisfied: pyparsing>=2.3.1 in /usr/local/lib/python3.11/dist-packages (from matplotlib) (3.2.3)\n",
            "Requirement already satisfied: python-dateutil>=2.7 in /usr/local/lib/python3.11/dist-packages (from matplotlib) (2.9.0.post0)\n",
            "Requirement already satisfied: six>=1.5 in /usr/local/lib/python3.11/dist-packages (from python-dateutil>=2.7->matplotlib) (1.17.0)\n"
          ]
        }
      ],
      "source": [
        "pip install numpy matplotlib"
      ]
    },
    {
      "cell_type": "code",
      "source": [
        "import numpy as np\n",
        "\n",
        "class TicTacToe:\n",
        "  def __init__(self):\n",
        "    self.reset()\n",
        "\n",
        "  def reset(self):\n",
        "    self.board = np.zeros((3,3), dtype=int)\n",
        "    self.done = False\n",
        "    self.winner = None\n",
        "    return self.get_state()\n",
        "\n",
        "  def get_state(self):\n",
        "    return tuple(self.board.reshape(9))\n",
        "\n",
        "  def available_actions(self):\n",
        "    return [i for i in range(9) if self.board[i//3 , i%3] == 0]\n",
        "\n",
        "  def step(self, action , player):\n",
        "    if self.board[action//3, action%3] != 0:\n",
        "      return self.get_state(), -10, True\n",
        "\n",
        "    self.board[action//3, action%3] = player\n",
        "    reward, done = self.check_game(player)\n",
        "    return self.get_state(), reward, done\n",
        "\n",
        "  def check_game(self, player):\n",
        "    for i in range(3):\n",
        "      if all(self.board[i, :] == player) or all(self.board[:, i] == player):\n",
        "        return i, True\n",
        "\n",
        "      if self.board.trace() == player*3 or np.fliplr(self.board).trace() == player*3:\n",
        "        return 1, True\n",
        "\n",
        "      if not any(0 in row for row in self.board):\n",
        "        return 0.5, True\n",
        "\n",
        "      return 0, False\n",
        "\n",
        "\n",
        "  def render(self):\n",
        "    print(self.board)\n",
        "\n",
        "\n"
      ],
      "metadata": {
        "id": "wA2neBWVvk41"
      },
      "execution_count": 2,
      "outputs": []
    },
    {
      "cell_type": "markdown",
      "source": [
        " Implement the Q-Learning Agent"
      ],
      "metadata": {
        "id": "jXx18_jQxSpL"
      }
    },
    {
      "cell_type": "code",
      "source": [
        "import random\n",
        "\n",
        "class QLearningAgent:\n",
        "  def __init__(self, alpha=0.1, gamma=0.9, epsilon=1.0, epsilon_decay=0.995):\n",
        "    self.q_table = {}\n",
        "    self.alpha = alpha\n",
        "    self.gamma = gamma\n",
        "    self.epsilon = epsilon\n",
        "    self.epsilon_decay = epsilon_decay\n",
        "\n",
        "\n",
        "  def get_qs(self, state):\n",
        "    if state not in self.q_table:\n",
        "      self.q_table[state] = np.zeros(9)\n",
        "\n",
        "    return self.q_table[state]\n",
        "\n",
        "\n",
        "  def choose_action(self, state, available_actions):\n",
        "    if random.random() < self.epsilon:\n",
        "      return random.choice(available_actions)\n",
        "\n",
        "    else:\n",
        "      qs = self.get_qs(state)\n",
        "\n",
        "      masked_qs = np.full(9, -np.inf)\n",
        "      for a in available_actions:\n",
        "        masked_qs[a] = qs[a]\n",
        "\n",
        "      return np.argmax(masked_qs)\n",
        "\n",
        "  def learn(self, s, a, r, s_, done, available_actions):\n",
        "    current_q = self.get_qs(s)[a]\n",
        "    max_future_q = 0 if done else max(self.get_qs(s_)[a_] for a_ in available_actions)\n",
        "    new_q = current_q + self.alpha * (r + self.gamma * max_future_q - current_q)\n",
        "    self.q_table[s][a] = new_q\n",
        "\n",
        "\n",
        "\n",
        "\n"
      ],
      "metadata": {
        "id": "ym6bd9BjxTFp"
      },
      "execution_count": 7,
      "outputs": []
    },
    {
      "cell_type": "markdown",
      "source": [
        "Train the Agent (Self-Play)"
      ],
      "metadata": {
        "id": "cpCxLS4IyzvC"
      }
    },
    {
      "cell_type": "code",
      "source": [
        "env = TicTacToe()\n",
        "agent = QLearningAgent()\n",
        "\n",
        "\n",
        "episodes = 100_000\n",
        "for ep in range(episodes):\n",
        "  state = env.reset()\n",
        "  done = False\n",
        "\n",
        "  while not done:\n",
        "    actions = env.available_actions()\n",
        "    action = agent.choose_action(state, actions)\n",
        "    next_state , reward, done = env.step(action, player=1)\n",
        "\n",
        "\n",
        "    #Opponent random move\n",
        "    if not done:\n",
        "      opp_actions = env.available_actions()\n",
        "      if opp_actions:\n",
        "        opp_action = random.choice(opp_actions)\n",
        "        next_state2, opp_reward,done = env.step(opp_action, player=2)\n",
        "        reward =  -opp_reward # lets penalize if opponent wins\n",
        "        next_state = next_state2\n",
        "\n",
        "\n",
        "    next_actions = env.available_actions()\n",
        "    agent.learn(state, action, reward, next_state, done, next_actions)\n",
        "    state = next_state\n",
        "\n",
        "\n",
        "  agent.epsilon *= agent.epsilon_decay\n",
        "\n",
        "print('Training complete')\n",
        "\n"
      ],
      "metadata": {
        "colab": {
          "base_uri": "https://localhost:8080/"
        },
        "id": "hczNMUGay0LC",
        "outputId": "f709c93b-de29-4de5-f49e-7b362023e510"
      },
      "execution_count": 8,
      "outputs": [
        {
          "output_type": "stream",
          "name": "stdout",
          "text": [
            "Training complete\n"
          ]
        }
      ]
    },
    {
      "cell_type": "markdown",
      "source": [
        "Evaluate Agent’s Performance"
      ],
      "metadata": {
        "id": "-HqzIh6-0mOy"
      }
    },
    {
      "cell_type": "code",
      "source": [
        "def evaluate_agent(agent, games=1000):\n",
        "    win, loss, draw = 0, 0, 0\n",
        "    for _ in range(games):\n",
        "        state = env.reset()\n",
        "        done = False\n",
        "        while not done:\n",
        "            actions = env.available_actions()\n",
        "            action = agent.choose_action(state, actions)\n",
        "            next_state, reward, done = env.step(action, player=1)\n",
        "            if done:\n",
        "                if reward == 1:\n",
        "                    win += 1\n",
        "                elif reward == 0.5:\n",
        "                    draw += 1\n",
        "                else:\n",
        "                    loss += 1\n",
        "                break\n",
        "            # Random opponent\n",
        "            opp_actions = env.available_actions()\n",
        "            if opp_actions:\n",
        "                opp_action = random.choice(opp_actions)\n",
        "                state, reward, done = env.step(opp_action, player=2)\n",
        "                if done:\n",
        "                    if reward == 1:\n",
        "                        loss += 1\n",
        "                    elif reward == 0.5:\n",
        "                        draw += 1\n",
        "                    else:\n",
        "                        win += 1\n",
        "        state = next_state\n",
        "    print(f\"Win: {win}, Loss: {loss}, Draw: {draw}\")\n",
        "\n",
        "evaluate_agent(agent)\n"
      ],
      "metadata": {
        "colab": {
          "base_uri": "https://localhost:8080/"
        },
        "id": "c0Ot3ZAl0mrq",
        "outputId": "d0aa4cef-c551-4cc7-b200-413404ef6e8a"
      },
      "execution_count": 9,
      "outputs": [
        {
          "output_type": "stream",
          "name": "stdout",
          "text": [
            "Win: 861, Loss: 100, Draw: 39\n"
          ]
        }
      ]
    },
    {
      "cell_type": "markdown",
      "source": [
        "Save Trained Q-Table"
      ],
      "metadata": {
        "id": "hzWWvaAJ2_8x"
      }
    },
    {
      "cell_type": "code",
      "source": [
        "import pickle\n",
        "\n",
        "with open('q_table.pkl', 'wb') as f:\n",
        "  pickle.dump(agent.q_table, f)\n",
        "\n",
        ""
      ],
      "metadata": {
        "id": "JL3n1MFh3AUk"
      },
      "execution_count": 10,
      "outputs": []
    }
  ]
}