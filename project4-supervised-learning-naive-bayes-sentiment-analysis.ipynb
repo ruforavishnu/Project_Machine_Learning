{
 "cells": [
  {
   "cell_type": "code",
   "execution_count": 9,
   "metadata": {},
   "outputs": [
    {
     "name": "stdout",
     "output_type": "stream",
     "text": [
      "Requirement already satisfied: pandas in c:\\users\\vishnu ajit\\appdata\\local\\programs\\python\\python39\\lib\\site-packages (1.4.2)Note: you may need to restart the kernel to use updated packages.\n",
      "\n",
      "Requirement already satisfied: numpy in c:\\users\\vishnu ajit\\appdata\\local\\programs\\python\\python39\\lib\\site-packages (1.24.4)\n",
      "Requirement already satisfied: scikit-learn in c:\\users\\vishnu ajit\\appdata\\local\\programs\\python\\python39\\lib\\site-packages (1.0.2)\n",
      "Requirement already satisfied: nltk in c:\\users\\vishnu ajit\\appdata\\local\\programs\\python\\python39\\lib\\site-packages (3.8.1)\n",
      "Requirement already satisfied: python-dateutil>=2.8.1 in c:\\users\\vishnu ajit\\appdata\\local\\programs\\python\\python39\\lib\\site-packages (from pandas) (2.8.2)\n",
      "Requirement already satisfied: pytz>=2020.1 in c:\\users\\vishnu ajit\\appdata\\local\\programs\\python\\python39\\lib\\site-packages (from pandas) (2022.1)\n",
      "Requirement already satisfied: scipy>=1.1.0 in c:\\users\\vishnu ajit\\appdata\\local\\programs\\python\\python39\\lib\\site-packages (from scikit-learn) (1.13.1)\n",
      "Requirement already satisfied: joblib>=0.11 in c:\\users\\vishnu ajit\\appdata\\local\\programs\\python\\python39\\lib\\site-packages (from scikit-learn) (1.4.2)\n",
      "Requirement already satisfied: threadpoolctl>=2.0.0 in c:\\users\\vishnu ajit\\appdata\\local\\programs\\python\\python39\\lib\\site-packages (from scikit-learn) (3.1.0)\n",
      "Requirement already satisfied: click in c:\\users\\vishnu ajit\\appdata\\local\\programs\\python\\python39\\lib\\site-packages (from nltk) (8.1.7)\n",
      "Requirement already satisfied: regex>=2021.8.3 in c:\\users\\vishnu ajit\\appdata\\local\\programs\\python\\python39\\lib\\site-packages (from nltk) (2022.3.2)\n",
      "Requirement already satisfied: tqdm in c:\\users\\vishnu ajit\\appdata\\local\\programs\\python\\python39\\lib\\site-packages (from nltk) (4.66.1)\n",
      "Requirement already satisfied: six>=1.5 in c:\\users\\vishnu ajit\\appdata\\local\\programs\\python\\python39\\lib\\site-packages (from python-dateutil>=2.8.1->pandas) (1.16.0)\n",
      "Requirement already satisfied: colorama in c:\\users\\vishnu ajit\\appdata\\local\\programs\\python\\python39\\lib\\site-packages (from click->nltk) (0.4.5)\n"
     ]
    },
    {
     "name": "stderr",
     "output_type": "stream",
     "text": [
      "WARNING: Ignoring invalid distribution -umpy (c:\\users\\vishnu ajit\\appdata\\local\\programs\\python\\python39\\lib\\site-packages)\n",
      "WARNING: Ignoring invalid distribution -umpy (c:\\users\\vishnu ajit\\appdata\\local\\programs\\python\\python39\\lib\\site-packages)\n",
      "WARNING: Ignoring invalid distribution -umpy (c:\\users\\vishnu ajit\\appdata\\local\\programs\\python\\python39\\lib\\site-packages)\n"
     ]
    }
   ],
   "source": [
    "pip install pandas numpy scikit-learn nltk"
   ]
  },
  {
   "cell_type": "code",
   "execution_count": 10,
   "metadata": {},
   "outputs": [],
   "source": [
    "import numpy as np\n",
    "import pandas as pd\n",
    "import re\n",
    "import nltk\n",
    "from sklearn.feature_extraction.text import CountVectorizer, TfidfVectorizer\n",
    "from sklearn.model_selection import train_test_split\n",
    "from sklearn.naive_bayes import MultinomialNB\n",
    "from sklearn.pipeline import make_pipeline\n",
    "from sklearn.metrics import accuracy_score, classification_report\n",
    "\n"
   ]
  },
  {
   "cell_type": "code",
   "execution_count": 11,
   "metadata": {},
   "outputs": [
    {
     "name": "stderr",
     "output_type": "stream",
     "text": [
      "[nltk_data] Downloading package stopwords to C:\\Users\\Vishnu\n",
      "[nltk_data]     Ajit\\AppData\\Roaming\\nltk_data...\n",
      "[nltk_data]   Package stopwords is already up-to-date!\n"
     ]
    }
   ],
   "source": [
    "nltk.download('stopwords')\n",
    "from nltk.corpus import stopwords"
   ]
  },
  {
   "cell_type": "code",
   "execution_count": 12,
   "metadata": {},
   "outputs": [
    {
     "name": "stdout",
     "output_type": "stream",
     "text": [
      "d:\\sandbox\\python\\experiments\\machine-learning-experiments\\Project-Machine-Learning\\datasets\\MovieReviewTrainingDatabase.csv\n"
     ]
    }
   ],
   "source": [
    "import os\n",
    "\n",
    "reqd_file_path = os.path.join(os.getcwd(),'datasets','MovieReviewTrainingDatabase.csv')\n",
    "\n",
    "print(reqd_file_path)"
   ]
  },
  {
   "cell_type": "code",
   "execution_count": 13,
   "metadata": {},
   "outputs": [
    {
     "name": "stdout",
     "output_type": "stream",
     "text": [
      "  sentiment                                             review\n",
      "0  Positive  With all this stuff going down at the moment w...\n",
      "1  Positive  'The Classic War of the Worlds' by Timothy Hin...\n",
      "2  Negative  The film starts with a manager (Nicholas Bell)...\n",
      "3  Negative  It must be assumed that those who praised this...\n",
      "4  Positive  Superbly trashy and wondrously unpretentious 8...\n"
     ]
    }
   ],
   "source": [
    "\n",
    "df = pd.read_csv(reqd_file_path)\n",
    "\n",
    "print(df.head())"
   ]
  },
  {
   "cell_type": "code",
   "execution_count": 14,
   "metadata": {},
   "outputs": [
    {
     "data": {
      "text/html": [
       "<div>\n",
       "<style scoped>\n",
       "    .dataframe tbody tr th:only-of-type {\n",
       "        vertical-align: middle;\n",
       "    }\n",
       "\n",
       "    .dataframe tbody tr th {\n",
       "        vertical-align: top;\n",
       "    }\n",
       "\n",
       "    .dataframe thead th {\n",
       "        text-align: right;\n",
       "    }\n",
       "</style>\n",
       "<table border=\"1\" class=\"dataframe\">\n",
       "  <thead>\n",
       "    <tr style=\"text-align: right;\">\n",
       "      <th></th>\n",
       "      <th>sentiment</th>\n",
       "      <th>review</th>\n",
       "    </tr>\n",
       "  </thead>\n",
       "  <tbody>\n",
       "    <tr>\n",
       "      <th>0</th>\n",
       "      <td>Positive</td>\n",
       "      <td>With all this stuff going down at the moment w...</td>\n",
       "    </tr>\n",
       "    <tr>\n",
       "      <th>1</th>\n",
       "      <td>Positive</td>\n",
       "      <td>'The Classic War of the Worlds' by Timothy Hin...</td>\n",
       "    </tr>\n",
       "    <tr>\n",
       "      <th>2</th>\n",
       "      <td>Negative</td>\n",
       "      <td>The film starts with a manager (Nicholas Bell)...</td>\n",
       "    </tr>\n",
       "    <tr>\n",
       "      <th>3</th>\n",
       "      <td>Negative</td>\n",
       "      <td>It must be assumed that those who praised this...</td>\n",
       "    </tr>\n",
       "    <tr>\n",
       "      <th>4</th>\n",
       "      <td>Positive</td>\n",
       "      <td>Superbly trashy and wondrously unpretentious 8...</td>\n",
       "    </tr>\n",
       "    <tr>\n",
       "      <th>...</th>\n",
       "      <td>...</td>\n",
       "      <td>...</td>\n",
       "    </tr>\n",
       "    <tr>\n",
       "      <th>24995</th>\n",
       "      <td>Negative</td>\n",
       "      <td>It seems like more consideration has gone into...</td>\n",
       "    </tr>\n",
       "    <tr>\n",
       "      <th>24996</th>\n",
       "      <td>Negative</td>\n",
       "      <td>I don't believe they made this film. Completel...</td>\n",
       "    </tr>\n",
       "    <tr>\n",
       "      <th>24997</th>\n",
       "      <td>Negative</td>\n",
       "      <td>Guy is a loser. Can't get girls, needs to buil...</td>\n",
       "    </tr>\n",
       "    <tr>\n",
       "      <th>24998</th>\n",
       "      <td>Negative</td>\n",
       "      <td>This 30 minute documentary Buñuel made in the ...</td>\n",
       "    </tr>\n",
       "    <tr>\n",
       "      <th>24999</th>\n",
       "      <td>Positive</td>\n",
       "      <td>I saw this movie as a child and it broke my he...</td>\n",
       "    </tr>\n",
       "  </tbody>\n",
       "</table>\n",
       "<p>25000 rows × 2 columns</p>\n",
       "</div>"
      ],
      "text/plain": [
       "      sentiment                                             review\n",
       "0      Positive  With all this stuff going down at the moment w...\n",
       "1      Positive  'The Classic War of the Worlds' by Timothy Hin...\n",
       "2      Negative  The film starts with a manager (Nicholas Bell)...\n",
       "3      Negative  It must be assumed that those who praised this...\n",
       "4      Positive  Superbly trashy and wondrously unpretentious 8...\n",
       "...         ...                                                ...\n",
       "24995  Negative  It seems like more consideration has gone into...\n",
       "24996  Negative  I don't believe they made this film. Completel...\n",
       "24997  Negative  Guy is a loser. Can't get girls, needs to buil...\n",
       "24998  Negative  This 30 minute documentary Buñuel made in the ...\n",
       "24999  Positive  I saw this movie as a child and it broke my he...\n",
       "\n",
       "[25000 rows x 2 columns]"
      ]
     },
     "execution_count": 14,
     "metadata": {},
     "output_type": "execute_result"
    }
   ],
   "source": [
    "df"
   ]
  },
  {
   "cell_type": "markdown",
   "metadata": {},
   "source": [
    "Preprocess the Data"
   ]
  },
  {
   "cell_type": "code",
   "execution_count": 15,
   "metadata": {},
   "outputs": [],
   "source": [
    "def preprocess_text(text):\n",
    "    text = re.sub(r'\\W', ' ', text)\n",
    "    text = re.sub(r'\\s+', ' ', text)\n",
    "    text = text.lower()\n",
    "    text = ' '.join([word for word in text.split() if word not in stopwords.words('english')])\n",
    "    return text\n"
   ]
  },
  {
   "cell_type": "code",
   "execution_count": 16,
   "metadata": {},
   "outputs": [
    {
     "name": "stdout",
     "output_type": "stream",
     "text": [
      "  sentiment                                             review\n",
      "0  Positive  With all this stuff going down at the moment w...\n",
      "1  Positive  'The Classic War of the Worlds' by Timothy Hin...\n",
      "2  Negative  The film starts with a manager (Nicholas Bell)...\n",
      "3  Negative  It must be assumed that those who praised this...\n",
      "4  Positive  Superbly trashy and wondrously unpretentious 8...\n"
     ]
    }
   ],
   "source": [
    "print(df.head())"
   ]
  },
  {
   "cell_type": "markdown",
   "metadata": {},
   "source": [
    "Let's reduce the sample size? 25,000 rows is too much."
   ]
  },
  {
   "cell_type": "code",
   "execution_count": 17,
   "metadata": {},
   "outputs": [],
   "source": [
    "df_micro = df.sample(n=200, random_state=42)"
   ]
  },
  {
   "cell_type": "code",
   "execution_count": 20,
   "metadata": {},
   "outputs": [
    {
     "data": {
      "text/html": [
       "<div>\n",
       "<style scoped>\n",
       "    .dataframe tbody tr th:only-of-type {\n",
       "        vertical-align: middle;\n",
       "    }\n",
       "\n",
       "    .dataframe tbody tr th {\n",
       "        vertical-align: top;\n",
       "    }\n",
       "\n",
       "    .dataframe thead th {\n",
       "        text-align: right;\n",
       "    }\n",
       "</style>\n",
       "<table border=\"1\" class=\"dataframe\">\n",
       "  <thead>\n",
       "    <tr style=\"text-align: right;\">\n",
       "      <th></th>\n",
       "      <th>sentiment</th>\n",
       "      <th>review</th>\n",
       "    </tr>\n",
       "  </thead>\n",
       "  <tbody>\n",
       "    <tr>\n",
       "      <th>6868</th>\n",
       "      <td>Negative</td>\n",
       "      <td>I read that 'There's a Girl in My Soup' came o...</td>\n",
       "    </tr>\n",
       "    <tr>\n",
       "      <th>24016</th>\n",
       "      <td>Positive</td>\n",
       "      <td>This film pulls you in from the get-go because...</td>\n",
       "    </tr>\n",
       "    <tr>\n",
       "      <th>9668</th>\n",
       "      <td>Negative</td>\n",
       "      <td>From the awful death scenes to guns that fire ...</td>\n",
       "    </tr>\n",
       "    <tr>\n",
       "      <th>13640</th>\n",
       "      <td>Positive</td>\n",
       "      <td>I saw that movie few days ago. This movie is s...</td>\n",
       "    </tr>\n",
       "    <tr>\n",
       "      <th>14018</th>\n",
       "      <td>Negative</td>\n",
       "      <td>For a film with so much promise it was disappo...</td>\n",
       "    </tr>\n",
       "    <tr>\n",
       "      <th>...</th>\n",
       "      <td>...</td>\n",
       "      <td>...</td>\n",
       "    </tr>\n",
       "    <tr>\n",
       "      <th>1747</th>\n",
       "      <td>Positive</td>\n",
       "      <td>Kate Miller (Angie Dickinson) is having proble...</td>\n",
       "    </tr>\n",
       "    <tr>\n",
       "      <th>323</th>\n",
       "      <td>Positive</td>\n",
       "      <td>I have been a Hindi movie buff since the age o...</td>\n",
       "    </tr>\n",
       "    <tr>\n",
       "      <th>10296</th>\n",
       "      <td>Positive</td>\n",
       "      <td>D.W. Griffith could have made any film he want...</td>\n",
       "    </tr>\n",
       "    <tr>\n",
       "      <th>12750</th>\n",
       "      <td>Negative</td>\n",
       "      <td>Saw this film ran in the wee hours on TCM. Sev...</td>\n",
       "    </tr>\n",
       "    <tr>\n",
       "      <th>10012</th>\n",
       "      <td>Positive</td>\n",
       "      <td>This is another gem of a stand up show from Ed...</td>\n",
       "    </tr>\n",
       "  </tbody>\n",
       "</table>\n",
       "<p>200 rows × 2 columns</p>\n",
       "</div>"
      ],
      "text/plain": [
       "      sentiment                                             review\n",
       "6868   Negative  I read that 'There's a Girl in My Soup' came o...\n",
       "24016  Positive  This film pulls you in from the get-go because...\n",
       "9668   Negative  From the awful death scenes to guns that fire ...\n",
       "13640  Positive  I saw that movie few days ago. This movie is s...\n",
       "14018  Negative  For a film with so much promise it was disappo...\n",
       "...         ...                                                ...\n",
       "1747   Positive  Kate Miller (Angie Dickinson) is having proble...\n",
       "323    Positive  I have been a Hindi movie buff since the age o...\n",
       "10296  Positive  D.W. Griffith could have made any film he want...\n",
       "12750  Negative  Saw this film ran in the wee hours on TCM. Sev...\n",
       "10012  Positive  This is another gem of a stand up show from Ed...\n",
       "\n",
       "[200 rows x 2 columns]"
      ]
     },
     "execution_count": 20,
     "metadata": {},
     "output_type": "execute_result"
    }
   ],
   "source": [
    "df_micro"
   ]
  },
  {
   "cell_type": "code",
   "execution_count": 21,
   "metadata": {},
   "outputs": [],
   "source": [
    "df_micro['cleaned_text'] = df_micro['review'].apply(preprocess_text)"
   ]
  },
  {
   "cell_type": "code",
   "execution_count": 31,
   "metadata": {},
   "outputs": [
    {
     "name": "stdout",
     "output_type": "stream",
     "text": [
      "      sentiment                                             review  \\\n",
      "6868   Negative  I read that 'There's a Girl in My Soup' came o...   \n",
      "24016  Positive  This film pulls you in from the get-go because...   \n",
      "9668   Negative  From the awful death scenes to guns that fire ...   \n",
      "13640  Positive  I saw that movie few days ago. This movie is s...   \n",
      "14018  Negative  For a film with so much promise it was disappo...   \n",
      "...         ...                                                ...   \n",
      "1747   Positive  Kate Miller (Angie Dickinson) is having proble...   \n",
      "323    Positive  I have been a Hindi movie buff since the age o...   \n",
      "10296  Positive  D.W. Griffith could have made any film he want...   \n",
      "12750  Negative  Saw this film ran in the wee hours on TCM. Sev...   \n",
      "10012  Positive  This is another gem of a stand up show from Ed...   \n",
      "\n",
      "                                            cleaned_text  \n",
      "6868   read girl soup came peter sellers low period w...  \n",
      "24016  film pulls get go grabs attention acknowledgin...  \n",
      "9668   awful death scenes guns fire without making so...  \n",
      "13640  saw movie days ago movie great makes feel want...  \n",
      "14018  film much promise disappointing thinly plotted...  \n",
      "...                                                  ...  \n",
      "1747   kate miller angie dickinson problems marriage ...  \n",
      "323    hindi movie buff since age 4 never life watche...  \n",
      "10296  w griffith could made film wanted enormous fin...  \n",
      "12750  saw film ran wee hours tcm several problems fi...  \n",
      "10012  another gem stand show eddie izzard cannot fai...  \n",
      "\n",
      "[200 rows x 3 columns]\n"
     ]
    }
   ],
   "source": [
    "print(df_micro)"
   ]
  },
  {
   "cell_type": "code",
   "execution_count": 33,
   "metadata": {},
   "outputs": [
    {
     "name": "stdout",
     "output_type": "stream",
     "text": [
      "6868     read girl soup came peter sellers low period w...\n",
      "24016    film pulls get go grabs attention acknowledgin...\n",
      "9668     awful death scenes guns fire without making so...\n",
      "13640    saw movie days ago movie great makes feel want...\n",
      "14018    film much promise disappointing thinly plotted...\n",
      "                               ...                        \n",
      "1747     kate miller angie dickinson problems marriage ...\n",
      "323      hindi movie buff since age 4 never life watche...\n",
      "10296    w griffith could made film wanted enormous fin...\n",
      "12750    saw film ran wee hours tcm several problems fi...\n",
      "10012    another gem stand show eddie izzard cannot fai...\n",
      "Name: cleaned_text, Length: 200, dtype: object\n"
     ]
    }
   ],
   "source": [
    "X = df_micro['cleaned_text']\n",
    "print(X)"
   ]
  },
  {
   "cell_type": "code",
   "execution_count": 34,
   "metadata": {},
   "outputs": [
    {
     "name": "stdout",
     "output_type": "stream",
     "text": [
      "6868     Negative\n",
      "24016    Positive\n",
      "9668     Negative\n",
      "13640    Positive\n",
      "14018    Negative\n",
      "           ...   \n",
      "1747     Positive\n",
      "323      Positive\n",
      "10296    Positive\n",
      "12750    Negative\n",
      "10012    Positive\n",
      "Name: sentiment, Length: 200, dtype: object\n"
     ]
    }
   ],
   "source": [
    "y = df_micro['sentiment']\n",
    "print(y)"
   ]
  },
  {
   "cell_type": "code",
   "execution_count": null,
   "metadata": {},
   "outputs": [],
   "source": []
  },
  {
   "cell_type": "markdown",
   "metadata": {},
   "source": [
    "Split the Dataset"
   ]
  },
  {
   "cell_type": "code",
   "execution_count": 35,
   "metadata": {},
   "outputs": [],
   "source": [
    "X_train, X_test, y_train, y_test = train_test_split(X,y, test_size=0.2, random_state=42)"
   ]
  },
  {
   "cell_type": "code",
   "execution_count": 36,
   "metadata": {},
   "outputs": [
    {
     "name": "stdout",
     "output_type": "stream",
     "text": [
      "(160,)\n"
     ]
    }
   ],
   "source": [
    "print(X_train.shape)"
   ]
  },
  {
   "cell_type": "code",
   "execution_count": 37,
   "metadata": {},
   "outputs": [
    {
     "name": "stdout",
     "output_type": "stream",
     "text": [
      "(160,)\n"
     ]
    }
   ],
   "source": [
    "print(y_train.shape)"
   ]
  },
  {
   "cell_type": "code",
   "execution_count": 38,
   "metadata": {},
   "outputs": [
    {
     "name": "stdout",
     "output_type": "stream",
     "text": [
      "160 160\n"
     ]
    }
   ],
   "source": [
    "print(X_train.shape[0], y_train.shape[0])"
   ]
  },
  {
   "cell_type": "markdown",
   "metadata": {},
   "source": [
    " Build the Naive Bayes Model"
   ]
  },
  {
   "cell_type": "code",
   "execution_count": 39,
   "metadata": {},
   "outputs": [],
   "source": [
    "model = make_pipeline(TfidfVectorizer(), MultinomialNB())"
   ]
  },
  {
   "cell_type": "code",
   "execution_count": 40,
   "metadata": {},
   "outputs": [
    {
     "data": {
      "text/plain": [
       "Pipeline(steps=[('tfidfvectorizer', TfidfVectorizer()),\n",
       "                ('multinomialnb', MultinomialNB())])"
      ]
     },
     "execution_count": 40,
     "metadata": {},
     "output_type": "execute_result"
    }
   ],
   "source": [
    "model.fit(X_train, y_train)"
   ]
  },
  {
   "cell_type": "markdown",
   "metadata": {},
   "source": [
    "Predict test data"
   ]
  },
  {
   "cell_type": "code",
   "execution_count": 41,
   "metadata": {},
   "outputs": [],
   "source": [
    "y_pred = model.predict(X_test)"
   ]
  },
  {
   "cell_type": "markdown",
   "metadata": {},
   "source": [
    "Evaluate the model"
   ]
  },
  {
   "cell_type": "code",
   "execution_count": 42,
   "metadata": {},
   "outputs": [
    {
     "name": "stdout",
     "output_type": "stream",
     "text": [
      "Accuracy: 65.00%\n"
     ]
    }
   ],
   "source": [
    "print(f'Accuracy: {accuracy_score(y_test, y_pred)*100:.2f}%')"
   ]
  },
  {
   "cell_type": "code",
   "execution_count": 43,
   "metadata": {},
   "outputs": [
    {
     "name": "stdout",
     "output_type": "stream",
     "text": [
      "\n",
      "Classification report: \n",
      "\n",
      "               precision    recall  f1-score   support\n",
      "\n",
      "    Negative       0.58      0.95      0.72        19\n",
      "    Positive       0.89      0.38      0.53        21\n",
      "\n",
      "    accuracy                           0.65        40\n",
      "   macro avg       0.73      0.66      0.63        40\n",
      "weighted avg       0.74      0.65      0.62        40\n",
      "\n"
     ]
    }
   ],
   "source": [
    "\n",
    "print('\\nClassification report: \\n\\n', classification_report(y_test, y_pred))"
   ]
  },
  {
   "cell_type": "markdown",
   "metadata": {},
   "source": [
    "Test with custom input "
   ]
  },
  {
   "cell_type": "code",
   "execution_count": 44,
   "metadata": {},
   "outputs": [
    {
     "name": "stdout",
     "output_type": "stream",
     "text": [
      "Prediction:  ['Positive']\n"
     ]
    }
   ],
   "source": [
    "review = ['This movie was absolutely fantastic! The storyline was gripping.']\n",
    "print('Prediction: ', model.predict(review))"
   ]
  },
  {
   "cell_type": "code",
   "execution_count": 45,
   "metadata": {},
   "outputs": [
    {
     "name": "stdout",
     "output_type": "stream",
     "text": [
      "Prediction:  ['Negative']\n"
     ]
    }
   ],
   "source": [
    "review2 = ['The movie was shit']\n",
    "print('Prediction: ', model.predict(review2))"
   ]
  }
 ],
 "metadata": {
  "kernelspec": {
   "display_name": "Python 3",
   "language": "python",
   "name": "python3"
  },
  "language_info": {
   "codemirror_mode": {
    "name": "ipython",
    "version": 3
   },
   "file_extension": ".py",
   "mimetype": "text/x-python",
   "name": "python",
   "nbconvert_exporter": "python",
   "pygments_lexer": "ipython3",
   "version": "3.9.7"
  }
 },
 "nbformat": 4,
 "nbformat_minor": 2
}
