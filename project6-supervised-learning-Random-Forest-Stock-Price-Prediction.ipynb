{
 "cells": [
  {
   "cell_type": "code",
   "execution_count": 1,
   "metadata": {},
   "outputs": [],
   "source": [
    "import pandas as pd\n",
    "import numpy as np\n",
    "import matplotlib.pyplot as plt\n",
    "import seaborn as sns\n",
    "from sklearn.model_selection import train_test_split\n",
    "from sklearn.ensemble import RandomForestRegressor\n",
    "from sklearn.metrics import mean_absolute_error, mean_squared_error"
   ]
  },
  {
   "cell_type": "markdown",
   "metadata": {},
   "source": [
    "Code for getting CSV file."
   ]
  },
  {
   "cell_type": "code",
   "execution_count": 2,
   "metadata": {},
   "outputs": [
    {
     "name": "stdout",
     "output_type": "stream",
     "text": [
      "CSV file saved: BTC-USDT-2h-ohlc-values.csv\n",
      "                    Timestamp     Open     High      Low    Close      Volume\n",
      "0   2025-02-15 07:30:00+05:30  97807.0  97977.2  97632.1  97656.4   65.827639\n",
      "1   2025-02-15 09:30:00+05:30  97656.5  97799.9  97444.4  97610.2  113.043261\n",
      "2   2025-02-15 11:30:00+05:30  97610.3  97673.8  97350.8  97350.9   55.664058\n",
      "3   2025-02-15 13:30:00+05:30  97350.9  97608.9  97307.4  97562.8   44.464409\n",
      "4   2025-02-15 15:30:00+05:30  97562.9  97730.4  97451.2  97610.3   54.215562\n",
      "..                        ...      ...      ...      ...      ...         ...\n",
      "195 2025-03-03 13:30:00+05:30  92369.4  92398.8  91151.1  91854.2  250.253209\n",
      "196 2025-03-03 15:30:00+05:30  91854.2  92915.9  91555.4  92735.2  202.681373\n",
      "197 2025-03-03 17:30:00+05:30  92744.5  93685.6  92668.2  93576.9  174.816583\n",
      "198 2025-03-03 19:30:00+05:30  93577.0  93711.7  89132.4  90043.2  827.562242\n",
      "199 2025-03-03 21:30:00+05:30  90043.3  90750.0  89698.3  89913.8  114.433810\n",
      "\n",
      "[200 rows x 6 columns]\n"
     ]
    }
   ],
   "source": [
    "\n",
    "import pandas as pd\n",
    "import ccxt\n",
    "\n",
    "# Initialize the KuCoin exchange\n",
    "exchange = ccxt.kucoin()\n",
    "\n",
    "reqd_coin_name = 'BTC/USDT'\n",
    "reqd_timeframe = '2h'\n",
    "\n",
    "\n",
    "\n",
    "\n",
    "ohlcv = exchange.fetch_ohlcv(reqd_coin_name, reqd_timeframe, limit=200)\n",
    "\n",
    "\n",
    "# for candle in ohlcv:\n",
    "    # print(candle)\n",
    "\n",
    "# Convert to DataFrame\n",
    "df = pd.DataFrame(ohlcv, columns=['Timestamp', 'Open', 'High', 'Low', 'Close', 'Volume'])\n",
    "df['Timestamp'] = pd.to_datetime(df['Timestamp'], unit='ms')\n",
    "\n",
    "df['Timestamp'] = df['Timestamp'].dt.tz_localize('UTC').dt.tz_convert('Asia/Kolkata')\n",
    "\n",
    "reqd_coin_name = reqd_coin_name.replace('/','-')\n",
    "\n",
    "\n",
    "csv_file_name = f'{reqd_coin_name}-{reqd_timeframe}-ohlc-values.csv'\n",
    "df.to_csv(csv_file_name, index=False)\n",
    "\n",
    "\n",
    "print(f\"CSV file saved: {csv_file_name}\")\n",
    "print(df)"
   ]
  },
  {
   "cell_type": "markdown",
   "metadata": {},
   "source": [
    "print the df.head()"
   ]
  },
  {
   "cell_type": "code",
   "execution_count": 3,
   "metadata": {},
   "outputs": [
    {
     "name": "stdout",
     "output_type": "stream",
     "text": [
      "                  Timestamp     Open     High      Low    Close      Volume\n",
      "0 2025-02-15 07:30:00+05:30  97807.0  97977.2  97632.1  97656.4   65.827639\n",
      "1 2025-02-15 09:30:00+05:30  97656.5  97799.9  97444.4  97610.2  113.043261\n",
      "2 2025-02-15 11:30:00+05:30  97610.3  97673.8  97350.8  97350.9   55.664058\n",
      "3 2025-02-15 13:30:00+05:30  97350.9  97608.9  97307.4  97562.8   44.464409\n",
      "4 2025-02-15 15:30:00+05:30  97562.9  97730.4  97451.2  97610.3   54.215562\n"
     ]
    }
   ],
   "source": [
    "print(df.head())"
   ]
  },
  {
   "cell_type": "markdown",
   "metadata": {},
   "source": [
    "Explore and Preprocess Data"
   ]
  },
  {
   "cell_type": "code",
   "execution_count": 4,
   "metadata": {},
   "outputs": [
    {
     "name": "stdout",
     "output_type": "stream",
     "text": [
      "Timestamp    0\n",
      "Open         0\n",
      "High         0\n",
      "Low          0\n",
      "Close        0\n",
      "Volume       0\n",
      "dtype: int64\n"
     ]
    }
   ],
   "source": [
    "print(df.isnull().sum())"
   ]
  },
  {
   "cell_type": "code",
   "execution_count": 5,
   "metadata": {},
   "outputs": [],
   "source": [
    "df = df.dropna()"
   ]
  },
  {
   "cell_type": "code",
   "execution_count": 6,
   "metadata": {},
   "outputs": [],
   "source": [
    "features = ['Open','High','Low','Volume']\n",
    "target = 'Close'\n",
    "\n",
    "\n",
    "X = df[features]\n",
    "y = df[target]"
   ]
  },
  {
   "cell_type": "code",
   "execution_count": 7,
   "metadata": {},
   "outputs": [
    {
     "data": {
      "text/html": [
       "<div>\n",
       "<style scoped>\n",
       "    .dataframe tbody tr th:only-of-type {\n",
       "        vertical-align: middle;\n",
       "    }\n",
       "\n",
       "    .dataframe tbody tr th {\n",
       "        vertical-align: top;\n",
       "    }\n",
       "\n",
       "    .dataframe thead th {\n",
       "        text-align: right;\n",
       "    }\n",
       "</style>\n",
       "<table border=\"1\" class=\"dataframe\">\n",
       "  <thead>\n",
       "    <tr style=\"text-align: right;\">\n",
       "      <th></th>\n",
       "      <th>Open</th>\n",
       "      <th>High</th>\n",
       "      <th>Low</th>\n",
       "      <th>Volume</th>\n",
       "    </tr>\n",
       "  </thead>\n",
       "  <tbody>\n",
       "    <tr>\n",
       "      <th>0</th>\n",
       "      <td>97807.0</td>\n",
       "      <td>97977.2</td>\n",
       "      <td>97632.1</td>\n",
       "      <td>65.827639</td>\n",
       "    </tr>\n",
       "    <tr>\n",
       "      <th>1</th>\n",
       "      <td>97656.5</td>\n",
       "      <td>97799.9</td>\n",
       "      <td>97444.4</td>\n",
       "      <td>113.043261</td>\n",
       "    </tr>\n",
       "    <tr>\n",
       "      <th>2</th>\n",
       "      <td>97610.3</td>\n",
       "      <td>97673.8</td>\n",
       "      <td>97350.8</td>\n",
       "      <td>55.664058</td>\n",
       "    </tr>\n",
       "    <tr>\n",
       "      <th>3</th>\n",
       "      <td>97350.9</td>\n",
       "      <td>97608.9</td>\n",
       "      <td>97307.4</td>\n",
       "      <td>44.464409</td>\n",
       "    </tr>\n",
       "    <tr>\n",
       "      <th>4</th>\n",
       "      <td>97562.9</td>\n",
       "      <td>97730.4</td>\n",
       "      <td>97451.2</td>\n",
       "      <td>54.215562</td>\n",
       "    </tr>\n",
       "    <tr>\n",
       "      <th>...</th>\n",
       "      <td>...</td>\n",
       "      <td>...</td>\n",
       "      <td>...</td>\n",
       "      <td>...</td>\n",
       "    </tr>\n",
       "    <tr>\n",
       "      <th>195</th>\n",
       "      <td>92369.4</td>\n",
       "      <td>92398.8</td>\n",
       "      <td>91151.1</td>\n",
       "      <td>250.253209</td>\n",
       "    </tr>\n",
       "    <tr>\n",
       "      <th>196</th>\n",
       "      <td>91854.2</td>\n",
       "      <td>92915.9</td>\n",
       "      <td>91555.4</td>\n",
       "      <td>202.681373</td>\n",
       "    </tr>\n",
       "    <tr>\n",
       "      <th>197</th>\n",
       "      <td>92744.5</td>\n",
       "      <td>93685.6</td>\n",
       "      <td>92668.2</td>\n",
       "      <td>174.816583</td>\n",
       "    </tr>\n",
       "    <tr>\n",
       "      <th>198</th>\n",
       "      <td>93577.0</td>\n",
       "      <td>93711.7</td>\n",
       "      <td>89132.4</td>\n",
       "      <td>827.562242</td>\n",
       "    </tr>\n",
       "    <tr>\n",
       "      <th>199</th>\n",
       "      <td>90043.3</td>\n",
       "      <td>90750.0</td>\n",
       "      <td>89698.3</td>\n",
       "      <td>114.433810</td>\n",
       "    </tr>\n",
       "  </tbody>\n",
       "</table>\n",
       "<p>200 rows × 4 columns</p>\n",
       "</div>"
      ],
      "text/plain": [
       "        Open     High      Low      Volume\n",
       "0    97807.0  97977.2  97632.1   65.827639\n",
       "1    97656.5  97799.9  97444.4  113.043261\n",
       "2    97610.3  97673.8  97350.8   55.664058\n",
       "3    97350.9  97608.9  97307.4   44.464409\n",
       "4    97562.9  97730.4  97451.2   54.215562\n",
       "..       ...      ...      ...         ...\n",
       "195  92369.4  92398.8  91151.1  250.253209\n",
       "196  91854.2  92915.9  91555.4  202.681373\n",
       "197  92744.5  93685.6  92668.2  174.816583\n",
       "198  93577.0  93711.7  89132.4  827.562242\n",
       "199  90043.3  90750.0  89698.3  114.433810\n",
       "\n",
       "[200 rows x 4 columns]"
      ]
     },
     "execution_count": 7,
     "metadata": {},
     "output_type": "execute_result"
    }
   ],
   "source": [
    "X"
   ]
  },
  {
   "cell_type": "code",
   "execution_count": 8,
   "metadata": {},
   "outputs": [
    {
     "data": {
      "text/plain": [
       "0      97656.4\n",
       "1      97610.2\n",
       "2      97350.9\n",
       "3      97562.8\n",
       "4      97610.3\n",
       "        ...   \n",
       "195    91854.2\n",
       "196    92735.2\n",
       "197    93576.9\n",
       "198    90043.2\n",
       "199    89913.8\n",
       "Name: Close, Length: 200, dtype: float64"
      ]
     },
     "execution_count": 8,
     "metadata": {},
     "output_type": "execute_result"
    }
   ],
   "source": [
    "y"
   ]
  },
  {
   "cell_type": "markdown",
   "metadata": {},
   "source": [
    "Split the Data into Training and Testing Sets"
   ]
  },
  {
   "cell_type": "code",
   "execution_count": 9,
   "metadata": {},
   "outputs": [],
   "source": [
    "X_train , X_test , y_train, y_test = train_test_split(X,y, test_size=0.2, random_state=42)"
   ]
  },
  {
   "cell_type": "markdown",
   "metadata": {},
   "source": [
    "Train the Random Forest Model"
   ]
  },
  {
   "cell_type": "code",
   "execution_count": 10,
   "metadata": {},
   "outputs": [],
   "source": [
    "rf_model = RandomForestRegressor(n_estimators=100, random_state=42)\n"
   ]
  },
  {
   "cell_type": "code",
   "execution_count": 11,
   "metadata": {},
   "outputs": [
    {
     "data": {
      "text/plain": [
       "RandomForestRegressor(random_state=42)"
      ]
     },
     "execution_count": 11,
     "metadata": {},
     "output_type": "execute_result"
    }
   ],
   "source": [
    "rf_model.fit(X_train, y_train)"
   ]
  },
  {
   "cell_type": "markdown",
   "metadata": {},
   "source": [
    "Make Predictions"
   ]
  },
  {
   "cell_type": "code",
   "execution_count": 12,
   "metadata": {},
   "outputs": [],
   "source": [
    "y_pred = rf_model.predict(X_test)\n"
   ]
  },
  {
   "cell_type": "code",
   "execution_count": 13,
   "metadata": {},
   "outputs": [
    {
     "data": {
      "text/plain": [
       "array([96481.075, 97125.92 , 95978.795, 80462.328, 87104.984, 94141.753,\n",
       "       98410.865, 85438.795, 84806.108, 94171.08 , 97039.655, 86212.613,\n",
       "       84478.235, 97810.579, 86886.42 , 85655.488, 95690.901, 84271.093,\n",
       "       95641.008, 98378.201, 87836.355, 97261.867, 86277.617, 96569.368,\n",
       "       97249.674, 97008.758, 96234.572, 97041.844, 88507.916, 88688.642,\n",
       "       97586.954, 96987.542, 96296.556, 98308.058, 85374.333, 95832.362,\n",
       "       88661.924, 88258.814, 84344.185, 98202.784])"
      ]
     },
     "execution_count": 13,
     "metadata": {},
     "output_type": "execute_result"
    }
   ],
   "source": [
    "y_pred"
   ]
  },
  {
   "cell_type": "markdown",
   "metadata": {},
   "source": [
    "Evaluate the Model"
   ]
  },
  {
   "cell_type": "code",
   "execution_count": 14,
   "metadata": {},
   "outputs": [
    {
     "name": "stdout",
     "output_type": "stream",
     "text": [
      "Mean Absolute Error: 359.6778249999952\n",
      "Mean Squared Error: 252618.24602261433\n"
     ]
    }
   ],
   "source": [
    "mae = mean_absolute_error(y_test, y_pred)\n",
    "mse = mean_squared_error(y_test, y_pred)\n",
    "\n",
    "print(f'Mean Absolute Error: {mae}')\n",
    "print(f'Mean Squared Error: {mse}')"
   ]
  },
  {
   "cell_type": "markdown",
   "metadata": {},
   "source": [
    " Visualize Predictions"
   ]
  },
  {
   "cell_type": "code",
   "execution_count": 15,
   "metadata": {},
   "outputs": [
    {
     "data": {
      "image/png": "[encoded data removed]",
      "text/plain": [
       "<Figure size 1000x500 with 1 Axes>"
      ]
     },
     "metadata": {},
     "output_type": "display_data"
    }
   ],
   "source": [
    "plt.figure(figsize=(10,5))\n",
    "plt.plot(y_test.values, label='Actual Price', color='blue')\n",
    "plt.plot(y_pred, label='Predicted Price', color='red', linestyle='dashed')\n",
    "plt.legend()\n",
    "plt.title('Stock Price prediction using Random Forest')\n",
    "plt.xlabel('Time')\n",
    "plt.ylabel('Stock Price')\n",
    "plt.show()"
   ]
  },
  {
   "cell_type": "markdown",
   "metadata": {},
   "source": [
    "Now, lets predict the future values"
   ]
  },
  {
   "cell_type": "code",
   "execution_count": 16,
   "metadata": {},
   "outputs": [
    {
     "name": "stdout",
     "output_type": "stream",
     "text": [
      "Latest available data for prediction\n",
      "[[90043.3        90750.         89698.3          114.43381032]]\n"
     ]
    }
   ],
   "source": [
    "\n",
    "\n",
    "latest_data = X.iloc[-1].values.reshape(1, -1)\n",
    "\n",
    "print('Latest available data for prediction')\n",
    "print(latest_data)"
   ]
  },
  {
   "cell_type": "code",
   "execution_count": 17,
   "metadata": {},
   "outputs": [],
   "source": [
    "latest_data = pd.DataFrame(latest_data, columns=features)"
   ]
  },
  {
   "cell_type": "code",
   "execution_count": 18,
   "metadata": {},
   "outputs": [
    {
     "data": {
      "text/html": [
       "<div>\n",
       "<style scoped>\n",
       "    .dataframe tbody tr th:only-of-type {\n",
       "        vertical-align: middle;\n",
       "    }\n",
       "\n",
       "    .dataframe tbody tr th {\n",
       "        vertical-align: top;\n",
       "    }\n",
       "\n",
       "    .dataframe thead th {\n",
       "        text-align: right;\n",
       "    }\n",
       "</style>\n",
       "<table border=\"1\" class=\"dataframe\">\n",
       "  <thead>\n",
       "    <tr style=\"text-align: right;\">\n",
       "      <th></th>\n",
       "      <th>Open</th>\n",
       "      <th>High</th>\n",
       "      <th>Low</th>\n",
       "      <th>Volume</th>\n",
       "    </tr>\n",
       "  </thead>\n",
       "  <tbody>\n",
       "    <tr>\n",
       "      <th>0</th>\n",
       "      <td>90043.3</td>\n",
       "      <td>90750.0</td>\n",
       "      <td>89698.3</td>\n",
       "      <td>114.43381</td>\n",
       "    </tr>\n",
       "  </tbody>\n",
       "</table>\n",
       "</div>"
      ],
      "text/plain": [
       "      Open     High      Low     Volume\n",
       "0  90043.3  90750.0  89698.3  114.43381"
      ]
     },
     "execution_count": 18,
     "metadata": {},
     "output_type": "execute_result"
    }
   ],
   "source": [
    "latest_data"
   ]
  },
  {
   "cell_type": "markdown",
   "metadata": {},
   "source": [
    "Predict the Next 2-Hour Price"
   ]
  },
  {
   "cell_type": "code",
   "execution_count": 19,
   "metadata": {},
   "outputs": [
    {
     "name": "stdout",
     "output_type": "stream",
     "text": [
      "Predicted price for next 2 hour timeframe candle close: 89368.41099999996\n"
     ]
    }
   ],
   "source": [
    "next_price_1 = rf_model.predict(latest_data)[0]\n",
    "print(f'Predicted price for next 2 hour timeframe candle close: {next_price_1}')"
   ]
  },
  {
   "cell_type": "markdown",
   "metadata": {},
   "source": [
    "We successfully predicted the price of the stock in the next candle close."
   ]
  }
 ],
 "metadata": {
  "kernelspec": {
   "display_name": "Python 3",
   "language": "python",
   "name": "python3"
  },
  "language_info": {
   "codemirror_mode": {
    "name": "ipython",
    "version": 3
   },
   "file_extension": ".py",
   "mimetype": "text/x-python",
   "name": "python",
   "nbconvert_exporter": "python",
   "pygments_lexer": "ipython3",
   "version": "3.9.7"
  }
 },
 "nbformat": 4,
 "nbformat_minor": 2
}
