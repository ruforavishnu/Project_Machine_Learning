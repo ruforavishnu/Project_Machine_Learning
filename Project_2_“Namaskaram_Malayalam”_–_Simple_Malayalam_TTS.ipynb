{
  "nbformat": 4,
  "nbformat_minor": 0,
  "metadata": {
    "colab": {
      "provenance": [],
      "authorship_tag": "ABX9TyPlLHLkM0+huZUYEsogHUsv",
      "include_colab_link": true
    },
    "kernelspec": {
      "name": "python3",
      "display_name": "Python 3"
    },
    "language_info": {
      "name": "python"
    }
  },
  "cells": [
    {
      "cell_type": "markdown",
      "metadata": {
        "id": "view-in-github",
        "colab_type": "text"
      },
      "source": [
        "<a href=\"https://colab.research.google.com/github/ruforavishnu/Project_Machine_Learning/blob/master/Project_2_%E2%80%9CNamaskaram_Malayalam%E2%80%9D_%E2%80%93_Simple_Malayalam_TTS.ipynb\" target=\"_parent\"><img src=\"https://colab.research.google.com/assets/colab-badge.svg\" alt=\"Open In Colab\"/></a>"
      ]
    },
    {
      "cell_type": "code",
      "execution_count": 1,
      "metadata": {
        "colab": {
          "base_uri": "https://localhost:8080/"
        },
        "id": "1iGh1S5Ziu1Z",
        "outputId": "651104ed-5b49-4aba-d75b-e8c20ec8fcb9"
      },
      "outputs": [
        {
          "output_type": "stream",
          "name": "stdout",
          "text": [
            "Collecting gTTS\n",
            "  Downloading gTTS-2.5.4-py3-none-any.whl.metadata (4.1 kB)\n",
            "Requirement already satisfied: requests<3,>=2.27 in /usr/local/lib/python3.11/dist-packages (from gTTS) (2.32.3)\n",
            "Requirement already satisfied: click<8.2,>=7.1 in /usr/local/lib/python3.11/dist-packages (from gTTS) (8.1.8)\n",
            "Requirement already satisfied: charset-normalizer<4,>=2 in /usr/local/lib/python3.11/dist-packages (from requests<3,>=2.27->gTTS) (3.4.1)\n",
            "Requirement already satisfied: idna<4,>=2.5 in /usr/local/lib/python3.11/dist-packages (from requests<3,>=2.27->gTTS) (3.10)\n",
            "Requirement already satisfied: urllib3<3,>=1.21.1 in /usr/local/lib/python3.11/dist-packages (from requests<3,>=2.27->gTTS) (2.3.0)\n",
            "Requirement already satisfied: certifi>=2017.4.17 in /usr/local/lib/python3.11/dist-packages (from requests<3,>=2.27->gTTS) (2025.1.31)\n",
            "Downloading gTTS-2.5.4-py3-none-any.whl (29 kB)\n",
            "Installing collected packages: gTTS\n",
            "Successfully installed gTTS-2.5.4\n"
          ]
        }
      ],
      "source": [
        "pip install gTTS"
      ]
    },
    {
      "cell_type": "code",
      "source": [
        "from gtts import gTTS\n",
        "import os\n",
        "\n",
        "malayalam_text = 'നമസ്കാരം! നിങ്ങൾക്ക് മലയാളത്തിൽ സംസാരിക്കാമോ?'\n",
        "\n",
        "tts = gTTS(text=malayalam_text, lang='ml')\n",
        "\n",
        "tts.save('namaskaram_output.mp3')\n"
      ],
      "metadata": {
        "id": "Q1Q8RDKxjPXe"
      },
      "execution_count": 2,
      "outputs": []
    },
    {
      "cell_type": "code",
      "source": [
        "mal_text2 = 'കേരളത്തിലെ മലബാർ തീരത്തോട് ചേർന്നുള്ള ഒരു നഗരമാണ് കോഴിക്കോട് (pronounced: [koːɻikːoːɖɨ̆] ⓘ). കാലിക്കറ്റ്‌ എന്ന പേരിലും അറിയപ്പെടുന്നു. മലബാറിന്റെ തലസ്ഥാനമാണ് കോഴിക്കോട് നഗരം. കേരളത്തിലെ രണ്ടാമത്തെ വലിയ നഗരവും കോഴിക്കോട് ജില്ലയുടെ ആസ്ഥാനവുമാണ്. ബ്രിട്ടീഷ്‌ ഭരണ കാലത്ത്‌ മദ്രാസ് സംസ്ഥാനത്തിന്റെ ഭാഗമായിരുന്ന മലബാർ ജില്ലയുടെ തലസ്ഥാനമായിരുന്നു. കേരളത്തിലെ എന്നല്ല ഇന്ത്യയിലെ തന്നെയും പുരാതന തുറമുഖ നഗരമാണ് കോഴിക്കോട്. പ്രാചീനകാലത്തും മധ്യകാലഘട്ടത്തിലും വ്യാപാരത്തിന്റെ ആസ്ഥാനമെന്ന നിലയിൽ കോഴിക്കോട് നഗരം \"സുഗന്ധവ്യഞ്ജനങ്ങളുടെ നഗരം\" എന്നറിയപ്പെട്ടിരുന്നു'\n",
        "\n",
        "tts2 = gTTS(text=mal_text2, lang='ml')\n",
        "\n",
        "tts2.save('kozhikode-city.mp3')\n",
        "\n"
      ],
      "metadata": {
        "id": "4eJtDnixjy7c"
      },
      "execution_count": 4,
      "outputs": []
    }
  ]
}