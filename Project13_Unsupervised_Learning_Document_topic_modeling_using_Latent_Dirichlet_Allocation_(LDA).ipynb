{
  "nbformat": 4,
  "nbformat_minor": 0,
  "metadata": {
    "colab": {
      "provenance": [],
      "authorship_tag": "ABX9TyOGJs5lA6Hls7O5eWoP6OMN",
      "include_colab_link": true
    },
    "kernelspec": {
      "name": "python3",
      "display_name": "Python 3"
    },
    "language_info": {
      "name": "python"
    }
  },
  "cells": [
    {
      "cell_type": "markdown",
      "metadata": {
        "id": "view-in-github",
        "colab_type": "text"
      },
      "source": [
        "<a href=\"https://colab.research.google.com/github/ruforavishnu/Project_Machine_Learning/blob/master/Project13_Unsupervised_Learning_Document_topic_modeling_using_Latent_Dirichlet_Allocation_(LDA).ipynb\" target=\"_parent\"><img src=\"https://colab.research.google.com/assets/colab-badge.svg\" alt=\"Open In Colab\"/></a>"
      ]
    },
    {
      "cell_type": "code",
      "execution_count": 25,
      "metadata": {
        "colab": {
          "base_uri": "https://localhost:8080/"
        },
        "id": "ZMAgwS8lhkDg",
        "outputId": "861bf9d5-efb4-4851-dbe3-fcf5a36e74ea"
      },
      "outputs": [
        {
          "output_type": "stream",
          "name": "stdout",
          "text": [
            "Requirement already satisfied: numpy in /usr/local/lib/python3.11/dist-packages (2.2.5)\n",
            "Requirement already satisfied: pandas in /usr/local/lib/python3.11/dist-packages (2.2.2)\n",
            "Requirement already satisfied: nltk in /usr/local/lib/python3.11/dist-packages (3.9.1)\n",
            "Requirement already satisfied: scikit-learn in /usr/local/lib/python3.11/dist-packages (1.6.1)\n",
            "Requirement already satisfied: pyLDAvis in /usr/local/lib/python3.11/dist-packages (3.4.1)\n",
            "Requirement already satisfied: python-dateutil>=2.8.2 in /usr/local/lib/python3.11/dist-packages (from pandas) (2.9.0.post0)\n",
            "Requirement already satisfied: pytz>=2020.1 in /usr/local/lib/python3.11/dist-packages (from pandas) (2025.2)\n",
            "Requirement already satisfied: tzdata>=2022.7 in /usr/local/lib/python3.11/dist-packages (from pandas) (2025.2)\n",
            "Requirement already satisfied: click in /usr/local/lib/python3.11/dist-packages (from nltk) (8.1.8)\n",
            "Requirement already satisfied: joblib in /usr/local/lib/python3.11/dist-packages (from nltk) (1.4.2)\n",
            "Requirement already satisfied: regex>=2021.8.3 in /usr/local/lib/python3.11/dist-packages (from nltk) (2024.11.6)\n",
            "Requirement already satisfied: tqdm in /usr/local/lib/python3.11/dist-packages (from nltk) (4.67.1)\n",
            "Requirement already satisfied: scipy>=1.6.0 in /usr/local/lib/python3.11/dist-packages (from scikit-learn) (1.15.2)\n",
            "Requirement already satisfied: threadpoolctl>=3.1.0 in /usr/local/lib/python3.11/dist-packages (from scikit-learn) (3.6.0)\n",
            "Requirement already satisfied: jinja2 in /usr/local/lib/python3.11/dist-packages (from pyLDAvis) (3.1.6)\n",
            "Requirement already satisfied: numexpr in /usr/local/lib/python3.11/dist-packages (from pyLDAvis) (2.10.2)\n",
            "Requirement already satisfied: funcy in /usr/local/lib/python3.11/dist-packages (from pyLDAvis) (2.0)\n",
            "Requirement already satisfied: gensim in /usr/local/lib/python3.11/dist-packages (from pyLDAvis) (4.3.2)\n",
            "Requirement already satisfied: setuptools in /usr/local/lib/python3.11/dist-packages (from pyLDAvis) (75.2.0)\n",
            "Requirement already satisfied: six>=1.5 in /usr/local/lib/python3.11/dist-packages (from python-dateutil>=2.8.2->pandas) (1.17.0)\n",
            "Requirement already satisfied: smart-open>=1.8.1 in /usr/local/lib/python3.11/dist-packages (from gensim->pyLDAvis) (7.1.0)\n",
            "Requirement already satisfied: MarkupSafe>=2.0 in /usr/local/lib/python3.11/dist-packages (from jinja2->pyLDAvis) (3.0.2)\n",
            "Requirement already satisfied: wrapt in /usr/local/lib/python3.11/dist-packages (from smart-open>=1.8.1->gensim->pyLDAvis) (1.17.2)\n"
          ]
        }
      ],
      "source": [
        "pip install numpy pandas nltk scikit-learn pyLDAvis"
      ]
    },
    {
      "cell_type": "code",
      "source": [
        "import pandas as pd\n",
        "import numpy as np\n",
        "\n",
        "from sklearn.datasets import fetch_20newsgroups\n",
        "from sklearn.feature_extraction.text import CountVectorizer\n",
        "from sklearn.decomposition import LatentDirichletAllocation\n",
        "\n",
        "import nltk\n",
        "from nltk.corpus import stopwords\n",
        "import pyLDAvis\n",
        "\n",
        "\n",
        "nltk.download('stopwords')\n",
        "\n",
        "\n"
      ],
      "metadata": {
        "colab": {
          "base_uri": "https://localhost:8080/"
        },
        "id": "N32XtfdLlUc3",
        "outputId": "b84816ba-546e-4b7a-ee92-25ac26d74ab8"
      },
      "execution_count": 26,
      "outputs": [
        {
          "output_type": "stream",
          "name": "stderr",
          "text": [
            "[nltk_data] Downloading package stopwords to /root/nltk_data...\n",
            "[nltk_data]   Package stopwords is already up-to-date!\n"
          ]
        },
        {
          "output_type": "execute_result",
          "data": {
            "text/plain": [
              "True"
            ]
          },
          "metadata": {},
          "execution_count": 26
        }
      ]
    },
    {
      "cell_type": "markdown",
      "source": [
        "Load the Dataset"
      ],
      "metadata": {
        "id": "W0UvskzqJuQN"
      }
    },
    {
      "cell_type": "code",
      "source": [
        "data = fetch_20newsgroups(remove=('headers', 'footers', 'quotes'))\n",
        "\n",
        "documents = data.data[:1000]"
      ],
      "metadata": {
        "id": "MYjFp6XtsMHz"
      },
      "execution_count": 27,
      "outputs": []
    },
    {
      "cell_type": "markdown",
      "source": [
        " Preprocessing - Tokenization and Stopword Removal"
      ],
      "metadata": {
        "id": "-reDLyQLKBid"
      }
    },
    {
      "cell_type": "code",
      "source": [
        "stop_words = stopwords.words('english')\n",
        "\n",
        "vectorizer = CountVectorizer(max_df=0.95, min_df=2, stop_words=stop_words)\n",
        "\n",
        "\n",
        "dtm = vectorizer.fit_transform(documents)"
      ],
      "metadata": {
        "id": "FFvPwWAaKCFl"
      },
      "execution_count": 29,
      "outputs": []
    },
    {
      "cell_type": "markdown",
      "source": [
        "Apply LDA Model"
      ],
      "metadata": {
        "id": "e2PSdCEXKSRU"
      }
    },
    {
      "cell_type": "code",
      "source": [
        "lda = LatentDirichletAllocation(n_components=5, random_state=42)\n",
        "\n",
        "\n",
        "lda.fit(dtm)"
      ],
      "metadata": {
        "colab": {
          "base_uri": "https://localhost:8080/",
          "height": 80
        },
        "id": "_5Dv7hDcKSu1",
        "outputId": "3c44ca37-b02a-49e0-bdc6-5d0b2d5e8e34"
      },
      "execution_count": 30,
      "outputs": [
        {
          "output_type": "execute_result",
          "data": {
            "text/plain": [
              "LatentDirichletAllocation(n_components=5, random_state=42)"
            ],
            "text/html": [
              "<style>#sk-container-id-2 {\n",
              "  /* Definition of color scheme common for light and dark mode */\n",
              "  --sklearn-color-text: #000;\n",
              "  --sklearn-color-text-muted: #666;\n",
              "  --sklearn-color-line: gray;\n",
              "  /* Definition of color scheme for unfitted estimators */\n",
              "  --sklearn-color-unfitted-level-0: #fff5e6;\n",
              "  --sklearn-color-unfitted-level-1: #f6e4d2;\n",
              "  --sklearn-color-unfitted-level-2: #ffe0b3;\n",
              "  --sklearn-color-unfitted-level-3: chocolate;\n",
              "  /* Definition of color scheme for fitted estimators */\n",
              "  --sklearn-color-fitted-level-0: #f0f8ff;\n",
              "  --sklearn-color-fitted-level-1: #d4ebff;\n",
              "  --sklearn-color-fitted-level-2: #b3dbfd;\n",
              "  --sklearn-color-fitted-level-3: cornflowerblue;\n",
              "\n",
              "  /* Specific color for light theme */\n",
              "  --sklearn-color-text-on-default-background: var(--sg-text-color, var(--theme-code-foreground, var(--jp-content-font-color1, black)));\n",
              "  --sklearn-color-background: var(--sg-background-color, var(--theme-background, var(--jp-layout-color0, white)));\n",
              "  --sklearn-color-border-box: var(--sg-text-color, var(--theme-code-foreground, var(--jp-content-font-color1, black)));\n",
              "  --sklearn-color-icon: #696969;\n",
              "\n",
              "  @media (prefers-color-scheme: dark) {\n",
              "    /* Redefinition of color scheme for dark theme */\n",
              "    --sklearn-color-text-on-default-background: var(--sg-text-color, var(--theme-code-foreground, var(--jp-content-font-color1, white)));\n",
              "    --sklearn-color-background: var(--sg-background-color, var(--theme-background, var(--jp-layout-color0, #111)));\n",
              "    --sklearn-color-border-box: var(--sg-text-color, var(--theme-code-foreground, var(--jp-content-font-color1, white)));\n",
              "    --sklearn-color-icon: #878787;\n",
              "  }\n",
              "}\n",
              "\n",
              "#sk-container-id-2 {\n",
              "  color: var(--sklearn-color-text);\n",
              "}\n",
              "\n",
              "#sk-container-id-2 pre {\n",
              "  padding: 0;\n",
              "}\n",
              "\n",
              "#sk-container-id-2 input.sk-hidden--visually {\n",
              "  border: 0;\n",
              "  clip: rect(1px 1px 1px 1px);\n",
              "  clip: rect(1px, 1px, 1px, 1px);\n",
              "  height: 1px;\n",
              "  margin: -1px;\n",
              "  overflow: hidden;\n",
              "  padding: 0;\n",
              "  position: absolute;\n",
              "  width: 1px;\n",
              "}\n",
              "\n",
              "#sk-container-id-2 div.sk-dashed-wrapped {\n",
              "  border: 1px dashed var(--sklearn-color-line);\n",
              "  margin: 0 0.4em 0.5em 0.4em;\n",
              "  box-sizing: border-box;\n",
              "  padding-bottom: 0.4em;\n",
              "  background-color: var(--sklearn-color-background);\n",
              "}\n",
              "\n",
              "#sk-container-id-2 div.sk-container {\n",
              "  /* jupyter's `normalize.less` sets `[hidden] { display: none; }`\n",
              "     but bootstrap.min.css set `[hidden] { display: none !important; }`\n",
              "     so we also need the `!important` here to be able to override the\n",
              "     default hidden behavior on the sphinx rendered scikit-learn.org.\n",
              "     See: https://github.com/scikit-learn/scikit-learn/issues/21755 */\n",
              "  display: inline-block !important;\n",
              "  position: relative;\n",
              "}\n",
              "\n",
              "#sk-container-id-2 div.sk-text-repr-fallback {\n",
              "  display: none;\n",
              "}\n",
              "\n",
              "div.sk-parallel-item,\n",
              "div.sk-serial,\n",
              "div.sk-item {\n",
              "  /* draw centered vertical line to link estimators */\n",
              "  background-image: linear-gradient(var(--sklearn-color-text-on-default-background), var(--sklearn-color-text-on-default-background));\n",
              "  background-size: 2px 100%;\n",
              "  background-repeat: no-repeat;\n",
              "  background-position: center center;\n",
              "}\n",
              "\n",
              "/* Parallel-specific style estimator block */\n",
              "\n",
              "#sk-container-id-2 div.sk-parallel-item::after {\n",
              "  content: \"\";\n",
              "  width: 100%;\n",
              "  border-bottom: 2px solid var(--sklearn-color-text-on-default-background);\n",
              "  flex-grow: 1;\n",
              "}\n",
              "\n",
              "#sk-container-id-2 div.sk-parallel {\n",
              "  display: flex;\n",
              "  align-items: stretch;\n",
              "  justify-content: center;\n",
              "  background-color: var(--sklearn-color-background);\n",
              "  position: relative;\n",
              "}\n",
              "\n",
              "#sk-container-id-2 div.sk-parallel-item {\n",
              "  display: flex;\n",
              "  flex-direction: column;\n",
              "}\n",
              "\n",
              "#sk-container-id-2 div.sk-parallel-item:first-child::after {\n",
              "  align-self: flex-end;\n",
              "  width: 50%;\n",
              "}\n",
              "\n",
              "#sk-container-id-2 div.sk-parallel-item:last-child::after {\n",
              "  align-self: flex-start;\n",
              "  width: 50%;\n",
              "}\n",
              "\n",
              "#sk-container-id-2 div.sk-parallel-item:only-child::after {\n",
              "  width: 0;\n",
              "}\n",
              "\n",
              "/* Serial-specific style estimator block */\n",
              "\n",
              "#sk-container-id-2 div.sk-serial {\n",
              "  display: flex;\n",
              "  flex-direction: column;\n",
              "  align-items: center;\n",
              "  background-color: var(--sklearn-color-background);\n",
              "  padding-right: 1em;\n",
              "  padding-left: 1em;\n",
              "}\n",
              "\n",
              "\n",
              "/* Toggleable style: style used for estimator/Pipeline/ColumnTransformer box that is\n",
              "clickable and can be expanded/collapsed.\n",
              "- Pipeline and ColumnTransformer use this feature and define the default style\n",
              "- Estimators will overwrite some part of the style using the `sk-estimator` class\n",
              "*/\n",
              "\n",
              "/* Pipeline and ColumnTransformer style (default) */\n",
              "\n",
              "#sk-container-id-2 div.sk-toggleable {\n",
              "  /* Default theme specific background. It is overwritten whether we have a\n",
              "  specific estimator or a Pipeline/ColumnTransformer */\n",
              "  background-color: var(--sklearn-color-background);\n",
              "}\n",
              "\n",
              "/* Toggleable label */\n",
              "#sk-container-id-2 label.sk-toggleable__label {\n",
              "  cursor: pointer;\n",
              "  display: flex;\n",
              "  width: 100%;\n",
              "  margin-bottom: 0;\n",
              "  padding: 0.5em;\n",
              "  box-sizing: border-box;\n",
              "  text-align: center;\n",
              "  align-items: start;\n",
              "  justify-content: space-between;\n",
              "  gap: 0.5em;\n",
              "}\n",
              "\n",
              "#sk-container-id-2 label.sk-toggleable__label .caption {\n",
              "  font-size: 0.6rem;\n",
              "  font-weight: lighter;\n",
              "  color: var(--sklearn-color-text-muted);\n",
              "}\n",
              "\n",
              "#sk-container-id-2 label.sk-toggleable__label-arrow:before {\n",
              "  /* Arrow on the left of the label */\n",
              "  content: \"▸\";\n",
              "  float: left;\n",
              "  margin-right: 0.25em;\n",
              "  color: var(--sklearn-color-icon);\n",
              "}\n",
              "\n",
              "#sk-container-id-2 label.sk-toggleable__label-arrow:hover:before {\n",
              "  color: var(--sklearn-color-text);\n",
              "}\n",
              "\n",
              "/* Toggleable content - dropdown */\n",
              "\n",
              "#sk-container-id-2 div.sk-toggleable__content {\n",
              "  max-height: 0;\n",
              "  max-width: 0;\n",
              "  overflow: hidden;\n",
              "  text-align: left;\n",
              "  /* unfitted */\n",
              "  background-color: var(--sklearn-color-unfitted-level-0);\n",
              "}\n",
              "\n",
              "#sk-container-id-2 div.sk-toggleable__content.fitted {\n",
              "  /* fitted */\n",
              "  background-color: var(--sklearn-color-fitted-level-0);\n",
              "}\n",
              "\n",
              "#sk-container-id-2 div.sk-toggleable__content pre {\n",
              "  margin: 0.2em;\n",
              "  border-radius: 0.25em;\n",
              "  color: var(--sklearn-color-text);\n",
              "  /* unfitted */\n",
              "  background-color: var(--sklearn-color-unfitted-level-0);\n",
              "}\n",
              "\n",
              "#sk-container-id-2 div.sk-toggleable__content.fitted pre {\n",
              "  /* unfitted */\n",
              "  background-color: var(--sklearn-color-fitted-level-0);\n",
              "}\n",
              "\n",
              "#sk-container-id-2 input.sk-toggleable__control:checked~div.sk-toggleable__content {\n",
              "  /* Expand drop-down */\n",
              "  max-height: 200px;\n",
              "  max-width: 100%;\n",
              "  overflow: auto;\n",
              "}\n",
              "\n",
              "#sk-container-id-2 input.sk-toggleable__control:checked~label.sk-toggleable__label-arrow:before {\n",
              "  content: \"▾\";\n",
              "}\n",
              "\n",
              "/* Pipeline/ColumnTransformer-specific style */\n",
              "\n",
              "#sk-container-id-2 div.sk-label input.sk-toggleable__control:checked~label.sk-toggleable__label {\n",
              "  color: var(--sklearn-color-text);\n",
              "  background-color: var(--sklearn-color-unfitted-level-2);\n",
              "}\n",
              "\n",
              "#sk-container-id-2 div.sk-label.fitted input.sk-toggleable__control:checked~label.sk-toggleable__label {\n",
              "  background-color: var(--sklearn-color-fitted-level-2);\n",
              "}\n",
              "\n",
              "/* Estimator-specific style */\n",
              "\n",
              "/* Colorize estimator box */\n",
              "#sk-container-id-2 div.sk-estimator input.sk-toggleable__control:checked~label.sk-toggleable__label {\n",
              "  /* unfitted */\n",
              "  background-color: var(--sklearn-color-unfitted-level-2);\n",
              "}\n",
              "\n",
              "#sk-container-id-2 div.sk-estimator.fitted input.sk-toggleable__control:checked~label.sk-toggleable__label {\n",
              "  /* fitted */\n",
              "  background-color: var(--sklearn-color-fitted-level-2);\n",
              "}\n",
              "\n",
              "#sk-container-id-2 div.sk-label label.sk-toggleable__label,\n",
              "#sk-container-id-2 div.sk-label label {\n",
              "  /* The background is the default theme color */\n",
              "  color: var(--sklearn-color-text-on-default-background);\n",
              "}\n",
              "\n",
              "/* On hover, darken the color of the background */\n",
              "#sk-container-id-2 div.sk-label:hover label.sk-toggleable__label {\n",
              "  color: var(--sklearn-color-text);\n",
              "  background-color: var(--sklearn-color-unfitted-level-2);\n",
              "}\n",
              "\n",
              "/* Label box, darken color on hover, fitted */\n",
              "#sk-container-id-2 div.sk-label.fitted:hover label.sk-toggleable__label.fitted {\n",
              "  color: var(--sklearn-color-text);\n",
              "  background-color: var(--sklearn-color-fitted-level-2);\n",
              "}\n",
              "\n",
              "/* Estimator label */\n",
              "\n",
              "#sk-container-id-2 div.sk-label label {\n",
              "  font-family: monospace;\n",
              "  font-weight: bold;\n",
              "  display: inline-block;\n",
              "  line-height: 1.2em;\n",
              "}\n",
              "\n",
              "#sk-container-id-2 div.sk-label-container {\n",
              "  text-align: center;\n",
              "}\n",
              "\n",
              "/* Estimator-specific */\n",
              "#sk-container-id-2 div.sk-estimator {\n",
              "  font-family: monospace;\n",
              "  border: 1px dotted var(--sklearn-color-border-box);\n",
              "  border-radius: 0.25em;\n",
              "  box-sizing: border-box;\n",
              "  margin-bottom: 0.5em;\n",
              "  /* unfitted */\n",
              "  background-color: var(--sklearn-color-unfitted-level-0);\n",
              "}\n",
              "\n",
              "#sk-container-id-2 div.sk-estimator.fitted {\n",
              "  /* fitted */\n",
              "  background-color: var(--sklearn-color-fitted-level-0);\n",
              "}\n",
              "\n",
              "/* on hover */\n",
              "#sk-container-id-2 div.sk-estimator:hover {\n",
              "  /* unfitted */\n",
              "  background-color: var(--sklearn-color-unfitted-level-2);\n",
              "}\n",
              "\n",
              "#sk-container-id-2 div.sk-estimator.fitted:hover {\n",
              "  /* fitted */\n",
              "  background-color: var(--sklearn-color-fitted-level-2);\n",
              "}\n",
              "\n",
              "/* Specification for estimator info (e.g. \"i\" and \"?\") */\n",
              "\n",
              "/* Common style for \"i\" and \"?\" */\n",
              "\n",
              ".sk-estimator-doc-link,\n",
              "a:link.sk-estimator-doc-link,\n",
              "a:visited.sk-estimator-doc-link {\n",
              "  float: right;\n",
              "  font-size: smaller;\n",
              "  line-height: 1em;\n",
              "  font-family: monospace;\n",
              "  background-color: var(--sklearn-color-background);\n",
              "  border-radius: 1em;\n",
              "  height: 1em;\n",
              "  width: 1em;\n",
              "  text-decoration: none !important;\n",
              "  margin-left: 0.5em;\n",
              "  text-align: center;\n",
              "  /* unfitted */\n",
              "  border: var(--sklearn-color-unfitted-level-1) 1pt solid;\n",
              "  color: var(--sklearn-color-unfitted-level-1);\n",
              "}\n",
              "\n",
              ".sk-estimator-doc-link.fitted,\n",
              "a:link.sk-estimator-doc-link.fitted,\n",
              "a:visited.sk-estimator-doc-link.fitted {\n",
              "  /* fitted */\n",
              "  border: var(--sklearn-color-fitted-level-1) 1pt solid;\n",
              "  color: var(--sklearn-color-fitted-level-1);\n",
              "}\n",
              "\n",
              "/* On hover */\n",
              "div.sk-estimator:hover .sk-estimator-doc-link:hover,\n",
              ".sk-estimator-doc-link:hover,\n",
              "div.sk-label-container:hover .sk-estimator-doc-link:hover,\n",
              ".sk-estimator-doc-link:hover {\n",
              "  /* unfitted */\n",
              "  background-color: var(--sklearn-color-unfitted-level-3);\n",
              "  color: var(--sklearn-color-background);\n",
              "  text-decoration: none;\n",
              "}\n",
              "\n",
              "div.sk-estimator.fitted:hover .sk-estimator-doc-link.fitted:hover,\n",
              ".sk-estimator-doc-link.fitted:hover,\n",
              "div.sk-label-container:hover .sk-estimator-doc-link.fitted:hover,\n",
              ".sk-estimator-doc-link.fitted:hover {\n",
              "  /* fitted */\n",
              "  background-color: var(--sklearn-color-fitted-level-3);\n",
              "  color: var(--sklearn-color-background);\n",
              "  text-decoration: none;\n",
              "}\n",
              "\n",
              "/* Span, style for the box shown on hovering the info icon */\n",
              ".sk-estimator-doc-link span {\n",
              "  display: none;\n",
              "  z-index: 9999;\n",
              "  position: relative;\n",
              "  font-weight: normal;\n",
              "  right: .2ex;\n",
              "  padding: .5ex;\n",
              "  margin: .5ex;\n",
              "  width: min-content;\n",
              "  min-width: 20ex;\n",
              "  max-width: 50ex;\n",
              "  color: var(--sklearn-color-text);\n",
              "  box-shadow: 2pt 2pt 4pt #999;\n",
              "  /* unfitted */\n",
              "  background: var(--sklearn-color-unfitted-level-0);\n",
              "  border: .5pt solid var(--sklearn-color-unfitted-level-3);\n",
              "}\n",
              "\n",
              ".sk-estimator-doc-link.fitted span {\n",
              "  /* fitted */\n",
              "  background: var(--sklearn-color-fitted-level-0);\n",
              "  border: var(--sklearn-color-fitted-level-3);\n",
              "}\n",
              "\n",
              ".sk-estimator-doc-link:hover span {\n",
              "  display: block;\n",
              "}\n",
              "\n",
              "/* \"?\"-specific style due to the `<a>` HTML tag */\n",
              "\n",
              "#sk-container-id-2 a.estimator_doc_link {\n",
              "  float: right;\n",
              "  font-size: 1rem;\n",
              "  line-height: 1em;\n",
              "  font-family: monospace;\n",
              "  background-color: var(--sklearn-color-background);\n",
              "  border-radius: 1rem;\n",
              "  height: 1rem;\n",
              "  width: 1rem;\n",
              "  text-decoration: none;\n",
              "  /* unfitted */\n",
              "  color: var(--sklearn-color-unfitted-level-1);\n",
              "  border: var(--sklearn-color-unfitted-level-1) 1pt solid;\n",
              "}\n",
              "\n",
              "#sk-container-id-2 a.estimator_doc_link.fitted {\n",
              "  /* fitted */\n",
              "  border: var(--sklearn-color-fitted-level-1) 1pt solid;\n",
              "  color: var(--sklearn-color-fitted-level-1);\n",
              "}\n",
              "\n",
              "/* On hover */\n",
              "#sk-container-id-2 a.estimator_doc_link:hover {\n",
              "  /* unfitted */\n",
              "  background-color: var(--sklearn-color-unfitted-level-3);\n",
              "  color: var(--sklearn-color-background);\n",
              "  text-decoration: none;\n",
              "}\n",
              "\n",
              "#sk-container-id-2 a.estimator_doc_link.fitted:hover {\n",
              "  /* fitted */\n",
              "  background-color: var(--sklearn-color-fitted-level-3);\n",
              "}\n",
              "</style><div id=\"sk-container-id-2\" class=\"sk-top-container\"><div class=\"sk-text-repr-fallback\"><pre>LatentDirichletAllocation(n_components=5, random_state=42)</pre><b>In a Jupyter environment, please rerun this cell to show the HTML representation or trust the notebook. <br />On GitHub, the HTML representation is unable to render, please try loading this page with nbviewer.org.</b></div><div class=\"sk-container\" hidden><div class=\"sk-item\"><div class=\"sk-estimator fitted sk-toggleable\"><input class=\"sk-toggleable__control sk-hidden--visually\" id=\"sk-estimator-id-2\" type=\"checkbox\" checked><label for=\"sk-estimator-id-2\" class=\"sk-toggleable__label fitted sk-toggleable__label-arrow\"><div><div>LatentDirichletAllocation</div></div><div><a class=\"sk-estimator-doc-link fitted\" rel=\"noreferrer\" target=\"_blank\" href=\"https://scikit-learn.org/1.6/modules/generated/sklearn.decomposition.LatentDirichletAllocation.html\">?<span>Documentation for LatentDirichletAllocation</span></a><span class=\"sk-estimator-doc-link fitted\">i<span>Fitted</span></span></div></label><div class=\"sk-toggleable__content fitted\"><pre>LatentDirichletAllocation(n_components=5, random_state=42)</pre></div> </div></div></div></div>"
            ]
          },
          "metadata": {},
          "execution_count": 30
        }
      ]
    },
    {
      "cell_type": "markdown",
      "source": [
        " Display the Topics"
      ],
      "metadata": {
        "id": "eCoxI3IgKfiM"
      }
    },
    {
      "cell_type": "code",
      "source": [
        "def display_topics(model, feature_names, no_top_words):\n",
        "  for idx, topic in enumerate(model.components_):\n",
        "    print(f'Topic: {idx}')\n",
        "    print(' | '.join([feature_names[i] for i in topic.argsort()[-no_top_words:]]))\n",
        "\n",
        "\n",
        "feature_names = vectorizer.get_feature_names_out()\n",
        "\n",
        "display_topics(lda, feature_names, 10)\n",
        "\n"
      ],
      "metadata": {
        "colab": {
          "base_uri": "https://localhost:8080/"
        },
        "id": "6Hun5-KDKf61",
        "outputId": "d50019ae-ea6e-4d78-80a4-09dcf1bc3317"
      },
      "execution_count": 31,
      "outputs": [
        {
          "output_type": "stream",
          "name": "stdout",
          "text": [
            "Topic: 0\n",
            "also | data | 50 | 00 | one | shuttle | would | nasa | good | space\n",
            "Topic: 1\n",
            "like | also | god | think | see | know | jesus | one | would | people\n",
            "Topic: 2\n",
            "period | 3t | 0d | 00 | ql | 1t | 04 | 145 | max | ax\n",
            "Topic: 3\n",
            "health | know | time | problem | like | thanks | please | get | would | use\n",
            "Topic: 4\n",
            "us | know | also | think | get | argument | people | father | would | one\n"
          ]
        }
      ]
    },
    {
      "cell_type": "markdown",
      "source": [
        "Visualize the Topics with pyLDAvis"
      ],
      "metadata": {
        "id": "AldvHJeyLIad"
      }
    },
    {
      "cell_type": "code",
      "source": [
        "import pyLDAvis\n",
        "print('pyLDAvis version:', pyLDAvis.__version__)"
      ],
      "metadata": {
        "colab": {
          "base_uri": "https://localhost:8080/"
        },
        "id": "eoU7afa2Lr_v",
        "outputId": "ab5288e1-097c-4945-e115-f2a029f30b19"
      },
      "execution_count": 32,
      "outputs": [
        {
          "output_type": "stream",
          "name": "stdout",
          "text": [
            "pyLDAvis version: 3.4.0\n"
          ]
        }
      ]
    },
    {
      "cell_type": "code",
      "source": [
        "from pyLDAvis import prepare"
      ],
      "metadata": {
        "id": "-IqpUTNtL034"
      },
      "execution_count": 33,
      "outputs": []
    },
    {
      "cell_type": "code",
      "source": [
        "topic_term_dists = lda.components_ / lda.components_.sum(axis=1)[: , np.newaxis]\n",
        "\n",
        "doc_topic_dists = lda.transform(dtm)\n",
        "\n",
        "doc_lengths = dtm.sum(axis=1).A1\n",
        "\n",
        "vocab = vectorizer.get_feature_names_out()\n",
        "\n",
        "term_frequency = np.asarray(dtm.sum(axis=0)).ravel()\n",
        "\n",
        "vis = prepare(topic_term_dists, doc_topic_dists, doc_lengths, vocab, term_frequency)\n",
        "\n",
        "pyLDAvis.enable_notebook()\n",
        "vis"
      ],
      "metadata": {
        "colab": {
          "base_uri": "https://localhost:8080/",
          "height": 861
        },
        "id": "mU2yzZwyMyHF",
        "outputId": "3b4a439b-9ccb-42bf-e768-b113c87ec330"
      },
      "execution_count": 34,
      "outputs": [
        {
          "output_type": "execute_result",
          "data": {
            "text/plain": [
              "PreparedData(topic_coordinates=              x         y  topics  cluster       Freq\n",
              "topic                                                \n",
              "1      0.123206 -0.101419       1        1  36.698251\n",
              "3      0.075363  0.153880       2        1  21.493967\n",
              "4      0.106499 -0.100361       3        1  15.495872\n",
              "2     -0.377661 -0.018011       4        1  13.213237\n",
              "0      0.072593  0.065911       5        1  13.098674, topic_info=             Term         Freq        Total Category  logprob  loglift\n",
              "1176           ax  4381.000000  4381.000000  Default  30.0000  30.0000\n",
              "4662          max   321.000000   321.000000  Default  29.0000  29.0000\n",
              "88            145    98.000000    98.000000  Default  28.0000  28.0000\n",
              "4138        jesus   184.000000   184.000000  Default  27.0000  27.0000\n",
              "5419       people   352.000000   352.000000  Default  26.0000  26.0000\n",
              "...           ...          ...          ...      ...      ...      ...\n",
              "3944  information    23.702315    77.677289   Topic5  -6.2154   0.8457\n",
              "4665          may    26.994299   159.545322   Topic5  -6.0854   0.2560\n",
              "7778         want    24.644114   135.206834   Topic5  -6.1765   0.3304\n",
              "5031          new    23.615987   162.313911   Topic5  -6.2191   0.1051\n",
              "2749          edu    22.487772   116.541997   Topic5  -6.2680   0.3874\n",
              "\n",
              "[355 rows x 6 columns], token_table=      Topic      Freq  Term\n",
              "term                       \n",
              "0         1  0.020221    00\n",
              "0         4  0.556065    00\n",
              "0         5  0.414521    00\n",
              "6         2  0.028464    04\n",
              "6         4  0.896618    04\n",
              "...     ...       ...   ...\n",
              "7958      4  0.935956    wt\n",
              "8004      1  0.377833  year\n",
              "8004      2  0.478589  year\n",
              "8004      3  0.025189  year\n",
              "8004      5  0.125944  year\n",
              "\n",
              "[644 rows x 3 columns], R=30, lambda_step=0.01, plot_opts={'xlab': 'PC1', 'ylab': 'PC2'}, topic_order=[2, 4, 5, 3, 1])"
            ],
            "text/html": [
              "\n",
              "<link rel=\"stylesheet\" type=\"text/css\" href=\"https://cdn.jsdelivr.net/gh/bmabey/pyLDAvis@3.4.0/pyLDAvis/js/ldavis.v1.0.0.css\">\n",
              "\n",
              "\n",
              "<div id=\"ldavis_el64031349138697698408556034887\" style=\"background-color:white;\"></div>\n",
              "<script type=\"text/javascript\">\n",
              "\n",
              "var ldavis_el64031349138697698408556034887_data = {\"mdsDat\": {\"x\": [0.12320613302060482, 0.07536268138637439, 0.10649928139283407, -0.37766144567185367, 0.07259334987204048], \"y\": [-0.10141881573030659, 0.15388020823426443, -0.10036059883152997, -0.018011496799757908, 0.06591070312732986], \"topics\": [1, 2, 3, 4, 5], \"cluster\": [1, 1, 1, 1, 1], \"Freq\": [36.69825115585031, 21.49396682610468, 15.495871802859648, 13.213236704498705, 13.098673510686659]}, \"tinfo\": {\"Term\": [\"ax\", \"max\", \"145\", \"jesus\", \"people\", \"space\", \"00\", \"1t\", \"good\", \"04\", \"father\", \"ql\", \"nasa\", \"argument\", \"0d\", \"windows\", \"use\", \"one\", \"3t\", \"thanks\", \"shuttle\", \"fallacy\", \"program\", \"pp\", \"p2\", \"health\", \"please\", \"would\", \"period\", \"tobacco\", \"turkish\", \"matthew\", \"jesus\", \"greek\", \"jews\", \"prophecy\", \"turks\", \"religion\", \"muslim\", \"belief\", \"religious\", \"messiah\", \"christian\", \"psalm\", \"jewish\", \"christians\", \"isaiah\", \"armenia\", \"fit\", \"europe\", \"prophet\", \"testament\", \"muslims\", \"eternal\", \"kurds\", \"ottoman\", \"nazi\", \"koresh\", \"becomes\", \"1920\", \"bill\", \"genocide\", \"faith\", \"armenian\", \"people\", \"bible\", \"lord\", \"god\", \"soviet\", \"john\", \"world\", \"see\", \"believe\", \"might\", \"government\", \"say\", \"would\", \"one\", \"law\", \"seems\", \"armenians\", \"point\", \"think\", \"without\", \"could\", \"know\", \"us\", \"way\", \"much\", \"said\", \"many\", \"well\", \"time\", \"even\", \"also\", \"like\", \"good\", \"get\", \"make\", \"may\", \"really\", \"scsi\", \"smokeless\", \"ram\", \"simms\", \"dos\", \"tobacco\", \"controller\", \"bios\", \"borland\", \"ide\", \"pitcher\", \"morris\", \"reserve\", \"screen\", \"infections\", \"mac\", \"exhaust\", \"floppy\", \"vga\", \"widget\", \"800\", \"season\", \"sale\", \"cable\", \"cdc\", \"plug\", \"386\", \"mask\", \"cin\", \"273\", \"ibm\", \"health\", \"team\", \"runs\", \"disk\", \"files\", \"games\", \"memory\", \"h7\", \"video\", \"game\", \"players\", \"thanks\", \"card\", \"software\", \"file\", \"machine\", \"info\", \"use\", \"pc\", \"please\", \"1993\", \"program\", \"problem\", \"help\", \"looking\", \"windows\", \"mail\", \"get\", \"edu\", \"like\", \"20\", \"would\", \"system\", \"year\", \"time\", \"new\", \"know\", \"using\", \"10\", \"anyone\", \"one\", \"also\", \"fallacy\", \"sumgait\", \"creed\", \"bits\", \"door\", \"azerbaijani\", \"father\", \"devils\", \"premises\", \"bandits\", \"skepticism\", \"pitt\", \"hominem\", \"radius\", \"shouting\", \"circle\", \"n3jxp\", \"chastity\", \"geb\", \"gay\", \"vram\", \"baku\", \"axe\", \"forms\", \"dsl\", \"cadre\", \"shameful\", \"fought\", \"font\", \"asserting\", \"p1\", \"p3\", \"block\", \"premise\", \"nt\", \"proposition\", \"weaver\", \"spirit\", \"mob\", \"conclusion\", \"valid\", \"argument\", \"ad\", \"son\", \"occurs\", \"starters\", \"p2\", \"holy\", \"none\", \"driver\", \"therefore\", \"brian\", \"false\", \"form\", \"windows\", \"example\", \"one\", \"always\", \"think\", \"us\", \"would\", \"get\", \"two\", \"also\", \"people\", \"well\", \"right\", \"know\", \"true\", \"way\", \"must\", \"used\", \"like\", \"said\", \"something\", \"even\", \"ax\", \"max\", \"1t\", \"ql\", \"0d\", \"3t\", \"cx\", \"0t\", \"m_\", \"145\", \"0m\", \"sl\", \"gk\", \"bj\", \"gy\", \"m4\", \"pts\", \"scorer\", \"qq\", \"cz\", \"mv\", \"lj\", \"wm\", \"m9\", \"mi\", \"wt\", \"ml\", \"m8\", \"m0\", \"kn\", \"tm\", \"04\", \"mu\", \"pp\", \"mp\", \"period\", \"00\", \"34\", \"power\", \"15\", \"play\", \"18\", \"14\", \"11\", \"10\", \"st\", \"nasa\", \"shuttle\", \"astronaut\", \"orbit\", \"launch\", \"tn\", \"morality\", \"orbiter\", \"missions\", \"vg\", \"titan\", \"flight\", \"satellite\", \"mission\", \"lunar\", \"selection\", \"detailed\", \"gravity\", \"sensing\", \"motion\", \"maneuver\", \"davidian\", \"schedule\", \"homicides\", \"revolver\", \"flights\", \"ns\", \"pilot\", \"defence\", \"arrow\", \"space\", \"module\", \"candidates\", \"atmosphere\", \"excellent\", \"moral\", \"fair\", \"missing\", \"earth\", \"university\", \"class\", \"spence\", \"50\", \"poster\", \"data\", \"good\", \"research\", \"00\", \"included\", \"program\", \"would\", \"one\", \"also\", \"like\", \"information\", \"may\", \"want\", \"new\", \"edu\"], \"Freq\": [4381.0, 321.0, 98.0, 184.0, 352.0, 86.0, 98.0, 61.0, 220.0, 70.0, 68.0, 56.0, 56.0, 92.0, 53.0, 106.0, 229.0, 449.0, 51.0, 108.0, 43.0, 47.0, 84.0, 48.0, 69.0, 70.0, 132.0, 494.0, 71.0, 54.0, 75.34731672565238, 72.49447409052699, 182.48967696148668, 47.75857622588974, 45.855177896714494, 33.48834794033284, 32.536148127041805, 31.575553581399316, 29.68231539655379, 29.67849858861812, 27.778103017168416, 26.82860528149403, 62.84003302086452, 25.877255283603212, 25.873174551069532, 38.80610711411968, 23.974486027887824, 22.070344082636268, 22.040580594032672, 21.118653640936465, 20.16903244556901, 19.217386959003065, 18.260608478486493, 17.310591545016734, 17.307402540538664, 16.363316336039695, 16.362861321728822, 16.35467408584374, 16.35114975539441, 15.410184036163557, 35.68955360357821, 52.933208623789874, 39.60984035491358, 90.56811452716593, 278.0163616042636, 46.05119643645192, 28.548866815429893, 119.17914783304961, 38.95948387091242, 47.456186311963016, 64.81483196277783, 136.1042751662656, 88.27833949010848, 77.92450320754936, 71.040975373326, 99.9947396409735, 264.3997784759991, 243.77371890754745, 46.1971569631702, 59.72771532361122, 64.785788664067, 79.0965558293513, 132.99790320548732, 74.6924670682117, 114.27777141119945, 144.52491621010014, 108.6086219934017, 96.88089385073881, 92.6941799744057, 92.02200378104065, 93.74915782118501, 112.46437836752187, 115.37778363166477, 96.05148111772289, 116.79425183824107, 116.33516432009525, 99.02834106678823, 109.01394902876392, 77.41920673065147, 78.08088369094602, 75.19025882515282, 41.255091580119995, 35.65208424818347, 28.185856153890605, 28.15635974721494, 40.82788657690513, 53.34723673050244, 19.786333260860705, 19.78563595754575, 18.85302591931683, 17.918047195305807, 16.987525021201794, 16.98541654950073, 16.98447467430353, 24.11474652930273, 15.117770474737107, 36.356837263948975, 14.177702203742456, 13.251136856078167, 13.249558613681627, 13.24964363480666, 13.24727644861271, 28.9838651068608, 26.30455320657598, 27.125171378126183, 11.387253602171697, 11.384917593475393, 11.384522582530797, 11.380223031903185, 10.453930677483852, 10.453408609401, 29.294075876778177, 63.57971560065953, 45.43906285475379, 28.95762408655436, 41.154951076955, 41.074150617492485, 43.07554756180836, 44.40395007427885, 25.388165727679215, 30.021672420530948, 56.528489013584334, 24.446029498782263, 84.81771746835082, 46.83133504277812, 59.67973512669653, 45.10288835948577, 40.95708286291522, 36.93598920468888, 136.0591450505392, 38.770575640041585, 84.96236096429763, 50.751868906850554, 57.47870561007034, 74.77428364972761, 51.8095616654753, 38.00820371035295, 59.37094672909583, 43.95504361019237, 91.57139036436291, 57.54324078733958, 84.72755565340793, 55.614486632295254, 107.55697044879909, 60.12605708205651, 56.62633824439019, 72.86016004371622, 61.543284423058076, 69.14239493223931, 49.88580325328779, 52.816403313921526, 51.528526965645035, 61.733013330387266, 45.3437301455498, 46.40599652700401, 17.998980455949315, 17.107901399013855, 12.650674048859473, 25.11885941347888, 10.870241455392144, 64.10269986479467, 9.069778947769002, 21.442550590601133, 8.197555418607763, 8.196661790878863, 8.194605341922891, 8.189101049688158, 27.734071954827876, 7.305799422846072, 7.305562860518547, 7.305504847823478, 7.305504847823466, 7.303864267798333, 7.3026449065986565, 7.295566712944355, 6.4154781071430405, 6.415428349570417, 6.414579950948712, 6.414523477574539, 6.414523477574508, 6.414523477574483, 6.412889026375181, 6.409403040172174, 5.523937698931483, 37.60180116255084, 44.7144340255498, 19.025694122017658, 11.707760407088065, 18.679564169316162, 10.870824726934137, 18.890267057450874, 36.110838636628074, 9.983631624500143, 35.08376596489692, 18.658706773664264, 61.115536929804094, 32.07608403954123, 37.52152715617942, 17.47109515915015, 9.980249469298974, 44.691120742123054, 22.868509013922928, 29.82020740092553, 21.164179469396352, 30.574367169137897, 15.302174373995632, 21.03439675223772, 20.253952223021937, 46.14613799206433, 40.22308649184811, 102.02763168297257, 29.65862962077002, 57.54698208422693, 49.55956156998067, 77.27747344357482, 58.257695918800145, 44.750452079589294, 54.11805137130084, 61.291108344190825, 48.921252971855964, 37.6956768160633, 52.43406118478141, 35.607379939531704, 39.32979857453781, 34.61545489354406, 35.50624094242633, 40.663031928290394, 35.387843241299436, 33.87021708879766, 34.76605090270342, 4381.169613323566, 320.3448091217225, 60.65440873992363, 56.20760398114955, 52.6501511144206, 50.87143819803216, 33.97356489403355, 28.637403926155383, 26.858609424809664, 96.12029917784032, 25.96931027395636, 25.079957954673556, 24.190566532780142, 24.188465557279418, 23.301244994882424, 22.411819182318588, 20.63317248850961, 20.63317248850961, 20.633114205225787, 19.743762866888442, 18.833092261122335, 17.075700739534557, 37.54312953483608, 16.186141676254525, 16.180906468095785, 15.296959669142463, 15.29692781203193, 15.296815601820734, 15.296749161891693, 14.407629538183802, 34.52403152873674, 63.0643889997969, 25.22198974771019, 41.08982785151404, 19.748148468219707, 46.790103912038525, 55.171177765252956, 28.391167408639582, 36.62415027177363, 34.372128238331854, 26.5410619262788, 26.908258173608388, 28.36098272195927, 25.012919471885713, 27.877263313637307, 24.723193696304023, 55.92571069304339, 42.858559573538585, 26.308629328382274, 26.30714776316822, 26.306259016607655, 23.68911151702816, 20.204675700823856, 19.338719336982372, 16.724393169756688, 15.838142506737062, 14.983616523394094, 12.369414768465662, 12.3679447416864, 26.289187049672577, 9.756221393660384, 9.755857518207282, 9.747288977900752, 8.885723069805042, 8.884743554466063, 8.87474157579217, 8.012359510301732, 8.77002322809515, 7.963353727939046, 7.143463317970263, 7.140750903289356, 9.502184016000248, 7.08740568394818, 14.11279017805132, 6.272309310281443, 6.271773132504548, 76.24724145956446, 22.727185548054692, 12.37082807723136, 11.988995661496938, 33.213409294350576, 24.492492352159104, 24.763652807125652, 24.376023100614304, 29.71485630309049, 29.132499519806256, 22.183377331084277, 12.370591995238158, 38.97746097450156, 14.814345418830806, 34.41848168851089, 72.9936802402797, 22.195583355604143, 41.060148734696995, 19.163607383656235, 25.2550390768983, 45.23513304898717, 41.748379136657775, 33.73096068744018, 33.19824401069116, 23.702315282718853, 26.994299207374905, 24.644113564265815, 23.615987362100793, 22.48777190568245], \"Total\": [4381.0, 321.0, 98.0, 184.0, 352.0, 86.0, 98.0, 61.0, 220.0, 70.0, 68.0, 56.0, 56.0, 92.0, 53.0, 106.0, 229.0, 449.0, 51.0, 108.0, 43.0, 47.0, 84.0, 48.0, 69.0, 70.0, 132.0, 494.0, 71.0, 54.0, 76.06565894004488, 73.21163893593896, 184.4389057346528, 48.47590934232094, 46.57312441403194, 34.20533619628824, 33.25389571448327, 32.30189480825454, 30.399802582043332, 30.399563240322877, 28.496959042437854, 27.545712826400706, 64.56676627846366, 26.59434136149189, 26.59407186728602, 39.88880874897175, 24.69159853711163, 22.788729624464324, 22.786435183496916, 21.83740127551765, 20.886101365072474, 19.934724002548393, 18.982987152752806, 18.03169155592864, 18.031489182595795, 17.080586744863812, 17.080560036343794, 17.080040275879966, 17.080004656547473, 16.12907488272627, 37.91392043963226, 56.81468875974924, 42.609752437699676, 104.65311034621575, 352.89592278913585, 51.931789063899735, 31.218948019134604, 155.28505497169112, 44.35371055128189, 55.662481231980756, 80.62410164963504, 191.70315396579235, 117.26922964199795, 101.2262314437501, 94.32975607293103, 144.48845285544115, 494.64750051572855, 449.4611427042115, 55.4831706603381, 78.03297059968212, 86.97934546404106, 115.66654370652591, 237.36034129400332, 108.36887832424303, 198.5209368882862, 279.31628171194683, 190.85069047737477, 162.89007049539634, 153.97782265344313, 152.47024354050913, 157.91426581692824, 214.40956111007205, 228.5153332696512, 171.13233776193127, 250.16541263041066, 275.1023209857777, 220.26808399830088, 279.68971641892614, 146.60359645376644, 159.5453220086985, 134.56141657195093, 41.97626110269466, 36.375920540789394, 28.908806849201383, 28.909196427506, 41.956887508482424, 54.99942088447284, 20.508357107566532, 20.508394081823077, 19.57492533484143, 18.641654153962133, 17.708224802469882, 17.708113477962705, 17.70805979585909, 25.160426030460886, 15.84134347813076, 38.165132141801855, 14.90743546294911, 13.974556091070372, 13.974413910004891, 13.97459215504054, 13.974424010947327, 30.73135602881785, 27.93240697227153, 28.838897480557456, 12.107900767210865, 12.107807576883966, 12.107806296217248, 12.107790202055117, 11.174516920174248, 11.174493234122819, 31.603993183890644, 70.47066819621709, 50.11579075885548, 31.616910760462993, 45.56036034970541, 45.54458699603706, 48.19867012912475, 50.29446496550061, 27.887421388221156, 33.44717572294106, 66.63633428001248, 26.91776770926671, 108.25002449564275, 55.96262173727989, 73.92277967722693, 53.954930786864495, 48.332334121791355, 43.6415147435406, 229.09854586188223, 47.97173804052231, 132.88825532725957, 68.88270921892355, 84.01876141605614, 130.37563228021847, 81.5238069485584, 49.561502505687415, 106.06193405071133, 67.6273316848368, 279.68971641892614, 116.54199682623289, 275.1023209857777, 113.72113256937266, 494.64750051572855, 135.73391040728762, 119.10011458432425, 228.5153332696512, 162.31391098216483, 279.31628171194683, 89.4818309084352, 115.6443035811664, 135.65110831791966, 449.4611427042115, 250.16541263041066, 47.24632720248801, 18.728035610835043, 17.83699970227853, 13.381921290432938, 26.72786641617319, 11.599755567258967, 68.88293474255462, 9.817824564773163, 23.25172878398599, 8.92661055706437, 8.926641562478537, 8.926681020842937, 8.927162091840222, 30.270429429561947, 8.035620394059842, 8.035617533742657, 8.035607052439838, 8.035607052439836, 8.035623261730771, 8.035742392928912, 8.03595268325713, 7.144533274952806, 7.144536645827371, 7.144578938608012, 7.144578534326494, 7.144578534326497, 7.144578534326498, 7.144708554280365, 7.1447759854576605, 6.253528608071313, 43.66704717455462, 53.46341597333731, 22.329844525058476, 13.44579167057154, 22.40351973829796, 12.533127290574566, 23.103696298136434, 46.98731933695169, 11.64188511806835, 47.06153074494931, 23.41183496494973, 92.85080140865695, 45.24724660705368, 54.50958926147912, 22.466204305819918, 11.642045176678202, 69.45371453230365, 31.71751441923505, 45.36541021275219, 30.62480131215456, 51.02082505347227, 20.813316122914532, 32.79303669748274, 31.369024866196632, 106.06193405071133, 88.3512341760696, 449.4611427042115, 61.37662822694435, 237.36034129400332, 190.85069047737477, 494.64750051572855, 279.68971641892614, 160.49545290079047, 250.16541263041066, 352.89592278913585, 214.40956111007205, 119.59112706241362, 279.31628171194683, 103.87457523663518, 162.89007049539634, 114.3010661871905, 138.08594718932204, 275.1023209857777, 152.47024354050913, 111.66101006897816, 171.13233776193127, 4381.89900399218, 321.07725951537384, 61.38380318464104, 56.93699873123598, 53.37955498307416, 51.600833385664195, 34.702976151182845, 29.366810904171643, 27.588087636846762, 98.76217498846393, 26.698728011132754, 25.80936729714483, 24.920005782788486, 24.920041656925374, 24.03064569884671, 23.141283480567726, 21.36256324343547, 21.36256324343547, 21.362562045663065, 20.473201351753687, 19.584171185375222, 17.805119103978758, 39.151435289221176, 16.915754158263525, 16.91597187744195, 16.02639693030155, 16.026396278236735, 16.026393981468303, 16.026392621538708, 15.137036670473687, 36.567329842744236, 70.26406666891687, 27.554791771114793, 48.477152782740724, 22.37528678165221, 71.753234308707, 98.9093881222692, 38.72601904970973, 86.4349625525715, 90.65679502491334, 50.92160269584984, 59.28241690980361, 85.02048558790803, 58.139534866721185, 115.6443035811664, 58.3675760723511, 56.661271824384684, 43.5939195106481, 27.041893683154584, 27.041970597772877, 27.042051927203016, 24.428555425956336, 20.944199789954297, 20.07268649481421, 17.459299899767974, 16.58838945916623, 15.716901129687747, 13.103487042196294, 13.103561522949834, 27.99484135699178, 10.490016084600729, 10.490034496959222, 10.490830466337062, 9.61880506514542, 9.61887769780637, 9.619515001084162, 8.74773655713932, 9.621895956356672, 8.748936111912233, 7.876495806950051, 7.876745570859278, 10.495359934708645, 7.877756320639749, 15.736765298352363, 7.0053416768216845, 7.00535955523552, 86.1059762066878, 25.43092887284674, 14.03654733844019, 14.089880333884093, 44.331761251677115, 31.783141063113227, 34.37253791313478, 33.80151195729658, 45.48697430244401, 45.59983312521649, 32.113482022747895, 14.8854931833891, 77.35181968343193, 19.510322396572786, 68.66337860579502, 220.26808399830088, 36.79053128929401, 98.9093881222692, 35.089919575023316, 84.01876141605614, 494.64750051572855, 449.4611427042115, 250.16541263041066, 275.1023209857777, 77.67728913466377, 159.5453220086985, 135.2068341285525, 162.31391098216483, 116.54199682623289], \"Category\": [\"Default\", \"Default\", \"Default\", \"Default\", \"Default\", \"Default\", \"Default\", \"Default\", \"Default\", \"Default\", \"Default\", \"Default\", \"Default\", \"Default\", \"Default\", \"Default\", \"Default\", \"Default\", \"Default\", \"Default\", \"Default\", \"Default\", \"Default\", \"Default\", \"Default\", \"Default\", \"Default\", \"Default\", \"Default\", \"Default\", \"Topic1\", \"Topic1\", \"Topic1\", \"Topic1\", \"Topic1\", \"Topic1\", \"Topic1\", \"Topic1\", \"Topic1\", \"Topic1\", \"Topic1\", \"Topic1\", \"Topic1\", \"Topic1\", \"Topic1\", \"Topic1\", \"Topic1\", \"Topic1\", \"Topic1\", \"Topic1\", \"Topic1\", \"Topic1\", \"Topic1\", \"Topic1\", \"Topic1\", \"Topic1\", \"Topic1\", \"Topic1\", \"Topic1\", \"Topic1\", \"Topic1\", \"Topic1\", \"Topic1\", \"Topic1\", \"Topic1\", \"Topic1\", \"Topic1\", \"Topic1\", \"Topic1\", \"Topic1\", \"Topic1\", \"Topic1\", \"Topic1\", \"Topic1\", \"Topic1\", \"Topic1\", \"Topic1\", \"Topic1\", \"Topic1\", \"Topic1\", \"Topic1\", \"Topic1\", \"Topic1\", \"Topic1\", \"Topic1\", \"Topic1\", \"Topic1\", \"Topic1\", \"Topic1\", \"Topic1\", \"Topic1\", \"Topic1\", \"Topic1\", \"Topic1\", \"Topic1\", \"Topic1\", \"Topic1\", \"Topic1\", \"Topic1\", \"Topic1\", \"Topic1\", \"Topic2\", \"Topic2\", \"Topic2\", \"Topic2\", \"Topic2\", \"Topic2\", \"Topic2\", \"Topic2\", \"Topic2\", \"Topic2\", \"Topic2\", \"Topic2\", \"Topic2\", \"Topic2\", \"Topic2\", \"Topic2\", \"Topic2\", \"Topic2\", \"Topic2\", \"Topic2\", \"Topic2\", \"Topic2\", \"Topic2\", \"Topic2\", \"Topic2\", \"Topic2\", \"Topic2\", \"Topic2\", \"Topic2\", \"Topic2\", \"Topic2\", \"Topic2\", \"Topic2\", \"Topic2\", \"Topic2\", \"Topic2\", \"Topic2\", \"Topic2\", \"Topic2\", \"Topic2\", \"Topic2\", \"Topic2\", \"Topic2\", \"Topic2\", \"Topic2\", \"Topic2\", \"Topic2\", \"Topic2\", \"Topic2\", \"Topic2\", \"Topic2\", \"Topic2\", \"Topic2\", \"Topic2\", \"Topic2\", \"Topic2\", \"Topic2\", \"Topic2\", \"Topic2\", \"Topic2\", \"Topic2\", \"Topic2\", \"Topic2\", \"Topic2\", \"Topic2\", \"Topic2\", \"Topic2\", \"Topic2\", \"Topic2\", \"Topic2\", \"Topic2\", \"Topic2\", \"Topic2\", \"Topic3\", \"Topic3\", \"Topic3\", \"Topic3\", \"Topic3\", \"Topic3\", \"Topic3\", \"Topic3\", \"Topic3\", \"Topic3\", \"Topic3\", \"Topic3\", \"Topic3\", \"Topic3\", \"Topic3\", \"Topic3\", \"Topic3\", \"Topic3\", \"Topic3\", \"Topic3\", \"Topic3\", \"Topic3\", \"Topic3\", \"Topic3\", \"Topic3\", \"Topic3\", \"Topic3\", \"Topic3\", \"Topic3\", \"Topic3\", \"Topic3\", \"Topic3\", \"Topic3\", \"Topic3\", \"Topic3\", \"Topic3\", \"Topic3\", \"Topic3\", \"Topic3\", \"Topic3\", \"Topic3\", \"Topic3\", \"Topic3\", \"Topic3\", \"Topic3\", \"Topic3\", \"Topic3\", \"Topic3\", \"Topic3\", \"Topic3\", \"Topic3\", \"Topic3\", \"Topic3\", \"Topic3\", \"Topic3\", \"Topic3\", \"Topic3\", \"Topic3\", \"Topic3\", \"Topic3\", \"Topic3\", \"Topic3\", \"Topic3\", \"Topic3\", \"Topic3\", \"Topic3\", \"Topic3\", \"Topic3\", \"Topic3\", \"Topic3\", \"Topic3\", \"Topic3\", \"Topic3\", \"Topic3\", \"Topic3\", \"Topic3\", \"Topic4\", \"Topic4\", \"Topic4\", \"Topic4\", \"Topic4\", \"Topic4\", \"Topic4\", \"Topic4\", \"Topic4\", \"Topic4\", \"Topic4\", \"Topic4\", \"Topic4\", \"Topic4\", \"Topic4\", \"Topic4\", \"Topic4\", \"Topic4\", \"Topic4\", \"Topic4\", \"Topic4\", \"Topic4\", \"Topic4\", \"Topic4\", \"Topic4\", \"Topic4\", \"Topic4\", \"Topic4\", \"Topic4\", \"Topic4\", \"Topic4\", \"Topic4\", \"Topic4\", \"Topic4\", \"Topic4\", \"Topic4\", \"Topic4\", \"Topic4\", \"Topic4\", \"Topic4\", \"Topic4\", \"Topic4\", \"Topic4\", \"Topic4\", \"Topic4\", \"Topic4\", \"Topic5\", \"Topic5\", \"Topic5\", \"Topic5\", \"Topic5\", \"Topic5\", \"Topic5\", \"Topic5\", \"Topic5\", \"Topic5\", \"Topic5\", \"Topic5\", \"Topic5\", \"Topic5\", \"Topic5\", \"Topic5\", \"Topic5\", \"Topic5\", \"Topic5\", \"Topic5\", \"Topic5\", \"Topic5\", \"Topic5\", \"Topic5\", \"Topic5\", \"Topic5\", \"Topic5\", \"Topic5\", \"Topic5\", \"Topic5\", \"Topic5\", \"Topic5\", \"Topic5\", \"Topic5\", \"Topic5\", \"Topic5\", \"Topic5\", \"Topic5\", \"Topic5\", \"Topic5\", \"Topic5\", \"Topic5\", \"Topic5\", \"Topic5\", \"Topic5\", \"Topic5\", \"Topic5\", \"Topic5\", \"Topic5\", \"Topic5\", \"Topic5\", \"Topic5\", \"Topic5\", \"Topic5\", \"Topic5\", \"Topic5\", \"Topic5\", \"Topic5\", \"Topic5\"], \"logprob\": [30.0, 29.0, 28.0, 27.0, 26.0, 25.0, 24.0, 23.0, 22.0, 21.0, 20.0, 19.0, 18.0, 17.0, 16.0, 15.0, 14.0, 13.0, 12.0, 11.0, 10.0, 9.0, 8.0, 7.0, 6.0, 5.0, 4.0, 3.0, 2.0, 1.0, -6.0891, -6.1277, -5.2045, -6.5451, -6.5857, -6.9, -6.9289, -6.9588, -7.0207, -7.0208, -7.087, -7.1217, -6.2706, -7.1579, -7.158, -6.7526, -7.2342, -7.317, -7.3183, -7.3611, -7.4071, -7.4554, -7.5065, -7.5599, -7.5601, -7.6162, -7.6162, -7.6167, -7.6169, -7.6762, -6.8364, -6.4422, -6.7321, -5.9051, -4.7835, -6.5815, -7.0596, -5.6306, -6.7487, -6.5514, -6.2397, -5.4978, -5.9307, -6.0555, -6.148, -5.8061, -4.8338, -4.915, -6.5783, -6.3214, -6.2401, -6.0405, -5.5209, -6.0978, -5.6726, -5.4378, -5.7235, -5.8377, -5.8819, -5.8892, -5.8706, -5.6886, -5.663, -5.8463, -5.6508, -5.6547, -5.8158, -5.7197, -6.062, -6.0535, -6.0912, -6.1565, -6.3025, -6.5374, -6.5385, -6.1669, -5.8994, -6.8913, -6.8913, -6.9396, -6.9905, -7.0438, -7.0439, -7.044, -6.6934, -7.1604, -6.2829, -7.2246, -7.2922, -7.2923, -7.2923, -7.2925, -6.5095, -6.6065, -6.5758, -7.4438, -7.444, -7.444, -7.4444, -7.5293, -7.5293, -6.4989, -5.724, -6.0599, -6.5104, -6.1589, -6.1609, -6.1133, -6.0829, -6.642, -6.4743, -5.8415, -6.6798, -5.4358, -6.0297, -5.7873, -6.0673, -6.1637, -6.2671, -4.9632, -6.2186, -5.4341, -5.9493, -5.8248, -5.5618, -5.9287, -6.2385, -5.7925, -6.0931, -5.3591, -5.8237, -5.4368, -5.8578, -5.1982, -5.7798, -5.8398, -5.5877, -5.7565, -5.6401, -5.9665, -5.9094, -5.9341, -5.7534, -6.062, -5.7116, -6.6587, -6.7095, -7.0114, -6.3254, -7.163, -5.3886, -7.3441, -6.4837, -7.4452, -7.4453, -7.4456, -7.4463, -6.2264, -7.5604, -7.5604, -7.5604, -7.5604, -7.5607, -7.5608, -7.5618, -7.6903, -7.6904, -7.6905, -7.6905, -7.6905, -7.6905, -7.6908, -7.6913, -7.84, -5.922, -5.7488, -6.6033, -7.0888, -6.6216, -7.163, -6.6104, -5.9625, -7.2481, -5.9913, -6.6227, -5.4363, -6.081, -5.9241, -6.6885, -7.2485, -5.7493, -6.4193, -6.1539, -6.4968, -6.1289, -6.8211, -6.5029, -6.5407, -5.7172, -5.8546, -4.9238, -6.1593, -5.4965, -5.6459, -5.2017, -5.4842, -5.748, -5.5579, -5.4334, -5.6588, -5.9195, -5.5895, -5.9765, -5.8771, -6.0048, -5.9794, -5.8437, -5.9827, -6.0265, -6.0004, -1.0046, -3.6203, -5.2845, -5.3607, -5.426, -5.4604, -5.8641, -6.035, -6.0991, -4.8241, -6.1328, -6.1676, -6.2037, -6.2038, -6.2412, -6.2801, -6.3628, -6.3628, -6.3628, -6.4069, -6.4541, -6.552, -5.7642, -6.6056, -6.6059, -6.6621, -6.6621, -6.6621, -6.6621, -6.7219, -5.8481, -5.2456, -6.162, -5.6739, -6.4066, -5.544, -5.3793, -6.0436, -5.789, -5.8525, -6.111, -6.0973, -6.0447, -6.1703, -6.0619, -6.182, -5.357, -5.6231, -6.1111, -6.1112, -6.1112, -6.216, -6.3751, -6.4189, -6.5641, -6.6186, -6.674, -6.8658, -6.8659, -6.1118, -7.1031, -7.1031, -7.104, -7.1966, -7.1967, -7.1978, -7.3, -7.2097, -7.3061, -7.4148, -7.4152, -7.1295, -7.4227, -6.7339, -7.5449, -7.5449, -5.047, -6.2574, -6.8657, -6.897, -5.878, -6.1826, -6.1716, -6.1874, -5.9894, -6.0091, -6.2817, -6.8657, -5.718, -6.6854, -5.8424, -5.0906, -6.2811, -5.666, -6.428, -6.152, -5.5691, -5.6493, -5.8626, -5.8785, -6.2154, -6.0854, -6.1765, -6.2191, -6.268], \"loglift\": [30.0, 29.0, 28.0, 27.0, 26.0, 25.0, 24.0, 23.0, 22.0, 21.0, 20.0, 19.0, 18.0, 17.0, 16.0, 15.0, 14.0, 13.0, 12.0, 11.0, 10.0, 9.0, 8.0, 7.0, 6.0, 5.0, 4.0, 3.0, 2.0, 1.0, 0.993, 0.9926, 0.9918, 0.9875, 0.9869, 0.9813, 0.9806, 0.9797, 0.9786, 0.9784, 0.9769, 0.9761, 0.9753, 0.9751, 0.975, 0.9749, 0.973, 0.9704, 0.9692, 0.969, 0.9675, 0.9658, 0.9636, 0.9616, 0.9615, 0.9595, 0.9595, 0.959, 0.9588, 0.9568, 0.942, 0.9317, 0.9294, 0.8579, 0.7639, 0.8823, 0.913, 0.7378, 0.8728, 0.8429, 0.7842, 0.6599, 0.7185, 0.7408, 0.7189, 0.6344, 0.3761, 0.3906, 0.8193, 0.7351, 0.7079, 0.6224, 0.4232, 0.6303, 0.4502, 0.3435, 0.4387, 0.4828, 0.4949, 0.4975, 0.481, 0.3572, 0.319, 0.4249, 0.2407, 0.1418, 0.203, 0.0602, 0.3639, 0.2879, 0.4204, 1.5201, 1.5173, 1.5121, 1.511, 1.5101, 1.5069, 1.5016, 1.5015, 1.4998, 1.4978, 1.4958, 1.4957, 1.4957, 1.4949, 1.4906, 1.4889, 1.4872, 1.4842, 1.4841, 1.4841, 1.484, 1.4789, 1.4774, 1.4761, 1.476, 1.4758, 1.4758, 1.4754, 1.4707, 1.4707, 1.4615, 1.4345, 1.4394, 1.4495, 1.4357, 1.4341, 1.425, 1.4128, 1.4435, 1.4294, 1.3729, 1.4411, 1.2935, 1.3593, 1.3234, 1.3582, 1.3718, 1.3706, 1.0163, 1.3244, 1.0901, 1.2319, 1.1578, 0.9815, 1.0841, 1.272, 0.9572, 1.1066, 0.4208, 0.8317, 0.3597, 0.8221, 0.0116, 0.7231, 0.7939, 0.3943, 0.5676, 0.1412, 0.9531, 0.7537, 0.5694, -0.4478, -0.1705, 1.8467, 1.8249, 1.8229, 1.8084, 1.8025, 1.7996, 1.7927, 1.7853, 1.7836, 1.7794, 1.7793, 1.779, 1.7783, 1.7771, 1.7694, 1.7693, 1.7693, 1.7693, 1.7691, 1.7689, 1.7679, 1.757, 1.757, 1.7568, 1.7568, 1.7568, 1.7568, 1.7565, 1.756, 1.7405, 1.7151, 1.6859, 1.7045, 1.7262, 1.6828, 1.7223, 1.6633, 1.6013, 1.7109, 1.5709, 1.6377, 1.4464, 1.5206, 1.4911, 1.6131, 1.7106, 1.4237, 1.5375, 1.445, 1.4951, 1.3525, 1.557, 1.4205, 1.4271, 1.0324, 1.0777, 0.3818, 1.1373, 0.4476, 0.5163, 0.0082, 0.2958, 0.5874, 0.3336, 0.1141, 0.3869, 0.7101, 0.1918, 0.794, 0.4435, 0.6701, 0.5064, -0.0472, 0.404, 0.6717, 0.2708, 2.0238, 2.0217, 2.012, 2.0111, 2.0102, 2.0097, 2.0027, 1.9988, 1.9972, 1.9968, 1.9963, 1.9953, 1.9942, 1.9942, 1.9931, 1.9919, 1.9892, 1.9892, 1.9892, 1.9877, 1.9848, 1.9821, 1.982, 1.9799, 1.9795, 1.9774, 1.9774, 1.9774, 1.9774, 1.9746, 1.9665, 1.9158, 1.9355, 1.8586, 1.8991, 1.5964, 1.4402, 1.7135, 1.1653, 1.0541, 1.3724, 1.2341, 0.9261, 1.1805, 0.6012, 1.1649, 2.0196, 2.0156, 2.0052, 2.0051, 2.0051, 2.0019, 1.9967, 1.9954, 1.9897, 1.9864, 1.9849, 1.975, 1.9749, 1.9698, 1.9601, 1.9601, 1.9591, 1.9534, 1.9533, 1.9521, 1.9448, 1.94, 1.9386, 1.935, 1.9346, 1.9332, 1.9269, 1.9237, 1.9221, 1.922, 1.9111, 1.9203, 1.9063, 1.8712, 1.7439, 1.7721, 1.7048, 1.7058, 1.6069, 1.5846, 1.6627, 1.8476, 1.3473, 1.7573, 1.342, 0.9282, 1.5273, 1.1535, 1.4278, 0.8306, -0.3593, -0.3437, 0.029, -0.082, 0.8457, 0.256, 0.3304, 0.1051, 0.3874]}, \"token.table\": {\"Topic\": [1, 4, 5, 2, 4, 5, 4, 4, 4, 1, 2, 4, 5, 1, 2, 3, 4, 5, 1, 2, 3, 4, 5, 2, 4, 5, 1, 2, 3, 4, 5, 1, 2, 3, 4, 1, 1, 2, 3, 5, 4, 1, 2, 3, 4, 5, 2, 1, 2, 3, 4, 2, 4, 1, 2, 3, 4, 5, 2, 3, 4, 5, 1, 2, 3, 5, 1, 2, 3, 5, 1, 2, 3, 5, 1, 2, 3, 1, 1, 3, 1, 3, 5, 3, 5, 1, 5, 4, 3, 3, 3, 3, 1, 1, 1, 2, 3, 5, 1, 3, 1, 2, 5, 2, 3, 4, 1, 3, 5, 2, 1, 3, 2, 5, 3, 2, 5, 1, 2, 3, 5, 2, 3, 1, 3, 5, 1, 3, 2, 3, 1, 3, 5, 1, 3, 2, 1, 2, 3, 5, 3, 4, 4, 1, 2, 5, 5, 5, 5, 3, 1, 2, 5, 3, 5, 2, 3, 1, 2, 3, 4, 3, 1, 3, 5, 1, 2, 3, 5, 1, 1, 1, 2, 3, 5, 1, 2, 3, 1, 2, 5, 2, 2, 3, 5, 1, 3, 3, 1, 3, 1, 3, 1, 2, 5, 2, 3, 1, 5, 5, 2, 3, 1, 3, 5, 3, 3, 1, 2, 4, 5, 2, 5, 3, 3, 1, 3, 5, 1, 2, 3, 5, 4, 1, 3, 5, 1, 2, 3, 5, 1, 3, 5, 5, 1, 4, 2, 4, 2, 5, 1, 2, 3, 5, 1, 3, 5, 3, 2, 5, 2, 1, 2, 5, 2, 1, 2, 3, 5, 1, 2, 3, 5, 1, 1, 3, 1, 1, 1, 2, 3, 5, 4, 1, 2, 3, 5, 1, 1, 5, 1, 3, 5, 1, 2, 3, 5, 4, 1, 2, 3, 1, 3, 5, 4, 4, 4, 4, 4, 2, 5, 1, 2, 3, 5, 1, 2, 3, 5, 1, 2, 3, 5, 5, 1, 2, 3, 5, 2, 1, 4, 1, 2, 3, 5, 1, 2, 5, 1, 4, 1, 2, 3, 5, 1, 2, 3, 5, 1, 5, 5, 4, 2, 3, 2, 5, 1, 3, 5, 5, 2, 5, 1, 4, 4, 5, 1, 2, 3, 5, 1, 1, 1, 2, 3, 5, 4, 3, 5, 1, 1, 2, 3, 4, 5, 1, 3, 4, 5, 5, 1, 2, 3, 4, 1, 3, 5, 1, 2, 3, 5, 5, 5, 1, 3, 4, 3, 4, 5, 3, 4, 2, 4, 5, 1, 2, 3, 5, 1, 2, 3, 4, 5, 3, 5, 2, 3, 1, 2, 4, 5, 2, 5, 1, 2, 3, 5, 2, 1, 2, 3, 5, 1, 2, 5, 1, 2, 3, 4, 5, 1, 4, 1, 3, 1, 3, 1, 2, 3, 5, 2, 3, 5, 1, 1, 2, 3, 1, 4, 4, 4, 3, 5, 2, 1, 2, 3, 5, 1, 1, 1, 2, 3, 5, 2, 5, 1, 2, 3, 5, 2, 3, 1, 2, 3, 5, 2, 3, 5, 1, 2, 3, 5, 5, 4, 2, 2, 2, 3, 1, 2, 3, 5, 1, 2, 3, 5, 5, 5, 3, 3, 5, 2, 3, 4, 2, 1, 2, 3, 5, 1, 2, 3, 5, 1, 3, 1, 3, 1, 2, 5, 3, 5, 1, 3, 1, 3, 4, 5, 2, 3, 3, 1, 2, 3, 5, 2, 4, 5, 1, 1, 2, 3, 5, 1, 3, 5, 1, 2, 3, 5, 1, 2, 3, 5, 5, 1, 4, 5, 2, 3, 1, 2, 3, 5, 1, 1, 1, 2, 3, 5, 1, 2, 5, 1, 2, 3, 5, 1, 2, 3, 5, 1, 2, 3, 5, 1, 2, 3, 5, 1, 2, 3, 5, 2, 2, 3, 3, 1, 2, 3, 5, 1, 2, 3, 5, 3, 5, 1, 2, 3, 5, 2, 2, 3, 1, 2, 3, 5, 3, 4, 1, 2, 3, 5, 1, 2, 3, 5, 4, 1, 2, 3, 5], \"Freq\": [0.020220527474375357, 0.5560645055453223, 0.4145208132246948, 0.028464051325465794, 0.8966176167521724, 0.07116012831366449, 0.9928895064188057, 0.9738291647886221, 0.987509338165162, 0.18159130497301917, 0.4583018649319055, 0.24212173996402556, 0.11241366498329758, 0.12040000003520443, 0.3096000000905257, 0.05160000001508761, 0.43000000012573014, 0.08600000002514602, 0.1999518102307547, 0.34109426451128744, 0.047047484760177574, 0.32933239332124303, 0.08233309833031076, 0.010125333915710206, 0.9720320559081798, 0.010125333915710206, 0.17648980416308618, 0.22061225520385772, 0.06618367656115731, 0.3750408338465581, 0.1544285786427004, 0.20242089687837178, 0.25302612109796474, 0.08434204036598825, 0.4554470179763365, 0.9299975422684983, 0.014517431316787968, 0.7403889971561863, 0.05806972526715187, 0.18872660711824357, 0.9937474844384183, 0.15828192696743995, 0.49243266167647987, 0.052760642322479984, 0.15828192696743995, 0.14948848658035996, 0.894895167994165, 0.12911216083382776, 0.10328972866706221, 0.051644864333531104, 0.7230281006694355, 0.9085047886367862, 0.9883561301970926, 0.10342355270684768, 0.323198602208899, 0.01292794408835596, 0.0646397204417798, 0.5041898194458825, 0.9302708998822434, 0.7072253540177063, 0.08840316925221328, 0.1989071308174799, 0.467690552302102, 0.1798809816546546, 0.21585717798558554, 0.13591007502796126, 0.32585693573861063, 0.16292846786930532, 0.48878540360791595, 0.03258569357386106, 0.4054519029147839, 0.3833363445739775, 0.11794964448430077, 0.09583408614349438, 0.3230989883217416, 0.010769966277391387, 0.6569679429208746, 0.9653894869322772, 0.8695393734495972, 0.13377528822301493, 0.7473038530379865, 0.25293361179747237, 0.8564870871639764, 0.9594583116252018, 0.9614711271569114, 0.1419458471332999, 0.8516750827997994, 0.9997948368980296, 0.8398025368802866, 0.9482958443579782, 0.8398029331089697, 0.8961968206027465, 0.9367678944903881, 0.9868562835207815, 0.7504099776953281, 0.07674647499156766, 0.11938340554243858, 0.04263693055087092, 0.8857773019026759, 0.09628014151116043, 0.9495193212034175, 0.02637553670009493, 0.02637553670009493, 0.9752104392087104, 0.9714599060819478, 0.9630802520480662, 0.04478311521057853, 0.8508791890009921, 0.08956623042115706, 0.9706295004958143, 0.24023082004194532, 0.720692460125836, 0.9362355137953107, 0.03467538939982632, 0.8397976131373865, 0.07124259092272793, 0.8549110910727352, 0.1250834893486933, 0.8398462856269406, 0.01786906990695618, 0.03573813981391236, 0.9084977000958625, 0.8711227358827363, 0.9757341683846066, 0.015487843942612803, 0.015487843942612803, 0.977717841749419, 0.025069688249985102, 0.8948932711306921, 0.8711215996289075, 0.24911655467112295, 0.03113956933389037, 0.6850705253455881, 0.2337365535263753, 0.7437072157657395, 0.9752121974032247, 0.5742467358198661, 0.20652733481240798, 0.12593130171488293, 0.08563328516612038, 0.9530750845854637, 0.9797430586898269, 0.9768867924647674, 0.16020184592360895, 0.3349674960220914, 0.4951693419457004, 0.9353665889573646, 0.8564892730146166, 0.9532133830670473, 0.916700022558199, 0.021948904537285246, 0.8999050860286951, 0.06584671361185575, 0.9353533727956809, 0.03741413491182723, 0.9771935535425746, 0.023833989110794502, 0.09795981921389124, 0.13061309228518833, 0.6857187344972387, 0.09795981921389124, 0.8397976131373869, 0.24182747190131243, 0.08793726250956815, 0.6595294688217612, 0.17161195572974877, 0.49767467161627144, 0.137289564583799, 0.18877315130272365, 0.942784538392937, 0.9616528878618685, 0.5609693717475494, 0.16945949771540553, 0.20452008344962738, 0.06427774051274003, 0.4074645966830285, 0.13582153222767615, 0.45273844075892056, 0.06767157259935183, 0.18045752693160486, 0.7443872985928701, 0.9391286673549957, 0.11637197142988619, 0.14546496428735772, 0.7273248214367887, 0.9387522271687583, 0.046937611358437915, 0.9736206542119875, 0.33543706554155084, 0.6403798523975062, 0.05806953514611033, 0.9291125623377653, 0.09266993631687258, 0.8340294268518531, 0.05560196179012354, 0.9002167481191015, 0.08782602420674161, 0.9654866951691289, 0.915786764344269, 0.9528020060493145, 0.9302621074530514, 0.8397744047136375, 0.1593929049859633, 0.6375716199438533, 0.19127148598315596, 0.8397975656167903, 0.8397823304360574, 0.015006827893591819, 0.8553891899347337, 0.015006827893591819, 0.10504779525514274, 0.8921407973457056, 0.08298984161355401, 0.8711080641609021, 0.8711209786721993, 0.9328573500441002, 0.05280324622891133, 0.017601082076303776, 0.3897175820248504, 0.32893594079161687, 0.20737265832514976, 0.07508320387634733, 0.9630816384712114, 0.7663326005306436, 0.17387378331367542, 0.05151815801886679, 0.44945231375764666, 0.18159689444753402, 0.0363193788895068, 0.33141433236674955, 0.7526787193757436, 0.15901663085403034, 0.08480886978881617, 0.9356671581392461, 0.9901825597749961, 0.9571111941076069, 0.8964615140272266, 0.07171692112217813, 0.9081792700162812, 0.08514180656402637, 0.17172897738735401, 0.6378504874387435, 0.14719626633201774, 0.04906542211067257, 0.25222657407064686, 0.7251514004531098, 0.8887200820729633, 0.8961414520872558, 0.9176055643114756, 0.031641571183154325, 0.9655795484315562, 0.11399285174900096, 0.34197855524700294, 0.5414660458077546, 0.9468893860364653, 0.06874188528123973, 0.84781658513529, 0.022913961760413243, 0.06874188528123973, 0.1673590845512489, 0.47632970218432374, 0.051495102938845815, 0.3089706176330749, 0.9719905320802882, 0.9867766200144259, 0.0054218495605188235, 0.9776614927473066, 0.9876940956561793, 0.8443748636378835, 0.0538962678917798, 0.0538962678917798, 0.035930845261186534, 0.9248838002294338, 0.5191247682064433, 0.24703178624996264, 0.18616888239127619, 0.046542220597819046, 0.9367659409208083, 0.9427951195738508, 0.9614655008426057, 0.8290802319428889, 0.14418786642485026, 0.018023483303106283, 0.4216612916399095, 0.30897594646027854, 0.14903545652789904, 0.1199553674492846, 0.9547815940305142, 0.20176950847792505, 0.7667241322161151, 0.020176950847792505, 0.928923036811664, 0.06406365771114925, 0.9532873848191644, 0.9359561040480635, 0.9506819281857859, 0.9359560246269282, 0.9458638290852572, 0.9786832764710625, 0.9432693660339666, 0.026201926834276853, 0.062070248716736505, 0.8482933991287323, 0.062070248716736505, 0.020690082905578836, 0.17744305003668515, 0.6506245168011788, 0.07393460418195215, 0.103508445854733, 0.5252258598190874, 0.20463345187756654, 0.12960118618912547, 0.13642230125171104, 0.9145222821634853, 0.5952597095247573, 0.12665100202654409, 0.1583137525331801, 0.11398590182388968, 0.9085059962579227, 0.9834501869709656, 0.9966448588822521, 0.488889295016418, 0.1441596639150976, 0.1943021557116533, 0.16923090981337546, 0.05964871088812346, 0.8748477596924774, 0.039765807258748974, 0.9801888290261388, 0.9458516552239348, 0.7705512581819608, 0.049394311421920564, 0.11854634741260936, 0.0691520359906888, 0.20709132801051938, 0.029584475430074197, 0.029584475430074197, 0.7100274103217807, 0.03572086682856831, 0.9287425375427761, 0.9736931089788957, 0.9359558904935763, 0.08589674179553512, 0.8589674179553513, 0.0786443943907787, 0.904410535493955, 0.1258528850895202, 0.09438966381714016, 0.7551173105371213, 0.9549183163155666, 0.9600119188955992, 0.9355981043727942, 0.08938432921628539, 0.893843292162854, 0.9072832125774605, 0.07258265700619683, 0.6039830827411717, 0.2922498787457282, 0.09092218449867101, 0.012988883499810144, 0.9868485138689852, 0.9482174673120264, 0.3936971150059409, 0.11373472211282737, 0.30620886722684293, 0.19247414511401556, 0.9701712582143144, 0.871122735882736, 0.9883293861381329, 0.9367374351868678, 0.40045859043555576, 0.381975886261607, 0.0431263097392137, 0.030804506956581212, 0.1478616333915898, 0.28656194089358655, 0.6612967866775075, 0.02204322622258358, 0.02204322622258358, 0.8885778786607014, 0.04463584346037102, 0.04463584346037102, 0.8480810257470494, 0.04463584346037102, 0.13353390537906057, 0.7566921304813432, 0.04451130179302019, 0.5428722904319571, 0.1379429590441858, 0.2269384164920476, 0.0934452303202549, 0.9614683924751145, 0.9465598939588211, 0.9367359704321195, 0.870221424592756, 0.13740338283043516, 0.6479135105015877, 0.3311557942563671, 0.014398078011146394, 0.8416970592085232, 0.1496350327481819, 0.8129786743823254, 0.06253682110633273, 0.12507364221266545, 0.7877676732641424, 0.022669573331342226, 0.17285549665148447, 0.014168483332088892, 0.13936654000816986, 0.027873308001633974, 0.06968327000408493, 0.6550227380383984, 0.1114932320065359, 0.06354546064842817, 0.8896364490779943, 0.9600058836856927, 0.8961897463705463, 0.05891409227472141, 0.39276061516480937, 0.5302268304724926, 0.019638030758240468, 0.8916043952536882, 0.07430036627114069, 0.14297727028780174, 0.6396351565506919, 0.04515071693299002, 0.16555262875429674, 0.9085046925424406, 0.6829978442205568, 0.051873253991434685, 0.20749301596573874, 0.051873253991434685, 0.15376475790717764, 0.10250983860478509, 0.7688237895358881, 0.24295724067939953, 0.16197149378626635, 0.1156939241330474, 0.4280675192922753, 0.0578469620665237, 0.14439791939456073, 0.8457592421681414, 0.07437271263012905, 0.8924725515615487, 0.04300755480550433, 0.903158650915591, 0.21476405912892638, 0.5752608726667671, 0.053691014782231594, 0.15340289937780455, 0.6784199033563377, 0.011902103567655047, 0.29755258919137617, 0.9647617497640898, 0.9575745923289308, 0.07978854573287879, 0.8776740030616668, 0.977651585598112, 0.9830281020445014, 0.9835432363469144, 0.9830281571616701, 0.924995136430253, 0.06607108117358951, 0.9685629761912332, 0.5573663083421612, 0.26753582800423736, 0.1263363632242232, 0.044589304667372896, 0.9906539597739823, 0.9825609798681403, 0.24462816068706753, 0.10872362697203, 0.0271809067430075, 0.5979799483461651, 0.9600148291782556, 0.8886919016271293, 0.535156759302042, 0.11706554109732167, 0.3177493258355874, 0.025085473092283216, 0.9172306624043913, 0.06325728706237181, 0.6033964258446071, 0.10493850884254036, 0.22955298809305705, 0.059027911223928954, 0.930818458495545, 0.03580070994213635, 0.9157815590046237, 0.6920968286652548, 0.03460484143326274, 0.214550016886229, 0.05536774629322038, 0.9143968932528255, 0.9830281020445014, 0.953878919655176, 0.9767425426407979, 0.9436615804654277, 0.03254005449880785, 0.7094301642229003, 0.07824597399517282, 0.15127554972400079, 0.06259677919613826, 0.7689057527722061, 0.10252076703629413, 0.07689057527722061, 0.05126038351814707, 0.9532857115864328, 0.9356600928663945, 0.8397976131373865, 0.8711212895490431, 0.9863760928745342, 0.9685499239044592, 0.8961937077911248, 0.9686405603118226, 0.9896656762165548, 0.04058288951117726, 0.8116577902235451, 0.013527629837059086, 0.13527629837059085, 0.4209168443932751, 0.08955677540282449, 0.30449303636960323, 0.18806922834593143, 0.29352633576541903, 0.6971250474428702, 0.8792950920060698, 0.11273014000077818, 0.05806797878927773, 0.046454383031422186, 0.8826332775970215, 0.13435900143582907, 0.8061540086149744, 0.21282337747954513, 0.7661641589263625, 0.1884607986181344, 0.23985919824126195, 0.42831999685939637, 0.13706239899500683, 0.08589556085929291, 0.8589556085929291, 0.9611258956377763, 0.1768165370612606, 0.44204134265315154, 0.24312273845923335, 0.13261240279594547, 0.8979205818886232, 0.019953790708636072, 0.05986137212590821, 0.9531107627861364, 0.05542723918959954, 0.7852192218526601, 0.05542723918959954, 0.10161660518093249, 0.3527971172778005, 0.6075950353117675, 0.03919967969753339, 0.5603294942825401, 0.11796410405948213, 0.2443542155517844, 0.08004707061179145, 0.5032485057109863, 0.3194533992774087, 0.09627362717949303, 0.07876933132867611, 0.9543866107082911, 0.054693629767360336, 0.9571385209288058, 0.9824567839365164, 0.963646510230123, 0.018182009626983454, 0.5872466853514132, 0.04813497420913223, 0.34657181430575207, 0.019253989683652894, 0.9859902753109017, 0.9923649332197584, 0.43614942812909585, 0.18692118348389822, 0.28038177522584734, 0.09969129785807905, 0.10964952407325859, 0.2412289529611689, 0.6359672396248998, 0.5711270927412332, 0.0890748676752382, 0.2619849049271712, 0.08383516957669478, 0.22697656069519315, 0.5936310048951206, 0.09166361104998184, 0.0872986771904589, 0.34036772717763153, 0.28967466142777154, 0.26070719528499436, 0.11586986457110861, 0.1788072487740271, 0.5587726524188347, 0.1564563426772737, 0.11175453048376693, 0.12814031896651215, 0.08542687931100809, 0.8115553534545769, 0.964530043099446, 0.9302715722977645, 0.8969367174228501, 0.08969367174228501, 0.8710852684068768, 0.4733488540908356, 0.1183372135227089, 0.22188227535507918, 0.18490189612923266, 0.5954936338660461, 0.12892130217718525, 0.23942527547191547, 0.03683465776491007, 0.8223792312199221, 0.1731324697305099, 0.5223647649859339, 0.18189487352188766, 0.22853458468134605, 0.06529559562324173, 0.9302597067429255, 0.5562787490919255, 0.4337088552242131, 0.6920806153921579, 0.09227741538562106, 0.12918838153986947, 0.08304967384705896, 0.025541847766569904, 0.9705902151296564, 0.8062105334514972, 0.012403238976176881, 0.08682267283323816, 0.09922591180941505, 0.5337134014116088, 0.21833730057747633, 0.15566640874505255, 0.09097387524061513, 0.9359558524124088, 0.37783338964077556, 0.47858896021164904, 0.025188892642718372, 0.12594446321359185], \"Term\": [\"00\", \"00\", \"00\", \"04\", \"04\", \"04\", \"0d\", \"0m\", \"0t\", \"10\", \"10\", \"10\", \"10\", \"11\", \"11\", \"11\", \"11\", \"11\", \"14\", \"14\", \"14\", \"14\", \"14\", \"145\", \"145\", \"145\", \"15\", \"15\", \"15\", \"15\", \"15\", \"18\", \"18\", \"18\", \"18\", \"1920\", \"1993\", \"1993\", \"1993\", \"1993\", \"1t\", \"20\", \"20\", \"20\", \"20\", \"20\", \"273\", \"34\", \"34\", \"34\", \"34\", \"386\", \"3t\", \"50\", \"50\", \"50\", \"50\", \"50\", \"800\", \"ad\", \"ad\", \"ad\", \"also\", \"also\", \"also\", \"also\", \"always\", \"always\", \"always\", \"always\", \"anyone\", \"anyone\", \"anyone\", \"anyone\", \"argument\", \"argument\", \"argument\", \"armenia\", \"armenian\", \"armenian\", \"armenians\", \"armenians\", \"arrow\", \"asserting\", \"astronaut\", \"atmosphere\", \"atmosphere\", \"ax\", \"axe\", \"azerbaijani\", \"baku\", \"bandits\", \"becomes\", \"belief\", \"believe\", \"believe\", \"believe\", \"believe\", \"bible\", \"bible\", \"bill\", \"bill\", \"bill\", \"bios\", \"bits\", \"bj\", \"block\", \"block\", \"block\", \"borland\", \"brian\", \"brian\", \"cable\", \"cable\", \"cadre\", \"candidates\", \"candidates\", \"card\", \"card\", \"card\", \"card\", \"cdc\", \"chastity\", \"christian\", \"christian\", \"christian\", \"christians\", \"christians\", \"cin\", \"circle\", \"class\", \"class\", \"class\", \"conclusion\", \"conclusion\", \"controller\", \"could\", \"could\", \"could\", \"could\", \"creed\", \"cx\", \"cz\", \"data\", \"data\", \"data\", \"davidian\", \"defence\", \"detailed\", \"devils\", \"disk\", \"disk\", \"disk\", \"door\", \"door\", \"dos\", \"dos\", \"driver\", \"driver\", \"driver\", \"driver\", \"dsl\", \"earth\", \"earth\", \"earth\", \"edu\", \"edu\", \"edu\", \"edu\", \"eternal\", \"europe\", \"even\", \"even\", \"even\", \"even\", \"example\", \"example\", \"example\", \"excellent\", \"excellent\", \"excellent\", \"exhaust\", \"fair\", \"fair\", \"fair\", \"faith\", \"faith\", \"fallacy\", \"false\", \"false\", \"father\", \"father\", \"file\", \"file\", \"file\", \"files\", \"files\", \"fit\", \"flight\", \"flights\", \"floppy\", \"font\", \"form\", \"form\", \"form\", \"forms\", \"fought\", \"game\", \"game\", \"game\", \"game\", \"games\", \"games\", \"gay\", \"geb\", \"genocide\", \"genocide\", \"genocide\", \"get\", \"get\", \"get\", \"get\", \"gk\", \"god\", \"god\", \"god\", \"good\", \"good\", \"good\", \"good\", \"government\", \"government\", \"government\", \"gravity\", \"greek\", \"gy\", \"h7\", \"h7\", \"health\", \"health\", \"help\", \"help\", \"help\", \"help\", \"holy\", \"holy\", \"homicides\", \"hominem\", \"ibm\", \"ibm\", \"ide\", \"included\", \"included\", \"included\", \"infections\", \"info\", \"info\", \"info\", \"info\", \"information\", \"information\", \"information\", \"information\", \"isaiah\", \"jesus\", \"jesus\", \"jewish\", \"jews\", \"john\", \"john\", \"john\", \"john\", \"kn\", \"know\", \"know\", \"know\", \"know\", \"koresh\", \"kurds\", \"launch\", \"law\", \"law\", \"law\", \"like\", \"like\", \"like\", \"like\", \"lj\", \"looking\", \"looking\", \"looking\", \"lord\", \"lord\", \"lunar\", \"m0\", \"m4\", \"m8\", \"m9\", \"m_\", \"mac\", \"mac\", \"machine\", \"machine\", \"machine\", \"machine\", \"mail\", \"mail\", \"mail\", \"mail\", \"make\", \"make\", \"make\", \"make\", \"maneuver\", \"many\", \"many\", \"many\", \"many\", \"mask\", \"matthew\", \"max\", \"may\", \"may\", \"may\", \"may\", \"memory\", \"memory\", \"memory\", \"messiah\", \"mi\", \"might\", \"might\", \"might\", \"might\", \"missing\", \"missing\", \"missing\", \"missing\", \"mission\", \"mission\", \"missions\", \"ml\", \"mob\", \"mob\", \"module\", \"module\", \"moral\", \"moral\", \"moral\", \"morality\", \"morris\", \"motion\", \"mp\", \"mp\", \"mu\", \"mu\", \"much\", \"much\", \"much\", \"much\", \"muslim\", \"muslims\", \"must\", \"must\", \"must\", \"must\", \"mv\", \"n3jxp\", \"nasa\", \"nazi\", \"new\", \"new\", \"new\", \"new\", \"new\", \"none\", \"none\", \"none\", \"none\", \"ns\", \"nt\", \"nt\", \"nt\", \"nt\", \"occurs\", \"occurs\", \"occurs\", \"one\", \"one\", \"one\", \"one\", \"orbit\", \"orbiter\", \"ottoman\", \"p1\", \"p1\", \"p2\", \"p2\", \"p2\", \"p3\", \"p3\", \"pc\", \"pc\", \"pc\", \"people\", \"people\", \"people\", \"people\", \"period\", \"period\", \"period\", \"period\", \"period\", \"pilot\", \"pilot\", \"pitcher\", \"pitt\", \"play\", \"play\", \"play\", \"play\", \"players\", \"players\", \"please\", \"please\", \"please\", \"please\", \"plug\", \"point\", \"point\", \"point\", \"point\", \"poster\", \"poster\", \"poster\", \"power\", \"power\", \"power\", \"power\", \"power\", \"pp\", \"pp\", \"premise\", \"premise\", \"premises\", \"premises\", \"problem\", \"problem\", \"problem\", \"problem\", \"program\", \"program\", \"program\", \"prophecy\", \"prophet\", \"proposition\", \"proposition\", \"psalm\", \"pts\", \"ql\", \"qq\", \"radius\", \"radius\", \"ram\", \"really\", \"really\", \"really\", \"really\", \"religion\", \"religious\", \"research\", \"research\", \"research\", \"research\", \"reserve\", \"revolver\", \"right\", \"right\", \"right\", \"right\", \"runs\", \"runs\", \"said\", \"said\", \"said\", \"said\", \"sale\", \"sale\", \"satellite\", \"say\", \"say\", \"say\", \"say\", \"schedule\", \"scorer\", \"screen\", \"scsi\", \"season\", \"season\", \"see\", \"see\", \"see\", \"see\", \"seems\", \"seems\", \"seems\", \"seems\", \"selection\", \"sensing\", \"shameful\", \"shouting\", \"shuttle\", \"simms\", \"skepticism\", \"sl\", \"smokeless\", \"software\", \"software\", \"software\", \"software\", \"something\", \"something\", \"something\", \"something\", \"son\", \"son\", \"soviet\", \"soviet\", \"space\", \"space\", \"space\", \"spence\", \"spence\", \"spirit\", \"spirit\", \"st\", \"st\", \"st\", \"st\", \"starters\", \"starters\", \"sumgait\", \"system\", \"system\", \"system\", \"system\", \"team\", \"team\", \"team\", \"testament\", \"thanks\", \"thanks\", \"thanks\", \"thanks\", \"therefore\", \"therefore\", \"therefore\", \"think\", \"think\", \"think\", \"think\", \"time\", \"time\", \"time\", \"time\", \"titan\", \"tm\", \"tm\", \"tn\", \"tobacco\", \"tobacco\", \"true\", \"true\", \"true\", \"true\", \"turkish\", \"turks\", \"two\", \"two\", \"two\", \"two\", \"university\", \"university\", \"university\", \"us\", \"us\", \"us\", \"us\", \"use\", \"use\", \"use\", \"use\", \"used\", \"used\", \"used\", \"used\", \"using\", \"using\", \"using\", \"using\", \"valid\", \"valid\", \"valid\", \"vg\", \"vga\", \"video\", \"video\", \"vram\", \"want\", \"want\", \"want\", \"want\", \"way\", \"way\", \"way\", \"way\", \"weaver\", \"weaver\", \"well\", \"well\", \"well\", \"well\", \"widget\", \"windows\", \"windows\", \"without\", \"without\", \"without\", \"without\", \"wm\", \"wm\", \"world\", \"world\", \"world\", \"world\", \"would\", \"would\", \"would\", \"would\", \"wt\", \"year\", \"year\", \"year\", \"year\"]}, \"R\": 30, \"lambda.step\": 0.01, \"plot.opts\": {\"xlab\": \"PC1\", \"ylab\": \"PC2\"}, \"topic.order\": [2, 4, 5, 3, 1]};\n",
              "\n",
              "function LDAvis_load_lib(url, callback){\n",
              "  var s = document.createElement('script');\n",
              "  s.src = url;\n",
              "  s.async = true;\n",
              "  s.onreadystatechange = s.onload = callback;\n",
              "  s.onerror = function(){console.warn(\"failed to load library \" + url);};\n",
              "  document.getElementsByTagName(\"head\")[0].appendChild(s);\n",
              "}\n",
              "\n",
              "if(typeof(LDAvis) !== \"undefined\"){\n",
              "   // already loaded: just create the visualization\n",
              "   !function(LDAvis){\n",
              "       new LDAvis(\"#\" + \"ldavis_el64031349138697698408556034887\", ldavis_el64031349138697698408556034887_data);\n",
              "   }(LDAvis);\n",
              "}else if(typeof define === \"function\" && define.amd){\n",
              "   // require.js is available: use it to load d3/LDAvis\n",
              "   require.config({paths: {d3: \"https://d3js.org/d3.v5\"}});\n",
              "   require([\"d3\"], function(d3){\n",
              "      window.d3 = d3;\n",
              "      LDAvis_load_lib(\"https://cdn.jsdelivr.net/gh/bmabey/pyLDAvis@3.4.0/pyLDAvis/js/ldavis.v3.0.0.js\", function(){\n",
              "        new LDAvis(\"#\" + \"ldavis_el64031349138697698408556034887\", ldavis_el64031349138697698408556034887_data);\n",
              "      });\n",
              "    });\n",
              "}else{\n",
              "    // require.js not available: dynamically load d3 & LDAvis\n",
              "    LDAvis_load_lib(\"https://d3js.org/d3.v5.js\", function(){\n",
              "         LDAvis_load_lib(\"https://cdn.jsdelivr.net/gh/bmabey/pyLDAvis@3.4.0/pyLDAvis/js/ldavis.v3.0.0.js\", function(){\n",
              "                 new LDAvis(\"#\" + \"ldavis_el64031349138697698408556034887\", ldavis_el64031349138697698408556034887_data);\n",
              "            })\n",
              "         });\n",
              "}\n",
              "</script>"
            ]
          },
          "metadata": {},
          "execution_count": 34
        }
      ]
    },
    {
      "cell_type": "markdown",
      "source": [
        "Successful ! We have essentially found out meaningful data patterns from a huge chunk of text data."
      ],
      "metadata": {
        "id": "pLpjoiSOTHOE"
      }
    },
    {
      "cell_type": "markdown",
      "source": [],
      "metadata": {
        "id": "ZGvQWPkUTNXe"
      }
    }
  ]
}