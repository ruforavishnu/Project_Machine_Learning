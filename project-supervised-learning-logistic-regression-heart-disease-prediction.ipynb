{
 "cells": [
  {
   "cell_type": "code",
   "execution_count": 2,
   "metadata": {},
   "outputs": [
    {
     "name": "stdout",
     "output_type": "stream",
     "text": [
      "   male  age  education  currentSmoker  cigsPerDay  BPMeds  prevalentStroke  \\\n",
      "0     1   39        4.0              0         0.0     0.0                0   \n",
      "1     0   46        2.0              0         0.0     0.0                0   \n",
      "2     1   48        1.0              1        20.0     0.0                0   \n",
      "3     0   61        3.0              1        30.0     0.0                0   \n",
      "4     0   46        3.0              1        23.0     0.0                0   \n",
      "\n",
      "   prevalentHyp  diabetes  totChol  sysBP  diaBP    BMI  heartRate  glucose  \\\n",
      "0             0         0    195.0  106.0   70.0  26.97       80.0     77.0   \n",
      "1             0         0    250.0  121.0   81.0  28.73       95.0     76.0   \n",
      "2             0         0    245.0  127.5   80.0  25.34       75.0     70.0   \n",
      "3             1         0    225.0  150.0   95.0  28.58       65.0    103.0   \n",
      "4             0         0    285.0  130.0   84.0  23.10       85.0     85.0   \n",
      "\n",
      "   TenYearCHD  \n",
      "0           0  \n",
      "1           0  \n",
      "2           0  \n",
      "3           1  \n",
      "4           0  \n"
     ]
    }
   ],
   "source": [
    "import pandas as pd\n",
    "\n",
    "data = pd.read_csv('heart-disease-prediction.csv')\n",
    "print(data.head())"
   ]
  },
  {
   "cell_type": "markdown",
   "metadata": {},
   "source": [
    "Explore the Data"
   ]
  },
  {
   "cell_type": "code",
   "execution_count": 3,
   "metadata": {},
   "outputs": [
    {
     "name": "stdout",
     "output_type": "stream",
     "text": [
      "<class 'pandas.core.frame.DataFrame'>\n",
      "RangeIndex: 4238 entries, 0 to 4237\n",
      "Data columns (total 16 columns):\n",
      " #   Column           Non-Null Count  Dtype  \n",
      "---  ------           --------------  -----  \n",
      " 0   male             4238 non-null   int64  \n",
      " 1   age              4238 non-null   int64  \n",
      " 2   education        4133 non-null   float64\n",
      " 3   currentSmoker    4238 non-null   int64  \n",
      " 4   cigsPerDay       4209 non-null   float64\n",
      " 5   BPMeds           4185 non-null   float64\n",
      " 6   prevalentStroke  4238 non-null   int64  \n",
      " 7   prevalentHyp     4238 non-null   int64  \n",
      " 8   diabetes         4238 non-null   int64  \n",
      " 9   totChol          4188 non-null   float64\n",
      " 10  sysBP            4238 non-null   float64\n",
      " 11  diaBP            4238 non-null   float64\n",
      " 12  BMI              4219 non-null   float64\n",
      " 13  heartRate        4237 non-null   float64\n",
      " 14  glucose          3850 non-null   float64\n",
      " 15  TenYearCHD       4238 non-null   int64  \n",
      "dtypes: float64(9), int64(7)\n",
      "memory usage: 529.9 KB\n",
      "None\n"
     ]
    }
   ],
   "source": [
    "print(data.info())"
   ]
  },
  {
   "cell_type": "code",
   "execution_count": 5,
   "metadata": {},
   "outputs": [
    {
     "name": "stdout",
     "output_type": "stream",
     "text": [
      "              male          age    education  currentSmoker   cigsPerDay  \\\n",
      "count  4238.000000  4238.000000  4133.000000    4238.000000  4209.000000   \n",
      "mean      0.429212    49.584946     1.978950       0.494101     9.003089   \n",
      "std       0.495022     8.572160     1.019791       0.500024    11.920094   \n",
      "min       0.000000    32.000000     1.000000       0.000000     0.000000   \n",
      "25%       0.000000    42.000000     1.000000       0.000000     0.000000   \n",
      "50%       0.000000    49.000000     2.000000       0.000000     0.000000   \n",
      "75%       1.000000    56.000000     3.000000       1.000000    20.000000   \n",
      "max       1.000000    70.000000     4.000000       1.000000    70.000000   \n",
      "\n",
      "            BPMeds  prevalentStroke  prevalentHyp     diabetes      totChol  \\\n",
      "count  4185.000000      4238.000000   4238.000000  4238.000000  4188.000000   \n",
      "mean      0.029630         0.005899      0.310524     0.025720   236.721585   \n",
      "std       0.169584         0.076587      0.462763     0.158316    44.590334   \n",
      "min       0.000000         0.000000      0.000000     0.000000   107.000000   \n",
      "25%       0.000000         0.000000      0.000000     0.000000   206.000000   \n",
      "50%       0.000000         0.000000      0.000000     0.000000   234.000000   \n",
      "75%       0.000000         0.000000      1.000000     0.000000   263.000000   \n",
      "max       1.000000         1.000000      1.000000     1.000000   696.000000   \n",
      "\n",
      "             sysBP        diaBP          BMI    heartRate      glucose  \\\n",
      "count  4238.000000  4238.000000  4219.000000  4237.000000  3850.000000   \n",
      "mean    132.352407    82.893464    25.802008    75.878924    81.966753   \n",
      "std      22.038097    11.910850     4.080111    12.026596    23.959998   \n",
      "min      83.500000    48.000000    15.540000    44.000000    40.000000   \n",
      "25%     117.000000    75.000000    23.070000    68.000000    71.000000   \n",
      "50%     128.000000    82.000000    25.400000    75.000000    78.000000   \n",
      "75%     144.000000    89.875000    28.040000    83.000000    87.000000   \n",
      "max     295.000000   142.500000    56.800000   143.000000   394.000000   \n",
      "\n",
      "        TenYearCHD  \n",
      "count  4238.000000  \n",
      "mean      0.151958  \n",
      "std       0.359023  \n",
      "min       0.000000  \n",
      "25%       0.000000  \n",
      "50%       0.000000  \n",
      "75%       0.000000  \n",
      "max       1.000000  \n"
     ]
    }
   ],
   "source": [
    "print(data.describe())"
   ]
  },
  {
   "cell_type": "markdown",
   "metadata": {},
   "source": [
    "Handle Missing Data"
   ]
  },
  {
   "cell_type": "code",
   "execution_count": 6,
   "metadata": {},
   "outputs": [
    {
     "name": "stdout",
     "output_type": "stream",
     "text": [
      "male                 0\n",
      "age                  0\n",
      "education          105\n",
      "currentSmoker        0\n",
      "cigsPerDay          29\n",
      "BPMeds              53\n",
      "prevalentStroke      0\n",
      "prevalentHyp         0\n",
      "diabetes             0\n",
      "totChol             50\n",
      "sysBP                0\n",
      "diaBP                0\n",
      "BMI                 19\n",
      "heartRate            1\n",
      "glucose            388\n",
      "TenYearCHD           0\n",
      "dtype: int64\n"
     ]
    }
   ],
   "source": [
    "print(data.isnull().sum())"
   ]
  },
  {
   "cell_type": "code",
   "execution_count": 7,
   "metadata": {},
   "outputs": [],
   "source": [
    "data.fillna(data.mean(), inplace=True)"
   ]
  },
  {
   "cell_type": "code",
   "execution_count": 8,
   "metadata": {},
   "outputs": [
    {
     "name": "stdout",
     "output_type": "stream",
     "text": [
      "male               0\n",
      "age                0\n",
      "education          0\n",
      "currentSmoker      0\n",
      "cigsPerDay         0\n",
      "BPMeds             0\n",
      "prevalentStroke    0\n",
      "prevalentHyp       0\n",
      "diabetes           0\n",
      "totChol            0\n",
      "sysBP              0\n",
      "diaBP              0\n",
      "BMI                0\n",
      "heartRate          0\n",
      "glucose            0\n",
      "TenYearCHD         0\n",
      "dtype: int64\n"
     ]
    }
   ],
   "source": [
    "print(data.isnull().sum())"
   ]
  },
  {
   "cell_type": "markdown",
   "metadata": {},
   "source": [
    "Preprocess the Data\n"
   ]
  },
  {
   "cell_type": "code",
   "execution_count": 9,
   "metadata": {},
   "outputs": [
    {
     "data": {
      "text/plain": [
       "Index(['male', 'age', 'education', 'currentSmoker', 'cigsPerDay', 'BPMeds',\n",
       "       'prevalentStroke', 'prevalentHyp', 'diabetes', 'totChol', 'sysBP',\n",
       "       'diaBP', 'BMI', 'heartRate', 'glucose', 'TenYearCHD'],\n",
       "      dtype='object')"
      ]
     },
     "execution_count": 9,
     "metadata": {},
     "output_type": "execute_result"
    }
   ],
   "source": [
    "data.columns"
   ]
  },
  {
   "cell_type": "code",
   "execution_count": 11,
   "metadata": {},
   "outputs": [],
   "source": [
    "X = data[['age', 'totChol','sysBP','diaBP', 'cigsPerDay','BMI','glucose']]\n",
    "y = data['TenYearCHD']\n",
    "\n",
    "\n"
   ]
  },
  {
   "cell_type": "code",
   "execution_count": 12,
   "metadata": {},
   "outputs": [
    {
     "data": {
      "text/html": [
       "<div>\n",
       "<style scoped>\n",
       "    .dataframe tbody tr th:only-of-type {\n",
       "        vertical-align: middle;\n",
       "    }\n",
       "\n",
       "    .dataframe tbody tr th {\n",
       "        vertical-align: top;\n",
       "    }\n",
       "\n",
       "    .dataframe thead th {\n",
       "        text-align: right;\n",
       "    }\n",
       "</style>\n",
       "<table border=\"1\" class=\"dataframe\">\n",
       "  <thead>\n",
       "    <tr style=\"text-align: right;\">\n",
       "      <th></th>\n",
       "      <th>age</th>\n",
       "      <th>totChol</th>\n",
       "      <th>sysBP</th>\n",
       "      <th>diaBP</th>\n",
       "      <th>cigsPerDay</th>\n",
       "      <th>BMI</th>\n",
       "      <th>glucose</th>\n",
       "    </tr>\n",
       "  </thead>\n",
       "  <tbody>\n",
       "    <tr>\n",
       "      <th>0</th>\n",
       "      <td>39</td>\n",
       "      <td>195.0</td>\n",
       "      <td>106.0</td>\n",
       "      <td>70.0</td>\n",
       "      <td>0.0</td>\n",
       "      <td>26.97</td>\n",
       "      <td>77.0</td>\n",
       "    </tr>\n",
       "    <tr>\n",
       "      <th>1</th>\n",
       "      <td>46</td>\n",
       "      <td>250.0</td>\n",
       "      <td>121.0</td>\n",
       "      <td>81.0</td>\n",
       "      <td>0.0</td>\n",
       "      <td>28.73</td>\n",
       "      <td>76.0</td>\n",
       "    </tr>\n",
       "    <tr>\n",
       "      <th>2</th>\n",
       "      <td>48</td>\n",
       "      <td>245.0</td>\n",
       "      <td>127.5</td>\n",
       "      <td>80.0</td>\n",
       "      <td>20.0</td>\n",
       "      <td>25.34</td>\n",
       "      <td>70.0</td>\n",
       "    </tr>\n",
       "    <tr>\n",
       "      <th>3</th>\n",
       "      <td>61</td>\n",
       "      <td>225.0</td>\n",
       "      <td>150.0</td>\n",
       "      <td>95.0</td>\n",
       "      <td>30.0</td>\n",
       "      <td>28.58</td>\n",
       "      <td>103.0</td>\n",
       "    </tr>\n",
       "    <tr>\n",
       "      <th>4</th>\n",
       "      <td>46</td>\n",
       "      <td>285.0</td>\n",
       "      <td>130.0</td>\n",
       "      <td>84.0</td>\n",
       "      <td>23.0</td>\n",
       "      <td>23.10</td>\n",
       "      <td>85.0</td>\n",
       "    </tr>\n",
       "  </tbody>\n",
       "</table>\n",
       "</div>"
      ],
      "text/plain": [
       "   age  totChol  sysBP  diaBP  cigsPerDay    BMI  glucose\n",
       "0   39    195.0  106.0   70.0         0.0  26.97     77.0\n",
       "1   46    250.0  121.0   81.0         0.0  28.73     76.0\n",
       "2   48    245.0  127.5   80.0        20.0  25.34     70.0\n",
       "3   61    225.0  150.0   95.0        30.0  28.58    103.0\n",
       "4   46    285.0  130.0   84.0        23.0  23.10     85.0"
      ]
     },
     "execution_count": 12,
     "metadata": {},
     "output_type": "execute_result"
    }
   ],
   "source": [
    "X.head()"
   ]
  },
  {
   "cell_type": "markdown",
   "metadata": {},
   "source": [
    "Normalize the features for better model performance"
   ]
  },
  {
   "cell_type": "code",
   "execution_count": 13,
   "metadata": {},
   "outputs": [],
   "source": [
    "from sklearn.preprocessing import StandardScaler\n",
    "\n",
    "scaler = StandardScaler()\n",
    "X = scaler.fit_transform(X)"
   ]
  },
  {
   "cell_type": "code",
   "execution_count": 14,
   "metadata": {},
   "outputs": [
    {
     "data": {
      "text/plain": [
       "array([[-1.23495068, -0.94134554, -1.19590711, ..., -0.75797428,\n",
       "         0.28694273, -0.21751656],\n",
       "       [-0.41825733,  0.29959495, -0.51518725, ..., -0.75797428,\n",
       "         0.71932499, -0.26131108],\n",
       "       [-0.18491638,  0.18678218, -0.22020864, ...,  0.92583516,\n",
       "        -0.11350221, -0.52407818],\n",
       "       ...,\n",
       "       [-0.18491638,  0.25446984, -0.06137401, ...,  0.92583516,\n",
       "        -0.93404582,  0.17663409],\n",
       "       [-0.65159829, -0.60290723, -0.26558997, ...,  0.5048828 ,\n",
       "        -1.63175357,  0.        ],\n",
       "       [ 0.28176554,  0.72828348,  0.0520793 , ..., -0.75797428,\n",
       "        -1.06425185,  1.09631895]])"
      ]
     },
     "execution_count": 14,
     "metadata": {},
     "output_type": "execute_result"
    }
   ],
   "source": [
    "X"
   ]
  },
  {
   "cell_type": "markdown",
   "metadata": {},
   "source": [
    " Split the Data"
   ]
  },
  {
   "cell_type": "code",
   "execution_count": 15,
   "metadata": {},
   "outputs": [],
   "source": [
    "from sklearn.model_selection import train_test_split\n",
    "\n",
    "X_train, X_test, y_train, y_test = train_test_split(X, y, test_size=0.2, random_state=42)\n"
   ]
  },
  {
   "cell_type": "code",
   "execution_count": 16,
   "metadata": {},
   "outputs": [
    {
     "data": {
      "text/plain": [
       "array([[-1.11828021, -0.71572   , -0.06137401, ...,  1.76773988,\n",
       "        -0.50657699,  0.22042861],\n",
       "       [ 0.86511793,  0.29959495,  0.91432445, ..., -0.75797428,\n",
       "         1.59882983,  0.52699023],\n",
       "       [-0.30158686, -0.15165614, -0.4244246 , ..., -0.75797428,\n",
       "         0.28939945, -0.39269463],\n",
       "       ...,\n",
       "       [ 1.21512937,  1.38259756,  0.02938864, ..., -0.75797428,\n",
       "        -0.17492014, -0.04233849],\n",
       "       [-1.23495068, -0.49009446, -1.3774324 , ...,  0.08393044,\n",
       "        -0.31986647, -0.87443431],\n",
       "       [-1.7016326 ,  0.25446984, -1.15052578, ..., -0.75797428,\n",
       "        -1.26815939, -0.08613301]])"
      ]
     },
     "execution_count": 16,
     "metadata": {},
     "output_type": "execute_result"
    }
   ],
   "source": [
    "X_train"
   ]
  },
  {
   "cell_type": "markdown",
   "metadata": {},
   "source": [
    "Train the Logistic Regression Model"
   ]
  },
  {
   "cell_type": "code",
   "execution_count": 17,
   "metadata": {},
   "outputs": [
    {
     "data": {
      "text/plain": [
       "LogisticRegression()"
      ]
     },
     "execution_count": 17,
     "metadata": {},
     "output_type": "execute_result"
    }
   ],
   "source": [
    "from sklearn.linear_model import LogisticRegression\n",
    "\n",
    "model = LogisticRegression()\n",
    "model.fit(X_train, y_train)\n",
    "\n"
   ]
  },
  {
   "cell_type": "markdown",
   "metadata": {},
   "source": [
    "Evaluate the Model"
   ]
  },
  {
   "cell_type": "code",
   "execution_count": 18,
   "metadata": {},
   "outputs": [],
   "source": [
    "y_pred = model.predict(X_test)\n"
   ]
  },
  {
   "cell_type": "markdown",
   "metadata": {},
   "source": [
    "Generate evaluation metrics"
   ]
  },
  {
   "cell_type": "code",
   "execution_count": 19,
   "metadata": {},
   "outputs": [
    {
     "name": "stdout",
     "output_type": "stream",
     "text": [
      "              precision    recall  f1-score   support\n",
      "\n",
      "           0       0.86      0.99      0.92       724\n",
      "           1       0.55      0.05      0.09       124\n",
      "\n",
      "    accuracy                           0.85       848\n",
      "   macro avg       0.70      0.52      0.51       848\n",
      "weighted avg       0.81      0.85      0.80       848\n",
      "\n",
      "ROC-AUC-score: 0.695252628764926\n"
     ]
    }
   ],
   "source": [
    "from sklearn.metrics import classification_report , roc_auc_score\n",
    "\n",
    "print(classification_report(y_test, y_pred))\n",
    "print('ROC-AUC-score:', roc_auc_score(y_test, model.predict_proba(X_test)[:, 1]))\n"
   ]
  },
  {
   "cell_type": "markdown",
   "metadata": {},
   "source": [
    "Test the Model with New Data"
   ]
  },
  {
   "cell_type": "code",
   "execution_count": 20,
   "metadata": {},
   "outputs": [
    {
     "data": {
      "text/plain": [
       "Index(['male', 'age', 'education', 'currentSmoker', 'cigsPerDay', 'BPMeds',\n",
       "       'prevalentStroke', 'prevalentHyp', 'diabetes', 'totChol', 'sysBP',\n",
       "       'diaBP', 'BMI', 'heartRate', 'glucose', 'TenYearCHD'],\n",
       "      dtype='object')"
      ]
     },
     "execution_count": 20,
     "metadata": {},
     "output_type": "execute_result"
    }
   ],
   "source": [
    "data.columns"
   ]
  },
  {
   "cell_type": "code",
   "execution_count": 21,
   "metadata": {},
   "outputs": [],
   "source": [
    "import random"
   ]
  },
  {
   "cell_type": "code",
   "execution_count": 22,
   "metadata": {},
   "outputs": [
    {
     "data": {
      "text/plain": [
       "16"
      ]
     },
     "execution_count": 22,
     "metadata": {},
     "output_type": "execute_result"
    }
   ],
   "source": [
    "len(data.columns)"
   ]
  },
  {
   "cell_type": "code",
   "execution_count": 50,
   "metadata": {},
   "outputs": [],
   "source": [
    "patient2 = [[45, 210, 130, 85, 10, 25.1, 95]]\n",
    "patient2_df = pd.DataFrame(patient2, columns=['age','totChol', 'sysBP','diaBP', 'cigsPerDay', 'BMI','glucose'])\n",
    "patient2_scaled = scaler.transform(patient2_df)"
   ]
  },
  {
   "cell_type": "code",
   "execution_count": 56,
   "metadata": {},
   "outputs": [],
   "source": [
    "patient3 = [[65, 250, 155, 100, 15, 32.0, 150]]\n",
    "patient3_df = pd.DataFrame(patient3, columns=['age','totChol', 'sysBP','diaBP', 'cigsPerDay', 'BMI','glucose'])\n",
    "patient3_scaled = scaler.transform(patient3_df)"
   ]
  },
  {
   "cell_type": "code",
   "execution_count": 59,
   "metadata": {},
   "outputs": [],
   "source": [
    "patient4 = [[55, 240, 140, 90, 10, 29.5, 110]]\n",
    "patient4_df = pd.DataFrame(patient4, columns=['age','totChol', 'sysBP','diaBP', 'cigsPerDay', 'BMI','glucose'])\n",
    "patient4_scaled = scaler.transform(patient4_df)"
   ]
  },
  {
   "cell_type": "code",
   "execution_count": 62,
   "metadata": {},
   "outputs": [],
   "source": [
    "patient5 = [[70, 300, 160, 105, 20, 34.0, 180]]\n",
    "patient5_df = pd.DataFrame(patient5, columns=['age','totChol', 'sysBP','diaBP', 'cigsPerDay', 'BMI','glucose'])\n",
    "patient5_scaled = scaler.transform(patient4_df)"
   ]
  },
  {
   "cell_type": "code",
   "execution_count": 63,
   "metadata": {},
   "outputs": [],
   "source": [
    "currrent_patient = patient5_scaled"
   ]
  },
  {
   "cell_type": "code",
   "execution_count": 64,
   "metadata": {},
   "outputs": [
    {
     "name": "stdout",
     "output_type": "stream",
     "text": [
      "The chances the patient might have a heart disease in the future is: False\n"
     ]
    }
   ],
   "source": [
    "prediction = model.predict(currrent_patient)\n",
    "\n",
    "# print(f'Prediction (1=Heart Disease, 0=No Heart Disease): {prediction[0]}')\n",
    "if prediction[0] == 1:\n",
    "    print('The chances the patient might have a heart disease in the future is: True')\n",
    "else:\n",
    "    print('The chances the patient might have a heart disease in the future is: False')        \n",
    "\n",
    "    "
   ]
  }
 ],
 "metadata": {
  "kernelspec": {
   "display_name": "Python 3",
   "language": "python",
   "name": "python3"
  },
  "language_info": {
   "codemirror_mode": {
    "name": "ipython",
    "version": 3
   },
   "file_extension": ".py",
   "mimetype": "text/x-python",
   "name": "python",
   "nbconvert_exporter": "python",
   "pygments_lexer": "ipython3",
   "version": "3.9.7"
  }
 },
 "nbformat": 4,
 "nbformat_minor": 2
}
