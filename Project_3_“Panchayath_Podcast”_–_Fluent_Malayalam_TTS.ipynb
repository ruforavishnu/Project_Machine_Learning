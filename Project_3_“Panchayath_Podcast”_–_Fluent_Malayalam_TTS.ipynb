{
  "nbformat": 4,
  "nbformat_minor": 0,
  "metadata": {
    "colab": {
      "provenance": [],
      "authorship_tag": "ABX9TyO7puxdumTZki4x/FMJMbAR",
      "include_colab_link": true
    },
    "kernelspec": {
      "name": "python3",
      "display_name": "Python 3"
    },
    "language_info": {
      "name": "python"
    }
  },
  "cells": [
    {
      "cell_type": "markdown",
      "metadata": {
        "id": "view-in-github",
        "colab_type": "text"
      },
      "source": [
        "<a href=\"https://colab.research.google.com/github/ruforavishnu/Project_Machine_Learning/blob/master/Project_3_%E2%80%9CPanchayath_Podcast%E2%80%9D_%E2%80%93_Fluent_Malayalam_TTS.ipynb\" target=\"_parent\"><img src=\"https://colab.research.google.com/assets/colab-badge.svg\" alt=\"Open In Colab\"/></a>"
      ]
    },
    {
      "cell_type": "code",
      "execution_count": 1,
      "metadata": {
        "colab": {
          "base_uri": "https://localhost:8080/"
        },
        "id": "RUeDWZ1wkzT8",
        "outputId": "20586387-f4cd-452f-b25f-3634a5eadc40"
      },
      "outputs": [
        {
          "output_type": "stream",
          "name": "stdout",
          "text": [
            "Collecting gTTS\n",
            "  Downloading gTTS-2.5.4-py3-none-any.whl.metadata (4.1 kB)\n",
            "Collecting pydub\n",
            "  Downloading pydub-0.25.1-py2.py3-none-any.whl.metadata (1.4 kB)\n",
            "Requirement already satisfied: requests<3,>=2.27 in /usr/local/lib/python3.11/dist-packages (from gTTS) (2.32.3)\n",
            "Requirement already satisfied: click<8.2,>=7.1 in /usr/local/lib/python3.11/dist-packages (from gTTS) (8.1.8)\n",
            "Requirement already satisfied: charset-normalizer<4,>=2 in /usr/local/lib/python3.11/dist-packages (from requests<3,>=2.27->gTTS) (3.4.1)\n",
            "Requirement already satisfied: idna<4,>=2.5 in /usr/local/lib/python3.11/dist-packages (from requests<3,>=2.27->gTTS) (3.10)\n",
            "Requirement already satisfied: urllib3<3,>=1.21.1 in /usr/local/lib/python3.11/dist-packages (from requests<3,>=2.27->gTTS) (2.3.0)\n",
            "Requirement already satisfied: certifi>=2017.4.17 in /usr/local/lib/python3.11/dist-packages (from requests<3,>=2.27->gTTS) (2025.1.31)\n",
            "Downloading gTTS-2.5.4-py3-none-any.whl (29 kB)\n",
            "Downloading pydub-0.25.1-py2.py3-none-any.whl (32 kB)\n",
            "Installing collected packages: pydub, gTTS\n",
            "Successfully installed gTTS-2.5.4 pydub-0.25.1\n"
          ]
        }
      ],
      "source": [
        "pip install gTTS pydub\n"
      ]
    },
    {
      "cell_type": "code",
      "source": [
        "podcast_text_str = 'നമസ്കാരം സുഹൃത്തുക്കളെ! ഇന്ന് നാം ഒരു പോഡ്കാസ്റ്റ് പോലെയുള്ള പ്രോജക്റ്റ് ചെയ്യുകയാണ്. ഓരോ വാക്യത്തിനും ഇടയിൽ കുറച്ചു പാസ് വേണം, അതിനാൽ കേൾക്കാൻ സ്വാഭാവികമായിരിക്കും. ഇത് വളരെ എളുപ്പമാണ്.'\n",
        "\n"
      ],
      "metadata": {
        "id": "D5cHl46fr7M6"
      },
      "execution_count": 2,
      "outputs": []
    },
    {
      "cell_type": "code",
      "source": [
        "with open('malayalam_paragraph.txt', 'a') as f:\n",
        "  f.write(podcast_text_str)"
      ],
      "metadata": {
        "id": "ggCHIrb5wGRg"
      },
      "execution_count": 4,
      "outputs": []
    },
    {
      "cell_type": "code",
      "source": [
        "from gtts import gTTS\n",
        "from pydub import AudioSegment\n",
        "from pydub.playback import play\n",
        "import os\n",
        "\n",
        "with open('malayalam_paragraph.txt', 'r', encoding='utf-8') as f:\n",
        "  full_text = f.read()\n",
        "\n",
        "print(full_text)\n"
      ],
      "metadata": {
        "colab": {
          "base_uri": "https://localhost:8080/"
        },
        "id": "KpFfEzCzsAFR",
        "outputId": "f38d0f3d-d98c-4fed-9fa0-a607f262b5ec"
      },
      "execution_count": 7,
      "outputs": [
        {
          "output_type": "stream",
          "name": "stdout",
          "text": [
            "നമസ്കാരം സുഹൃത്തുക്കളെ! ഇന്ന് നാം ഒരു പോഡ്കാസ്റ്റ് പോലെയുള്ള പ്രോജക്റ്റ് ചെയ്യുകയാണ്. ഓരോ വാക്യത്തിനും ഇടയിൽ കുറച്ചു പാസ് വേണം, അതിനാൽ കേൾക്കാൻ സ്വാഭാവികമായിരിക്കും. ഇത് വളരെ എളുപ്പമാണ്.\n"
          ]
        }
      ]
    },
    {
      "cell_type": "markdown",
      "source": [
        "# Step 2: Split into sentences"
      ],
      "metadata": {
        "id": "5ts1rTyBwtBO"
      }
    },
    {
      "cell_type": "code",
      "source": [
        "import re\n",
        "sentences = re.split(r'(?<=[.!?…])( )', full_text)  # keeps punctuation\n",
        "grouped_sentences = [''.join(pair) for pair in zip(sentences[::2], sentences[1::2])] if len(sentences) > 1 else sentences\n",
        "\n",
        "print(grouped_sentences)"
      ],
      "metadata": {
        "colab": {
          "base_uri": "https://localhost:8080/"
        },
        "id": "3OUlEei-wktN",
        "outputId": "9cfd0a9c-8f2f-452e-e483-023bf5075f2d"
      },
      "execution_count": 9,
      "outputs": [
        {
          "output_type": "stream",
          "name": "stdout",
          "text": [
            "['നമസ്കാരം സുഹൃത്തുക്കളെ! ', 'ഇന്ന് നാം ഒരു പോഡ്കാസ്റ്റ് പോലെയുള്ള പ്രോജക്റ്റ് ചെയ്യുകയാണ്. ', 'ഓരോ വാക്യത്തിനും ഇടയിൽ കുറച്ചു പാസ് വേണം, അതിനാൽ കേൾക്കാൻ സ്വാഭാവികമായിരിക്കും. ']\n"
          ]
        }
      ]
    },
    {
      "cell_type": "markdown",
      "source": [
        "# Step 3: Generate TTS for each sentence"
      ],
      "metadata": {
        "id": "38bLtyr7xJ92"
      }
    },
    {
      "cell_type": "code",
      "source": [
        "audio_clips = []\n",
        "\n",
        "for i, sentence in enumerate(grouped_sentences):\n",
        "  print(f'Generating TTS for sentence {i+1}: {sentence}')\n",
        "  tts = gTTS(text=sentence.strip(), lang='ml')\n",
        "  filename = f'clip_{i}.mp3'\n",
        "  tts.save(filename)\n",
        "  audio = AudioSegment.from_mp3(filename)\n",
        "  audio_clips.append(audio)\n",
        "  os.remove(filename)\n",
        ""
      ],
      "metadata": {
        "colab": {
          "base_uri": "https://localhost:8080/"
        },
        "id": "a1o4WJwIxKnO",
        "outputId": "264e69ee-f71c-4f1c-e342-76804622073f"
      },
      "execution_count": 10,
      "outputs": [
        {
          "output_type": "stream",
          "name": "stdout",
          "text": [
            "Generating TTS for sentence 1: നമസ്കാരം സുഹൃത്തുക്കളെ! \n",
            "Generating TTS for sentence 2: ഇന്ന് നാം ഒരു പോഡ്കാസ്റ്റ് പോലെയുള്ള പ്രോജക്റ്റ് ചെയ്യുകയാണ്. \n",
            "Generating TTS for sentence 3: ഓരോ വാക്യത്തിനും ഇടയിൽ കുറച്ചു പാസ് വേണം, അതിനാൽ കേൾക്കാൻ സ്വാഭാവികമായിരിക്കും. \n"
          ]
        }
      ]
    },
    {
      "cell_type": "markdown",
      "source": [
        "# Step 4: Add silence between sentences"
      ],
      "metadata": {
        "id": "4qUqSu6OxtuX"
      }
    },
    {
      "cell_type": "code",
      "source": [
        "pause = AudioSegment.silent(duration=800)\n"
      ],
      "metadata": {
        "id": "CYFitRgHxuUl"
      },
      "execution_count": 12,
      "outputs": []
    },
    {
      "cell_type": "markdown",
      "source": [
        "# Step 5: Combine all clips"
      ],
      "metadata": {
        "id": "v2k1fsgOx2fm"
      }
    },
    {
      "cell_type": "code",
      "source": [
        "combined = AudioSegment.empty()\n",
        "for clip in audio_clips:\n",
        "  combined += clip + pause\n",
        "\n",
        ""
      ],
      "metadata": {
        "id": "DbW366yix3WN"
      },
      "execution_count": 13,
      "outputs": []
    },
    {
      "cell_type": "markdown",
      "source": [
        "# Step 6: Export final output"
      ],
      "metadata": {
        "id": "ISsrazEdyDE-"
      }
    },
    {
      "cell_type": "code",
      "source": [
        "combined.export('panchayath_podcast_output.mp3', format='mp3')\n",
        "print('✅ Panchayath style podcast generated')\n",
        "\n",
        "#Play it\n",
        "play(combined)"
      ],
      "metadata": {
        "colab": {
          "base_uri": "https://localhost:8080/"
        },
        "id": "4d-MQVsQyEJE",
        "outputId": "50d70076-6c72-48aa-f64e-b955f623b65f"
      },
      "execution_count": 14,
      "outputs": [
        {
          "output_type": "stream",
          "name": "stdout",
          "text": [
            "✅ Panchayath style podcast generated\n"
          ]
        }
      ]
    }
  ]
}